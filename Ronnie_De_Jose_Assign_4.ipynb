{
  "nbformat": 4,
  "nbformat_minor": 0,
  "metadata": {
    "colab": {
      "name": "Ronnie De Jose Assign 4",
      "provenance": [],
      "authorship_tag": "ABX9TyPY3Og5iVMZaRRJOQX5AE/P",
      "include_colab_link": true
    },
    "kernelspec": {
      "name": "python3",
      "display_name": "Python 3"
    },
    "language_info": {
      "name": "python"
    }
  },
  "cells": [
    {
      "cell_type": "markdown",
      "metadata": {
        "id": "view-in-github",
        "colab_type": "text"
      },
      "source": [
        "<a href=\"https://colab.research.google.com/github/ronniedejose/Finallinear/blob/main/Ronnie_De_Jose_Assign_4.ipynb\" target=\"_parent\"><img src=\"https://colab.research.google.com/assets/colab-badge.svg\" alt=\"Open In Colab\"/></a>"
      ]
    },
    {
      "cell_type": "markdown",
      "metadata": {
        "id": "gIYB4LsF5AUc"
      },
      "source": [
        "# **Linear Algebra Lab Activity 4**\n",
        "\n",
        "Matrices which is the plural word of Matrix, which also refers to a rectangular array of numbers matrices is also compact which enables it to write and work with multiple linear equations, or system of linear equation\n",
        "\n",
        "\n",
        "\n",
        "\n"
      ]
    },
    {
      "cell_type": "markdown",
      "metadata": {
        "id": "12XtDr9u5dMu"
      },
      "source": [
        "# **Lab Activity Objectives**\n",
        "At the end of this activity you will be able to:\n",
        "\n",
        "1.   Be familiar with matrices and their relation to linear equations.\n",
        "2.   Perform basic matrix operations.\n",
        "3. Program and translate matrix equations and operations using Python.\n",
        "\n",
        "\n"
      ]
    },
    {
      "cell_type": "code",
      "metadata": {
        "id": "JHLEJ4OP5w4a"
      },
      "source": [
        "import numpy as np\n",
        "import matplotlib.pyplot as plt\n",
        "import scipy.linalg as la\n",
        "%matplotlib inline"
      ],
      "execution_count": 63,
      "outputs": []
    },
    {
      "cell_type": "markdown",
      "metadata": {
        "id": "YIzzoHvEWsHg"
      },
      "source": [
        "# **Row and Column Matrices**"
      ]
    },
    {
      "cell_type": "code",
      "metadata": {
        "id": "Wrd_S3a_VUGD"
      },
      "source": [
        "def pogiko(matrix):\n",
        "    print(f'Matrix:\\n{matrix}\\n\\nShape:\\t{matrix.shape}\\nRank:\\t{matrix.ndim}\\n')"
      ],
      "execution_count": 69,
      "outputs": []
    },
    {
      "cell_type": "code",
      "metadata": {
        "colab": {
          "base_uri": "https://localhost:8080/"
        },
        "id": "1N7rbpjNVb7-",
        "outputId": "be52a40b-b64e-4853-e4a0-e401323cff20"
      },
      "source": [
        "a = np.array([\n",
        "    [1,1],\n",
        "    [2,2]\n",
        "])\n",
        "pogiko (a)"
      ],
      "execution_count": 70,
      "outputs": [
        {
          "output_type": "stream",
          "name": "stdout",
          "text": [
            "Matrix:\n",
            "[[1 1]\n",
            " [2 2]]\n",
            "\n",
            "Shape:\t(2, 2)\n",
            "Rank:\t2\n",
            "\n"
          ]
        }
      ]
    },
    {
      "cell_type": "code",
      "metadata": {
        "colab": {
          "base_uri": "https://localhost:8080/"
        },
        "id": "knl54FaPVdbE",
        "outputId": "17d365df-b8b5-4fc1-969c-f642cabdcfa3"
      },
      "source": [
        "# Declaring a 3 x 2 matrix\n",
        "b = np.array([\n",
        "    [8, 2],\n",
        "    [5, 4],\n",
        "    [1, 1]\n",
        "])\n",
        "pogiko(b)"
      ],
      "execution_count": 71,
      "outputs": [
        {
          "output_type": "stream",
          "name": "stdout",
          "text": [
            "Matrix:\n",
            "[[8 2]\n",
            " [5 4]\n",
            " [1 1]]\n",
            "\n",
            "Shape:\t(3, 2)\n",
            "Rank:\t2\n",
            "\n"
          ]
        }
      ]
    },
    {
      "cell_type": "code",
      "metadata": {
        "colab": {
          "base_uri": "https://localhost:8080/"
        },
        "id": "0xHg9q5JV45I",
        "outputId": "c3a3854b-0744-45b8-8ea0-f5b6b4bef55e"
      },
      "source": [
        "c = np.array([1,2,3,4,5])\n",
        "pogiko(c)"
      ],
      "execution_count": 72,
      "outputs": [
        {
          "output_type": "stream",
          "name": "stdout",
          "text": [
            "Matrix:\n",
            "[1 2 3 4 5]\n",
            "\n",
            "Shape:\t(5,)\n",
            "Rank:\t1\n",
            "\n"
          ]
        }
      ]
    },
    {
      "cell_type": "code",
      "metadata": {
        "colab": {
          "base_uri": "https://localhost:8080/"
        },
        "id": "vOmgwWSOV-35",
        "outputId": "85cf6d75-4cf4-4b56-e678-86a85812ede0"
      },
      "source": [
        "# Declaring a Rox matrix\n",
        "\n",
        "pogiko1 = np.array([\n",
        "    1, 3, 2\n",
        "]) \n",
        "# this 1-D Matrix, a shape of (3,), not  considered a row matrix.\n",
        "pogiko2 = np.array([\n",
        "    [1,2,3]                \n",
        "]) \n",
        "# this2-D Matrix with a shape of (1,3)\n",
        "pogiko(pogiko1)\n",
        "pogiko(pogiko2)"
      ],
      "execution_count": 75,
      "outputs": [
        {
          "output_type": "stream",
          "name": "stdout",
          "text": [
            "Matrix:\n",
            "[1 3 2]\n",
            "\n",
            "Shape:\t(3,)\n",
            "Rank:\t1\n",
            "\n",
            "Matrix:\n",
            "[[1 2 3]]\n",
            "\n",
            "Shape:\t(1, 3)\n",
            "Rank:\t2\n",
            "\n"
          ]
        }
      ]
    },
    {
      "cell_type": "code",
      "metadata": {
        "colab": {
          "base_uri": "https://localhost:8080/"
        },
        "id": "i9-QvmZzWYh6",
        "outputId": "23f8fd6e-29fb-439f-bf71-1a43c1e2f44c"
      },
      "source": [
        "# Declaring a Col Matrix\n",
        "\n",
        "pogiko1 = np.array([\n",
        "    [1],\n",
        "    [2],\n",
        "    [5]\n",
        "]) \n",
        "# a 2-D Matrix with a shape of (3,1)\n",
        "pogiko(pogiko1)"
      ],
      "execution_count": 76,
      "outputs": [
        {
          "output_type": "stream",
          "name": "stdout",
          "text": [
            "Matrix:\n",
            "[[1]\n",
            " [2]\n",
            " [5]]\n",
            "\n",
            "Shape:\t(3, 1)\n",
            "Rank:\t2\n",
            "\n"
          ]
        }
      ]
    },
    {
      "cell_type": "markdown",
      "metadata": {
        "id": "tjBtQRJuWyvY"
      },
      "source": [
        "# **Square Matrices**"
      ]
    },
    {
      "cell_type": "code",
      "metadata": {
        "id": "3t7H_71lW2_6"
      },
      "source": [
        "def labyusir(matrix):\n",
        "    lemonsquare = True if matrix.shape[0] == matrix.shape[1] else False \n",
        "    print(f'Matrix:\\n{matrix}\\n\\nShape:\\t{matrix.shape}\\nRank:\\t{matrix.ndim}\\nIs Square: {lemonsquare}\\n')"
      ],
      "execution_count": 79,
      "outputs": []
    },
    {
      "cell_type": "code",
      "metadata": {
        "colab": {
          "base_uri": "https://localhost:8080/"
        },
        "id": "iWkyN1XAW_fv",
        "outputId": "460be41c-623e-4cdc-9a5a-1a2ba7f61851"
      },
      "source": [
        "square_mat = np.array([\n",
        "    [1,2,5],\n",
        "    [3,3,8],\n",
        "    [6,1,2]\n",
        "])\n",
        "\n",
        "non_square_mat = np.array([\n",
        "    [1,2,5],\n",
        "    [3,3,8]\n",
        "])\n",
        "labyusir(square_mat)\n",
        "labyusir(non_square_mat)"
      ],
      "execution_count": 80,
      "outputs": [
        {
          "output_type": "stream",
          "name": "stdout",
          "text": [
            "Matrix:\n",
            "[[1 2 5]\n",
            " [3 3 8]\n",
            " [6 1 2]]\n",
            "\n",
            "Shape:\t(3, 3)\n",
            "Rank:\t2\n",
            "Is Square: True\n",
            "\n",
            "Matrix:\n",
            "[[1 2 5]\n",
            " [3 3 8]]\n",
            "\n",
            "Shape:\t(2, 3)\n",
            "Rank:\t2\n",
            "Is Square: False\n",
            "\n"
          ]
        }
      ]
    },
    {
      "cell_type": "markdown",
      "metadata": {
        "id": "A9C53PDZXNCY"
      },
      "source": [
        "# **Null Matrix**"
      ]
    },
    {
      "cell_type": "code",
      "metadata": {
        "id": "xx0Hjj-UXPDS"
      },
      "source": [
        "def describe_mat(matrix):\n",
        "    if matrix.size > 0:\n",
        "        is_square = True if matrix.shape[0] == matrix.shape[1] else False \n",
        "        print(f'Matrix:\\n{matrix}\\n\\nShape:\\t{matrix.shape}\\nRank:\\t{matrix.ndim}\\nIs Square: {is_square}\\n')\n",
        "    else:\n",
        "        print('Matrix is Null')"
      ],
      "execution_count": 82,
      "outputs": []
    },
    {
      "cell_type": "code",
      "metadata": {
        "colab": {
          "base_uri": "https://localhost:8080/"
        },
        "id": "jf6K_daIX1mk",
        "outputId": "116e5bdc-fff4-4523-832e-8adbbe3e9c32"
      },
      "source": [
        "# Testing for null\n",
        "null_mat = np.array([])\n",
        "describe_mat(null_mat)"
      ],
      "execution_count": 83,
      "outputs": [
        {
          "output_type": "stream",
          "name": "stdout",
          "text": [
            "Matrix is Null\n"
          ]
        }
      ]
    },
    {
      "cell_type": "markdown",
      "metadata": {
        "id": "DZKGYZDCX88W"
      },
      "source": [
        "# **Zero Matrix**"
      ]
    },
    {
      "cell_type": "code",
      "metadata": {
        "colab": {
          "base_uri": "https://localhost:8080/"
        },
        "id": "Xp-JcZpdX_6W",
        "outputId": "5443d9b0-d493-4a5b-9ab9-23b2923802b8"
      },
      "source": [
        "zero_mat_row = np.zeros((1,2))\n",
        "zero_mat_sqr = np.zeros((2,2))\n",
        "zero_mat_rct = np.zeros((3,2))\n",
        "\n",
        "print(f'Zero Row Matrix: \\n{zero_mat_row}')\n",
        "print(f'Zero Square Matrix: \\n{zero_mat_sqr}')\n",
        "print(f'Zero Rectangular Matrix: \\n{zero_mat_rct}')"
      ],
      "execution_count": 84,
      "outputs": [
        {
          "output_type": "stream",
          "name": "stdout",
          "text": [
            "Zero Row Matrix: \n",
            "[[0. 0.]]\n",
            "Zero Square Matrix: \n",
            "[[0. 0.]\n",
            " [0. 0.]]\n",
            "Zero Rectangular Matrix: \n",
            "[[0. 0.]\n",
            " [0. 0.]\n",
            " [0. 0.]]\n"
          ]
        }
      ]
    },
    {
      "cell_type": "markdown",
      "metadata": {
        "id": "u_5CgXfuYI5q"
      },
      "source": [
        "\n",
        "# **Ones Matrix**"
      ]
    },
    {
      "cell_type": "code",
      "metadata": {
        "colab": {
          "base_uri": "https://localhost:8080/"
        },
        "id": "0mNt_gY9YMQ8",
        "outputId": "077d361b-d107-4989-84dd-df0eac9c82b2"
      },
      "source": [
        "\n",
        "ones_mat_row = np.ones((1,2))\n",
        "ones_mat_sqr = np.ones((2,2))\n",
        "ones_mat_rct = np.ones((3,2))\n",
        "\n",
        "print(f'Ones Row Matrix: \\n{ones_mat_row}')\n",
        "print(f'Ones Square Matrix: \\n{ones_mat_sqr}')\n",
        "print(f'Ones Rectangular Matrix: \\n{ones_mat_rct}')"
      ],
      "execution_count": 85,
      "outputs": [
        {
          "output_type": "stream",
          "name": "stdout",
          "text": [
            "Ones Row Matrix: \n",
            "[[1. 1.]]\n",
            "Ones Square Matrix: \n",
            "[[1. 1.]\n",
            " [1. 1.]]\n",
            "Ones Rectangular Matrix: \n",
            "[[1. 1.]\n",
            " [1. 1.]\n",
            " [1. 1.]]\n"
          ]
        }
      ]
    },
    {
      "cell_type": "markdown",
      "metadata": {
        "id": "Ig_rHgppYQK9"
      },
      "source": [
        "\n",
        "# **Diagonal Matrix**"
      ]
    },
    {
      "cell_type": "code",
      "metadata": {
        "colab": {
          "base_uri": "https://localhost:8080/"
        },
        "id": "CA0WNsScYSty",
        "outputId": "8e9d0218-e283-4dc9-b6e4-5cb83497b27f"
      },
      "source": [
        "np.array([\n",
        "    [2,0,0],\n",
        "    [0,3,0],\n",
        "    [0,0,5]\n",
        "])"
      ],
      "execution_count": 86,
      "outputs": [
        {
          "output_type": "execute_result",
          "data": {
            "text/plain": [
              "array([[2, 0, 0],\n",
              "       [0, 3, 0],\n",
              "       [0, 0, 5]])"
            ]
          },
          "metadata": {},
          "execution_count": 86
        }
      ]
    },
    {
      "cell_type": "markdown",
      "metadata": {
        "id": "9ELVhWudYYP_"
      },
      "source": [
        "# **Identity Matrix**"
      ]
    },
    {
      "cell_type": "code",
      "metadata": {
        "colab": {
          "base_uri": "https://localhost:8080/"
        },
        "id": "oA_Li-aZYa7a",
        "outputId": "e125c364-50d6-409b-b169-eda2dae69781"
      },
      "source": [
        "np.eye(5)"
      ],
      "execution_count": 87,
      "outputs": [
        {
          "output_type": "execute_result",
          "data": {
            "text/plain": [
              "array([[1., 0., 0., 0., 0.],\n",
              "       [0., 1., 0., 0., 0.],\n",
              "       [0., 0., 1., 0., 0.],\n",
              "       [0., 0., 0., 1., 0.],\n",
              "       [0., 0., 0., 0., 1.]])"
            ]
          },
          "metadata": {},
          "execution_count": 87
        }
      ]
    },
    {
      "cell_type": "code",
      "metadata": {
        "colab": {
          "base_uri": "https://localhost:8080/"
        },
        "id": "0fCTKb0KYdq9",
        "outputId": "31b7f3f9-b4b3-4b29-f1cc-70a94a292f77"
      },
      "source": [
        "np.identity(5)"
      ],
      "execution_count": 88,
      "outputs": [
        {
          "output_type": "execute_result",
          "data": {
            "text/plain": [
              "array([[1., 0., 0., 0., 0.],\n",
              "       [0., 1., 0., 0., 0.],\n",
              "       [0., 0., 1., 0., 0.],\n",
              "       [0., 0., 0., 1., 0.],\n",
              "       [0., 0., 0., 0., 1.]])"
            ]
          },
          "metadata": {},
          "execution_count": 88
        }
      ]
    },
    {
      "cell_type": "markdown",
      "metadata": {
        "id": "2ecTVU5pYhT4"
      },
      "source": [
        "# **Upper Triangular Matrix**"
      ]
    },
    {
      "cell_type": "code",
      "metadata": {
        "colab": {
          "base_uri": "https://localhost:8080/"
        },
        "id": "zzcTGJi2YiZ0",
        "outputId": "8a2afc78-73b3-40b6-ea51-ce5b42429a99"
      },
      "source": [
        "np.array([\n",
        "    [1,2,3],\n",
        "    [0,3,1],\n",
        "    [0,0,5]\n",
        "])\n"
      ],
      "execution_count": 89,
      "outputs": [
        {
          "output_type": "execute_result",
          "data": {
            "text/plain": [
              "array([[1, 2, 3],\n",
              "       [0, 3, 1],\n",
              "       [0, 0, 5]])"
            ]
          },
          "metadata": {},
          "execution_count": 89
        }
      ]
    },
    {
      "cell_type": "markdown",
      "metadata": {
        "id": "FHW_xnqJYlgp"
      },
      "source": [
        "# **Lower Triangular Matrix**"
      ]
    },
    {
      "cell_type": "code",
      "metadata": {
        "colab": {
          "base_uri": "https://localhost:8080/"
        },
        "id": "oE0k83m8YpBc",
        "outputId": "b9126daf-1fcb-49c7-eab0-a84bcf194096"
      },
      "source": [
        "np.array([\n",
        "    [1,0,0],\n",
        "    [5,3,0],\n",
        "    [7,8,5]\n",
        "])"
      ],
      "execution_count": 90,
      "outputs": [
        {
          "output_type": "execute_result",
          "data": {
            "text/plain": [
              "array([[1, 0, 0],\n",
              "       [5, 3, 0],\n",
              "       [7, 8, 5]])"
            ]
          },
          "metadata": {},
          "execution_count": 90
        }
      ]
    },
    {
      "cell_type": "markdown",
      "metadata": {
        "id": "8huyKk6JYvvC"
      },
      "source": [
        "# **Practice**\n",
        "1. Given the linear combination below, try to create a corresponding matrix representing it.\n",
        "$$θ = 5x + 3y - z$$\n",
        "$$\n",
        "θ=\\begin{bmatrix} 5 &amp; 3 &amp; -1\\end{bmatrix}\n",
        "$$\n",
        "2. Given the system of linear combinations below, try to encode it as a matrix. Also describe the matrix.\n",
        "$$ A = \\left\\{\\begin{array} 5x_1 + 2x_2 +x_3\\\\ 4x_2 - x_3\\\\ 10x_3 \\end{array}\\right. $$\n",
        "\\$$\n",
        "A=\\begin{bmatrix} 1 &amp; 2 &amp; 1 \\\\ 0 &amp; 4 &amp; -1 \\\\ 0 &amp; 0 &amp; 10\\end{bmatrix}\n",
        "$$\\ The matrix is upper triangle matrix because of the 3 zeros on the lower left part of the matrix.\n",
        "\n",
        "1. Given the matrix below, express it as a linear combination in a markdown."
      ]
    },
    {
      "cell_type": "code",
      "metadata": {
        "colab": {
          "base_uri": "https://localhost:8080/"
        },
        "id": "okwCBZ6qZGSb",
        "outputId": "96d61a44-0a97-4b9f-ef0c-768605ed1bb1"
      },
      "source": [
        "a = np.array([\n",
        "    [1,7,8],\n",
        "    [2,2,2],\n",
        "    [4,6,7]\n",
        "])\n",
        "describe_mat(a)"
      ],
      "execution_count": 91,
      "outputs": [
        {
          "output_type": "stream",
          "name": "stdout",
          "text": [
            "Matrix:\n",
            "[[1 7 8]\n",
            " [2 2 2]\n",
            " [4 6 7]]\n",
            "\n",
            "Shape:\t(3, 3)\n",
            "Rank:\t2\n",
            "Is Square: True\n",
            "\n"
          ]
        }
      ]
    },
    {
      "cell_type": "markdown",
      "metadata": {
        "id": "uZVDmB5pZLZn"
      },
      "source": [
        "1. Given the matrix below, display the output as a LaTeX makdown also express it as a system of linear combinations."
      ]
    },
    {
      "cell_type": "code",
      "metadata": {
        "colab": {
          "base_uri": "https://localhost:8080/"
        },
        "id": "4NwIIWLjZOUL",
        "outputId": "4bd9a75a-c934-4362-c4e4-6402e52b3f77"
      },
      "source": [
        "H = np.tril(G)\n",
        "H"
      ],
      "execution_count": 92,
      "outputs": [
        {
          "output_type": "execute_result",
          "data": {
            "text/plain": [
              "array([[1, 0],\n",
              "       [2, 2]])"
            ]
          },
          "metadata": {},
          "execution_count": 92
        }
      ]
    },
    {
      "cell_type": "markdown",
      "metadata": {
        "id": "Fz_dXpBCZUXs"
      },
      "source": [
        "$$ G = \\left\\{ \\begin{array}\\ x+7y+8z \\\\ 2x +2y -2z \\\\ 4x + 6y +7z \\end{array} \\right. $$\n"
      ]
    },
    {
      "cell_type": "markdown",
      "metadata": {
        "id": "QKSBnz0MZY-C"
      },
      "source": [
        "Given the matrix below, display the output as a LaTex"
      ]
    },
    {
      "cell_type": "code",
      "metadata": {
        "colab": {
          "base_uri": "https://localhost:8080/"
        },
        "id": "hVz-Q8qzZa6A",
        "outputId": "6edcb97d-131b-4012-d840-00afbcf36c14"
      },
      "source": [
        "H = np.triu(G)\n",
        "H"
      ],
      "execution_count": 93,
      "outputs": [
        {
          "output_type": "execute_result",
          "data": {
            "text/plain": [
              "array([[1, 1],\n",
              "       [0, 2]])"
            ]
          },
          "metadata": {},
          "execution_count": 93
        }
      ]
    },
    {
      "cell_type": "markdown",
      "metadata": {
        "id": "PFSWdpDLZpfE"
      },
      "source": [
        "# **Matrix Algebra**"
      ]
    },
    {
      "cell_type": "markdown",
      "metadata": {
        "id": "llMm0iE4aG22"
      },
      "source": [
        "## **Addition**"
      ]
    },
    {
      "cell_type": "code",
      "metadata": {
        "colab": {
          "base_uri": "https://localhost:8080/"
        },
        "id": "m4DMuNN9Zrdb",
        "outputId": "c8a6ea2a-d987-4a72-c41d-e100cb8ea18c"
      },
      "source": [
        "a = np.array([\n",
        "    [1,2],\n",
        "    [2,3],\n",
        "    [4,1]\n",
        "])\n",
        "b = np.array([\n",
        "    [2,2],\n",
        "    [0,0],\n",
        "    [1,1]\n",
        "])\n",
        "a+b"
      ],
      "execution_count": 94,
      "outputs": [
        {
          "output_type": "execute_result",
          "data": {
            "text/plain": [
              "array([[3, 4],\n",
              "       [2, 3],\n",
              "       [5, 2]])"
            ]
          },
          "metadata": {},
          "execution_count": 94
        }
      ]
    },
    {
      "cell_type": "code",
      "metadata": {
        "colab": {
          "base_uri": "https://localhost:8080/"
        },
        "id": "KpoCvkpbZytM",
        "outputId": "e983b155-bf05-481e-cccd-21f930f56e82"
      },
      "source": [
        "2+A"
      ],
      "execution_count": 95,
      "outputs": [
        {
          "output_type": "execute_result",
          "data": {
            "text/plain": [
              "array([[3, 4],\n",
              "       [5, 3]])"
            ]
          },
          "metadata": {},
          "execution_count": 95
        }
      ]
    },
    {
      "cell_type": "markdown",
      "metadata": {
        "id": "tVLiOGzRaA4n"
      },
      "source": [
        "## **Subtraction**"
      ]
    },
    {
      "cell_type": "code",
      "metadata": {
        "colab": {
          "base_uri": "https://localhost:8080/"
        },
        "id": "KEG_jsOZZ2G_",
        "outputId": "4091702f-f14f-40a2-d504-053ee75a6cd9"
      },
      "source": [
        "a-b"
      ],
      "execution_count": 96,
      "outputs": [
        {
          "output_type": "execute_result",
          "data": {
            "text/plain": [
              "array([[-1,  0],\n",
              "       [ 2,  3],\n",
              "       [ 3,  0]])"
            ]
          },
          "metadata": {},
          "execution_count": 96
        }
      ]
    },
    {
      "cell_type": "code",
      "metadata": {
        "colab": {
          "base_uri": "https://localhost:8080/"
        },
        "id": "uBO_spl8Z6pT",
        "outputId": "bcdfd3bb-688a-4bc7-93a9-9e3a613a90d4"
      },
      "source": [
        "3-b == 3*np.ones(b.shape)-b"
      ],
      "execution_count": 98,
      "outputs": [
        {
          "output_type": "execute_result",
          "data": {
            "text/plain": [
              "array([[ True,  True],\n",
              "       [ True,  True],\n",
              "       [ True,  True]])"
            ]
          },
          "metadata": {},
          "execution_count": 98
        }
      ]
    },
    {
      "cell_type": "markdown",
      "metadata": {
        "id": "fyu6rAuxaLAq"
      },
      "source": [
        "## **Multiplication**"
      ]
    },
    {
      "cell_type": "code",
      "metadata": {
        "colab": {
          "base_uri": "https://localhost:8080/"
        },
        "id": "NXe10znYaNFv",
        "outputId": "78c83057-8cdd-47a2-cfa3-5a97912e10ab"
      },
      "source": [
        "a*b\n",
        "np.multiply(a,b)"
      ],
      "execution_count": 99,
      "outputs": [
        {
          "output_type": "execute_result",
          "data": {
            "text/plain": [
              "array([[2, 4],\n",
              "       [0, 0],\n",
              "       [4, 1]])"
            ]
          },
          "metadata": {},
          "execution_count": 99
        }
      ]
    },
    {
      "cell_type": "code",
      "metadata": {
        "colab": {
          "base_uri": "https://localhost:8080/"
        },
        "id": "TE-zvNA1aSVd",
        "outputId": "20d36bb8-db14-4c4b-8e95-dd0de83563b0"
      },
      "source": [
        "2*a"
      ],
      "execution_count": 100,
      "outputs": [
        {
          "output_type": "execute_result",
          "data": {
            "text/plain": [
              "array([[2, 4],\n",
              "       [4, 6],\n",
              "       [8, 2]])"
            ]
          },
          "metadata": {},
          "execution_count": 100
        }
      ]
    },
    {
      "cell_type": "code",
      "metadata": {
        "colab": {
          "base_uri": "https://localhost:8080/"
        },
        "id": "l60yZTdjaXMS",
        "outputId": "4848b460-7fab-4007-c2be-5e21108461a2"
      },
      "source": [
        "TT = a/b\n",
        "operations(TT)\n",
        "np.divide(a,b)"
      ],
      "execution_count": 103,
      "outputs": [
        {
          "output_type": "stream",
          "name": "stdout",
          "text": [
            "Matrix:\n",
            "[[0.5 1. ]\n",
            " [inf inf]\n",
            " [4.  1. ]]\n",
            "\n",
            "Shape:\t(3, 2)\n",
            "Rank:\t2\n",
            "\n"
          ]
        },
        {
          "output_type": "stream",
          "name": "stderr",
          "text": [
            "/usr/local/lib/python3.7/dist-packages/ipykernel_launcher.py:1: RuntimeWarning: divide by zero encountered in true_divide\n",
            "  \"\"\"Entry point for launching an IPython kernel.\n",
            "/usr/local/lib/python3.7/dist-packages/ipykernel_launcher.py:3: RuntimeWarning: divide by zero encountered in true_divide\n",
            "  This is separate from the ipykernel package so we can avoid doing imports until\n"
          ]
        },
        {
          "output_type": "execute_result",
          "data": {
            "text/plain": [
              "array([[0.5, 1. ],\n",
              "       [inf, inf],\n",
              "       [4. , 1. ]])"
            ]
          },
          "metadata": {},
          "execution_count": 103
        }
      ]
    },
    {
      "cell_type": "code",
      "metadata": {
        "colab": {
          "base_uri": "https://localhost:8080/"
        },
        "id": "rbzso-7ha3Vx",
        "outputId": "fb652c04-99c4-44cb-e09e-7c4b069cd54e"
      },
      "source": [
        "alpha=10**-10\n",
        "a/(alpha+b)"
      ],
      "execution_count": 105,
      "outputs": [
        {
          "output_type": "execute_result",
          "data": {
            "text/plain": [
              "array([[5.e-01, 1.e+00],\n",
              "       [2.e+10, 3.e+10],\n",
              "       [4.e+00, 1.e+00]])"
            ]
          },
          "metadata": {},
          "execution_count": 105
        }
      ]
    },
    {
      "cell_type": "code",
      "metadata": {
        "colab": {
          "base_uri": "https://localhost:8080/"
        },
        "id": "kYgbH6n5bBet",
        "outputId": "6c444454-4ab2-4236-d68d-dcd7f3d94b60"
      },
      "source": [
        "np.add(a,b)"
      ],
      "execution_count": 106,
      "outputs": [
        {
          "output_type": "execute_result",
          "data": {
            "text/plain": [
              "array([[3, 4],\n",
              "       [2, 3],\n",
              "       [5, 2]])"
            ]
          },
          "metadata": {},
          "execution_count": 106
        }
      ]
    },
    {
      "cell_type": "markdown",
      "metadata": {
        "id": "YEeue7qj6MYu"
      },
      "source": [
        "#**Task 1**\n",
        "Create a function named `desc_mat()` that througouhly describes a matrix, it should: <br>\n",
        "1. Displays the shape, size, and rank of the matrix. <br>\n",
        "2. Displays whether the matrix is square or non-square. <br>\n",
        "3. Displays whether the matrix is an empty matrix. <br>\n",
        "4. Displays if the matrix is an identity, ones, or zeros matrix <br>\n",
        "   \n",
        "Use 5 sample matrices in which their shapes are not lower than $(3,3)$.\n",
        "In your methodology, create a flowchart discuss the functions and methods you have done. Present your results in the results section showing the description of each matrix you have declared."
      ]
    },
    {
      "cell_type": "code",
      "metadata": {
        "id": "hG67LSMnZEGt"
      },
      "source": [
        ""
      ],
      "execution_count": null,
      "outputs": []
    },
    {
      "cell_type": "code",
      "metadata": {
        "id": "5oKsGjiW6PJj"
      },
      "source": [
        "def describe_mat(matrix):\n",
        "    print(f'Matrix:\\n{matrix}\\n\\nShape:\\t{matrix.shape}\\nRank:\\t{matrix.ndim}\\n')"
      ],
      "execution_count": 25,
      "outputs": []
    },
    {
      "cell_type": "code",
      "metadata": {
        "colab": {
          "base_uri": "https://localhost:8080/"
        },
        "id": "AcBcGjgsVeIc",
        "outputId": "c6848986-2dec-49e4-d019-1eb71444f420"
      },
      "source": [
        "# Declaring a 2 x 2 matrix\n",
        "A = np.array([\n",
        "    [1, 2],\n",
        "    [3, 1]\n",
        "])\n",
        "describe_mat(A)\n"
      ],
      "execution_count": 65,
      "outputs": [
        {
          "output_type": "stream",
          "name": "stdout",
          "text": [
            "Matrix:\n",
            "[[1 2]\n",
            " [3 1]]\n",
            "\n",
            "Shape:\t(2, 2)\n",
            "Rank:\t2\n",
            "\n"
          ]
        }
      ]
    },
    {
      "cell_type": "markdown",
      "metadata": {
        "id": "_u3rqo7g6Rza"
      },
      "source": [
        "## **Matrix**"
      ]
    },
    {
      "cell_type": "code",
      "metadata": {
        "id": "9_1wfWDk6RN9"
      },
      "source": [
        "null_mat = np.array([])\n"
      ],
      "execution_count": 4,
      "outputs": []
    },
    {
      "cell_type": "code",
      "metadata": {
        "id": "k7vUXevp6Y1a"
      },
      "source": [
        "zero_mat_sqr = np.zeros((3,3))"
      ],
      "execution_count": 5,
      "outputs": []
    },
    {
      "cell_type": "code",
      "metadata": {
        "id": "HceaKtkN6b4J"
      },
      "source": [
        "ones_mat_sqr = np.ones((3,3))"
      ],
      "execution_count": 15,
      "outputs": []
    },
    {
      "cell_type": "code",
      "metadata": {
        "id": "oeAl4lu76dw7"
      },
      "source": [
        "A = np.array([\n",
        "    [3, 0, 0],\n",
        "    [0, 3, 0],\n",
        "    [0, 0, 9]\n",
        "])"
      ],
      "execution_count": 107,
      "outputs": []
    },
    {
      "cell_type": "code",
      "metadata": {
        "id": "ZjVJUL-U6oCU"
      },
      "source": [
        "B = np.array([\n",
        "    [1, 8, 1],\n",
        "    [0, 4, 7],\n",
        "    [0, 0, 9]\n",
        "])"
      ],
      "execution_count": 19,
      "outputs": []
    },
    {
      "cell_type": "code",
      "metadata": {
        "id": "IlntgKjm6pUr"
      },
      "source": [
        "C = np.array([\n",
        "    [2, 0, 0],\n",
        "    [6, 4, 0],\n",
        "    [7, 7, 1]\n",
        "])"
      ],
      "execution_count": 33,
      "outputs": []
    },
    {
      "cell_type": "markdown",
      "metadata": {
        "id": "k8QHDhzB6rPe"
      },
      "source": [
        "## **Testing**"
      ]
    },
    {
      "cell_type": "markdown",
      "metadata": {
        "id": "1EQfVlpp-1HI"
      },
      "source": [
        "### **Null Matrix**"
      ]
    },
    {
      "cell_type": "code",
      "metadata": {
        "colab": {
          "base_uri": "https://localhost:8080/"
        },
        "id": "1_v5HT1x6vJA",
        "outputId": "4c392697-6353-482d-b4b6-6317ae89b90f"
      },
      "source": [
        "describe_mat(null_mat)"
      ],
      "execution_count": 64,
      "outputs": [
        {
          "output_type": "stream",
          "name": "stdout",
          "text": [
            "Matrix:\n",
            "[]\n",
            "\n",
            "Shape:\t(0,)\n",
            "Rank:\t1\n",
            "\n"
          ]
        }
      ]
    },
    {
      "cell_type": "markdown",
      "metadata": {
        "id": "Qga3ZSDb_Aem"
      },
      "source": [
        "### **Zero Matrix**"
      ]
    },
    {
      "cell_type": "code",
      "metadata": {
        "colab": {
          "base_uri": "https://localhost:8080/"
        },
        "id": "aPD5nIm86zYv",
        "outputId": "11307e78-e1bc-4882-9acb-816d3aff7ad9"
      },
      "source": [
        "describe_mat(zero_mat_sqr)"
      ],
      "execution_count": 27,
      "outputs": [
        {
          "output_type": "stream",
          "name": "stdout",
          "text": [
            "Matrix:\n",
            "[[0. 0. 0.]\n",
            " [0. 0. 0.]\n",
            " [0. 0. 0.]]\n",
            "\n",
            "Shape:\t(3, 3)\n",
            "Rank:\t2\n",
            "\n"
          ]
        }
      ]
    },
    {
      "cell_type": "markdown",
      "metadata": {
        "id": "Xvdy7h6F_Ey9"
      },
      "source": [
        "### **Ones Matrix**"
      ]
    },
    {
      "cell_type": "code",
      "metadata": {
        "colab": {
          "base_uri": "https://localhost:8080/"
        },
        "id": "P7K54a6z67yb",
        "outputId": "0702ae15-2a4c-4a66-92f9-8c61bb059783"
      },
      "source": [
        "describe_mat(ones_mat_sqr)"
      ],
      "execution_count": 28,
      "outputs": [
        {
          "output_type": "stream",
          "name": "stdout",
          "text": [
            "Matrix:\n",
            "[[1. 1. 1.]\n",
            " [1. 1. 1.]\n",
            " [1. 1. 1.]]\n",
            "\n",
            "Shape:\t(3, 3)\n",
            "Rank:\t2\n",
            "\n"
          ]
        }
      ]
    },
    {
      "cell_type": "markdown",
      "metadata": {
        "id": "tVa_7ryC_NP3"
      },
      "source": [
        "### **Diagonal Matrix**"
      ]
    },
    {
      "cell_type": "code",
      "metadata": {
        "colab": {
          "base_uri": "https://localhost:8080/"
        },
        "id": "gRGnvZxy7iyq",
        "outputId": "00b45335-0d8f-4e07-9898-5b2949a59efb"
      },
      "source": [
        "describe_mat(A)"
      ],
      "execution_count": 29,
      "outputs": [
        {
          "output_type": "stream",
          "name": "stdout",
          "text": [
            "Matrix:\n",
            "[[3 0 0]\n",
            " [0 3 0]\n",
            " [0 0 9]]\n",
            "\n",
            "Shape:\t(3, 3)\n",
            "Rank:\t2\n",
            "\n"
          ]
        }
      ]
    },
    {
      "cell_type": "markdown",
      "metadata": {
        "id": "e0ccap6w_VV2"
      },
      "source": [
        "### **Identity Matrix**"
      ]
    },
    {
      "cell_type": "code",
      "metadata": {
        "colab": {
          "base_uri": "https://localhost:8080/"
        },
        "id": "SWkaRsND8MRU",
        "outputId": "b602e1ae-a73f-49ff-b637-2757e1b02daa"
      },
      "source": [
        "np.identity(3)"
      ],
      "execution_count": 30,
      "outputs": [
        {
          "output_type": "execute_result",
          "data": {
            "text/plain": [
              "array([[1., 0., 0.],\n",
              "       [0., 1., 0.],\n",
              "       [0., 0., 1.]])"
            ]
          },
          "metadata": {},
          "execution_count": 30
        }
      ]
    },
    {
      "cell_type": "markdown",
      "metadata": {
        "id": "RdzquHU__a9x"
      },
      "source": [
        "### **Upper Triangular **"
      ]
    },
    {
      "cell_type": "code",
      "metadata": {
        "colab": {
          "base_uri": "https://localhost:8080/"
        },
        "id": "eM3Nl9fu7jPy",
        "outputId": "63f0c127-16ac-4cd5-e1ad-003d2c3d53f1"
      },
      "source": [
        "describe_mat(B)"
      ],
      "execution_count": 31,
      "outputs": [
        {
          "output_type": "stream",
          "name": "stdout",
          "text": [
            "Matrix:\n",
            "[[1 8 1]\n",
            " [0 4 7]\n",
            " [0 0 9]]\n",
            "\n",
            "Shape:\t(3, 3)\n",
            "Rank:\t2\n",
            "\n"
          ]
        }
      ]
    },
    {
      "cell_type": "markdown",
      "metadata": {
        "id": "i9Eh1z_M_gIN"
      },
      "source": [
        "### **Lower Triangular Matrix**"
      ]
    },
    {
      "cell_type": "code",
      "metadata": {
        "colab": {
          "base_uri": "https://localhost:8080/"
        },
        "id": "1p1-s9Qk9doZ",
        "outputId": "a6a7f3e7-ed9d-420b-bf94-23993ccd1b18"
      },
      "source": [
        "describe_mat(C)"
      ],
      "execution_count": 32,
      "outputs": [
        {
          "output_type": "stream",
          "name": "stdout",
          "text": [
            "Matrix:\n",
            "[[2 0 0]\n",
            " [6 4 0]\n",
            " [7 7 1]]\n",
            "\n",
            "Shape:\t(3, 3)\n",
            "Rank:\t2\n",
            "\n"
          ]
        }
      ]
    },
    {
      "cell_type": "markdown",
      "metadata": {
        "id": "ywyNT2pgaXoo"
      },
      "source": [
        "# **Task Number 2**\n",
        "Create a function named `mat_operations()` that takes in two matrices a input parameters it should:<br>\n",
        " 1. Determines if the matrices are viable for operation and returns your own error message if they are not viable.\n",
        " 2. Returns the sum of the matrices.\n",
        " 3. Returns the differen of the matrices.\n",
        " 4. Returns the element-wise multiplication of the matrices.\n",
        " 5. Returns the element-wise division of the matrices.\n",
        "\n",
        "Use 5 sample matrices in which their shapes are not lower than $(3,3)$.\n",
        "In your methodology, create a flowchart discuss the functions and methods you have done. Present your results in the results section showing the description of each matrix you have declared."
      ]
    },
    {
      "cell_type": "code",
      "metadata": {
        "id": "AeVERPOU_yq-"
      },
      "source": [
        "def operations(matrix):\n",
        "    print(f'Matrix:\\n{matrix}\\n\\nShape:\\t{matrix.shape}\\nRank:\\t{matrix.ndim}\\n')"
      ],
      "execution_count": 46,
      "outputs": []
    },
    {
      "cell_type": "markdown",
      "metadata": {
        "id": "uADwxpaN_9y_"
      },
      "source": [
        "## **Matrix** "
      ]
    },
    {
      "cell_type": "markdown",
      "metadata": {
        "id": "CCjuGssvAH6O"
      },
      "source": [
        "### **Addition**"
      ]
    },
    {
      "cell_type": "code",
      "metadata": {
        "id": "Gn_QwiSWAAyV"
      },
      "source": [
        "a = np.array([\n",
        "    [3,1,9],\n",
        "    [2,0,7],\n",
        "    [7,1,7]\n",
        "])\n",
        "b = np.array([\n",
        "    [3,2,3],\n",
        "    [0,4,0],\n",
        "    [1,1,1]\n",
        "])"
      ],
      "execution_count": 108,
      "outputs": []
    },
    {
      "cell_type": "markdown",
      "metadata": {
        "id": "WVIEGlYFANR_"
      },
      "source": [
        "### **Subtraction**"
      ]
    },
    {
      "cell_type": "code",
      "metadata": {
        "id": "w9TZjxxpAEjI"
      },
      "source": [
        "c = np.array([\n",
        "    [4,1,1],\n",
        "    [3,5,5],\n",
        "    [0,7,0]\n",
        "])\n",
        "d = np.array([\n",
        "    [9,2,6],\n",
        "    [9,1,0],\n",
        "    [0,0,6]\n",
        "])"
      ],
      "execution_count": 39,
      "outputs": []
    },
    {
      "cell_type": "markdown",
      "metadata": {
        "id": "K_Jo42kgAQzD"
      },
      "source": [
        "### **Multiplication**"
      ]
    },
    {
      "cell_type": "code",
      "metadata": {
        "id": "oODo1E4VAFDo"
      },
      "source": [
        "e = np.array([\n",
        "    [2,2,2],\n",
        "    [4,3,4],\n",
        "    [5,7,7]\n",
        "])\n",
        "f = np.array([\n",
        "    [3,3,3],\n",
        "    [0,1,9],\n",
        "    [0,0,6]\n",
        "])"
      ],
      "execution_count": 56,
      "outputs": []
    },
    {
      "cell_type": "markdown",
      "metadata": {
        "id": "Griiihj7AXOR"
      },
      "source": [
        "### **Division**"
      ]
    },
    {
      "cell_type": "code",
      "metadata": {
        "id": "_gVOnBRvATNx"
      },
      "source": [
        "g = np.array([\n",
        "    [10,12,21],\n",
        "    [15,9,0],\n",
        "    [20,22,11]\n",
        "])\n",
        "h = np.array([\n",
        "    [2,6,7],\n",
        "    [5,3,1],\n",
        "    [10,11,1]\n",
        "])"
      ],
      "execution_count": 41,
      "outputs": []
    },
    {
      "cell_type": "markdown",
      "metadata": {
        "id": "AASomP2bDZPX"
      },
      "source": [
        "## Testing"
      ]
    },
    {
      "cell_type": "markdown",
      "metadata": {
        "id": "A-8ON7SnDfuN"
      },
      "source": [
        "### **Addition**"
      ]
    },
    {
      "cell_type": "code",
      "metadata": {
        "colab": {
          "base_uri": "https://localhost:8080/"
        },
        "id": "_zarvXGuAvdA",
        "outputId": "08155054-41a2-480b-eaed-44eb9e4daea7"
      },
      "source": [
        "TT = a+b\n",
        "operations(TT)\n",
        "np.add(a,b)"
      ],
      "execution_count": 52,
      "outputs": [
        {
          "output_type": "stream",
          "name": "stdout",
          "text": [
            "Matrix:\n",
            "[[ 6  3 12]\n",
            " [ 2  4  7]\n",
            " [ 8  2  8]]\n",
            "\n",
            "Shape:\t(3, 3)\n",
            "Rank:\t2\n",
            "\n"
          ]
        },
        {
          "output_type": "execute_result",
          "data": {
            "text/plain": [
              "array([[ 6,  3, 12],\n",
              "       [ 2,  4,  7],\n",
              "       [ 8,  2,  8]])"
            ]
          },
          "metadata": {},
          "execution_count": 52
        }
      ]
    },
    {
      "cell_type": "markdown",
      "metadata": {
        "id": "J-LQunqKDiqj"
      },
      "source": [
        "### **Subtraction**"
      ]
    },
    {
      "cell_type": "code",
      "metadata": {
        "colab": {
          "base_uri": "https://localhost:8080/"
        },
        "id": "tPaSvF6iBQG0",
        "outputId": "2870ce71-ae7c-47d1-b2ad-a553af82cc47"
      },
      "source": [
        "TT = c-d\n",
        "operations(TT)\n",
        "np.subtract(c,d)"
      ],
      "execution_count": 54,
      "outputs": [
        {
          "output_type": "stream",
          "name": "stdout",
          "text": [
            "Matrix:\n",
            "[[-5 -1 -5]\n",
            " [-6  4  5]\n",
            " [ 0  7 -6]]\n",
            "\n",
            "Shape:\t(3, 3)\n",
            "Rank:\t2\n",
            "\n"
          ]
        },
        {
          "output_type": "execute_result",
          "data": {
            "text/plain": [
              "array([[-5, -1, -5],\n",
              "       [-6,  4,  5],\n",
              "       [ 0,  7, -6]])"
            ]
          },
          "metadata": {},
          "execution_count": 54
        }
      ]
    },
    {
      "cell_type": "markdown",
      "metadata": {
        "id": "zZrp-oX0DmWb"
      },
      "source": [
        "### **Multiplication**"
      ]
    },
    {
      "cell_type": "code",
      "metadata": {
        "colab": {
          "base_uri": "https://localhost:8080/"
        },
        "id": "Uoo_los2BuGU",
        "outputId": "f0dbab8c-632c-47a1-d168-dbc43b93e5e9"
      },
      "source": [
        "2*e\n",
        "TT = e*f\n",
        "operations(TT)\n",
        "np.multiply(e,f)\n",
        "4*f"
      ],
      "execution_count": 60,
      "outputs": [
        {
          "output_type": "stream",
          "name": "stdout",
          "text": [
            "Matrix:\n",
            "[[ 6  6  6]\n",
            " [ 0  3 36]\n",
            " [ 0  0 42]]\n",
            "\n",
            "Shape:\t(3, 3)\n",
            "Rank:\t2\n",
            "\n"
          ]
        },
        {
          "output_type": "execute_result",
          "data": {
            "text/plain": [
              "array([[12, 12, 12],\n",
              "       [ 0,  4, 36],\n",
              "       [ 0,  0, 24]])"
            ]
          },
          "metadata": {},
          "execution_count": 60
        }
      ]
    },
    {
      "cell_type": "markdown",
      "metadata": {
        "id": "vnchb1QGDsyR"
      },
      "source": [
        "### **Division**"
      ]
    },
    {
      "cell_type": "code",
      "metadata": {
        "colab": {
          "base_uri": "https://localhost:8080/"
        },
        "id": "BMGa-lcoCxN1",
        "outputId": "4f11d092-212b-4a15-92ef-843bdd88bf4c"
      },
      "source": [
        "TT = g/h\n",
        "operations(TT)\n",
        "np.divide(g,h)\n",
        "g/5\n",
        "1/h"
      ],
      "execution_count": 62,
      "outputs": [
        {
          "output_type": "stream",
          "name": "stdout",
          "text": [
            "Matrix:\n",
            "[[ 5.  2.  3.]\n",
            " [ 3.  3.  0.]\n",
            " [ 2.  2. 11.]]\n",
            "\n",
            "Shape:\t(3, 3)\n",
            "Rank:\t2\n",
            "\n"
          ]
        },
        {
          "output_type": "execute_result",
          "data": {
            "text/plain": [
              "array([[0.5       , 0.16666667, 0.14285714],\n",
              "       [0.2       , 0.33333333, 1.        ],\n",
              "       [0.1       , 0.09090909, 1.        ]])"
            ]
          },
          "metadata": {},
          "execution_count": 62
        }
      ]
    },
    {
      "cell_type": "markdown",
      "metadata": {
        "id": "CCLgKGeXFnJW"
      },
      "source": [
        "# **Conclusion**\n"
      ]
    },
    {
      "cell_type": "markdown",
      "metadata": {
        "id": "alwUnAdUF5Fa"
      },
      "source": [
        "Based on the Lab work done by the students it signifies that having a fundamental information about matrix is most likely a benefit for the student due to the reason that the students possibly already know what codes to input and distinguish what are the necessary codes needed for that specific program to be inputed. Likewise, Matrix operation do help in taking care of issues in innovation as far as security as it play a significant role in detection of a problem, in science for refraction and reflection, and also in mathematics "
      ]
    },
    {
      "cell_type": "markdown",
      "metadata": {
        "id": "4qKhPZzajjiY"
      },
      "source": [
        "# **Reference**\n",
        "\n",
        "\n",
        "\n",
        "*   https://byjus.com/jee/types-of-matrices/\n",
        "*   https://machinelearningmastery.com/introduction-to-types-of-matrices-in-linear-algebra/\n",
        "*   https://www.embibe.com/exams/where-are-matrices-used-in-daily-life/"
      ]
    }
  ]
}