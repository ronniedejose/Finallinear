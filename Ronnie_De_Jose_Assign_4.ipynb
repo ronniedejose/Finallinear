{
  "nbformat": 4,
  "nbformat_minor": 0,
  "metadata": {
    "colab": {
      "name": "Ronnie De Jose Assign 4",
      "provenance": [],
      "authorship_tag": "ABX9TyOOK6pjwxnH2vt64rbySX93",
      "include_colab_link": true
    },
    "kernelspec": {
      "name": "python3",
      "display_name": "Python 3"
    },
    "language_info": {
      "name": "python"
    }
  },
  "cells": [
    {
      "cell_type": "markdown",
      "metadata": {
        "id": "view-in-github",
        "colab_type": "text"
      },
      "source": [
        "<a href=\"https://colab.research.google.com/github/ronniedejose/Finallinear/blob/main/Ronnie_De_Jose_Assign_4.ipynb\" target=\"_parent\"><img src=\"https://colab.research.google.com/assets/colab-badge.svg\" alt=\"Open In Colab\"/></a>"
      ]
    },
    {
      "cell_type": "markdown",
      "metadata": {
        "id": "gIYB4LsF5AUc"
      },
      "source": [
        "# **Linear Algebra Lab Activity 4**\n",
        "\n",
        "Matrices which is the plural word of Matrix, which also refers to a rectangular array of numbers matrices is also compact which enables it to write and work with multiple linear equations, or system of linear equation\n",
        "\n",
        "\n",
        "\n",
        "\n"
      ]
    },
    {
      "cell_type": "markdown",
      "metadata": {
        "id": "12XtDr9u5dMu"
      },
      "source": [
        "# **Lab Activity Objectives**\n",
        "At the end of this activity you will be able to:\n",
        "\n",
        "1.   Be familiar with matrices and their relation to linear equations.\n",
        "2.   Perform basic matrix operations.\n",
        "3. Program and translate matrix equations and operations using Python.\n",
        "\n",
        "\n"
      ]
    },
    {
      "cell_type": "code",
      "metadata": {
        "id": "JHLEJ4OP5w4a"
      },
      "source": [
        "import numpy as np\n",
        "import matplotlib.pyplot as plt\n",
        "import scipy.linalg as la\n",
        "%matplotlib inline"
      ],
      "execution_count": 63,
      "outputs": []
    },
    {
      "cell_type": "markdown",
      "metadata": {
        "id": "YEeue7qj6MYu"
      },
      "source": [
        "#**Task 1**\n",
        "Create a function named `desc_mat()` that througouhly describes a matrix, it should: <br>\n",
        "1. Displays the shape, size, and rank of the matrix. <br>\n",
        "2. Displays whether the matrix is square or non-square. <br>\n",
        "3. Displays whether the matrix is an empty matrix. <br>\n",
        "4. Displays if the matrix is an identity, ones, or zeros matrix <br>\n",
        "   \n",
        "Use 5 sample matrices in which their shapes are not lower than $(3,3)$.\n",
        "In your methodology, create a flowchart discuss the functions and methods you have done. Present your results in the results section showing the description of each matrix you have declared."
      ]
    },
    {
      "cell_type": "code",
      "metadata": {
        "id": "5oKsGjiW6PJj"
      },
      "source": [
        "def describe_mat(matrix):\n",
        "    print(f'Matrix:\\n{matrix}\\n\\nShape:\\t{matrix.shape}\\nRank:\\t{matrix.ndim}\\n')"
      ],
      "execution_count": 25,
      "outputs": []
    },
    {
      "cell_type": "markdown",
      "metadata": {
        "id": "_u3rqo7g6Rza"
      },
      "source": [
        "## **Matrix**"
      ]
    },
    {
      "cell_type": "code",
      "metadata": {
        "id": "9_1wfWDk6RN9"
      },
      "source": [
        "null_mat = np.array([])\n"
      ],
      "execution_count": 4,
      "outputs": []
    },
    {
      "cell_type": "code",
      "metadata": {
        "id": "k7vUXevp6Y1a"
      },
      "source": [
        "zero_mat_sqr = np.zeros((3,3))"
      ],
      "execution_count": 5,
      "outputs": []
    },
    {
      "cell_type": "code",
      "metadata": {
        "id": "HceaKtkN6b4J"
      },
      "source": [
        "ones_mat_sqr = np.ones((3,3))"
      ],
      "execution_count": 15,
      "outputs": []
    },
    {
      "cell_type": "code",
      "metadata": {
        "id": "oeAl4lu76dw7"
      },
      "source": [
        "A = np.array([\n",
        "    [3, 0, 0],\n",
        "    [0, 3, 0],\n",
        "    [0, 0, 9]\n",
        "])"
      ],
      "execution_count": 18,
      "outputs": []
    },
    {
      "cell_type": "code",
      "metadata": {
        "id": "ZjVJUL-U6oCU"
      },
      "source": [
        "B = np.array([\n",
        "    [1, 8, 1],\n",
        "    [0, 4, 7],\n",
        "    [0, 0, 9]\n",
        "])"
      ],
      "execution_count": 19,
      "outputs": []
    },
    {
      "cell_type": "code",
      "metadata": {
        "id": "IlntgKjm6pUr"
      },
      "source": [
        "C = np.array([\n",
        "    [2, 0, 0],\n",
        "    [6, 4, 0],\n",
        "    [7, 7, 1]\n",
        "])"
      ],
      "execution_count": 33,
      "outputs": []
    },
    {
      "cell_type": "markdown",
      "metadata": {
        "id": "k8QHDhzB6rPe"
      },
      "source": [
        "## **Testing**"
      ]
    },
    {
      "cell_type": "markdown",
      "metadata": {
        "id": "1EQfVlpp-1HI"
      },
      "source": [
        "### **Null Matrix**"
      ]
    },
    {
      "cell_type": "code",
      "metadata": {
        "colab": {
          "base_uri": "https://localhost:8080/"
        },
        "id": "1_v5HT1x6vJA",
        "outputId": "4c392697-6353-482d-b4b6-6317ae89b90f"
      },
      "source": [
        "describe_mat(null_mat)"
      ],
      "execution_count": 64,
      "outputs": [
        {
          "output_type": "stream",
          "name": "stdout",
          "text": [
            "Matrix:\n",
            "[]\n",
            "\n",
            "Shape:\t(0,)\n",
            "Rank:\t1\n",
            "\n"
          ]
        }
      ]
    },
    {
      "cell_type": "markdown",
      "metadata": {
        "id": "Qga3ZSDb_Aem"
      },
      "source": [
        "### **Zero Matrix**"
      ]
    },
    {
      "cell_type": "code",
      "metadata": {
        "colab": {
          "base_uri": "https://localhost:8080/"
        },
        "id": "aPD5nIm86zYv",
        "outputId": "11307e78-e1bc-4882-9acb-816d3aff7ad9"
      },
      "source": [
        "describe_mat(zero_mat_sqr)"
      ],
      "execution_count": 27,
      "outputs": [
        {
          "output_type": "stream",
          "name": "stdout",
          "text": [
            "Matrix:\n",
            "[[0. 0. 0.]\n",
            " [0. 0. 0.]\n",
            " [0. 0. 0.]]\n",
            "\n",
            "Shape:\t(3, 3)\n",
            "Rank:\t2\n",
            "\n"
          ]
        }
      ]
    },
    {
      "cell_type": "markdown",
      "metadata": {
        "id": "Xvdy7h6F_Ey9"
      },
      "source": [
        "### **Ones Matrix**"
      ]
    },
    {
      "cell_type": "code",
      "metadata": {
        "colab": {
          "base_uri": "https://localhost:8080/"
        },
        "id": "P7K54a6z67yb",
        "outputId": "0702ae15-2a4c-4a66-92f9-8c61bb059783"
      },
      "source": [
        "describe_mat(ones_mat_sqr)"
      ],
      "execution_count": 28,
      "outputs": [
        {
          "output_type": "stream",
          "name": "stdout",
          "text": [
            "Matrix:\n",
            "[[1. 1. 1.]\n",
            " [1. 1. 1.]\n",
            " [1. 1. 1.]]\n",
            "\n",
            "Shape:\t(3, 3)\n",
            "Rank:\t2\n",
            "\n"
          ]
        }
      ]
    },
    {
      "cell_type": "markdown",
      "metadata": {
        "id": "tVa_7ryC_NP3"
      },
      "source": [
        "### **Diagonal Matrix**"
      ]
    },
    {
      "cell_type": "code",
      "metadata": {
        "colab": {
          "base_uri": "https://localhost:8080/"
        },
        "id": "gRGnvZxy7iyq",
        "outputId": "00b45335-0d8f-4e07-9898-5b2949a59efb"
      },
      "source": [
        "describe_mat(A)"
      ],
      "execution_count": 29,
      "outputs": [
        {
          "output_type": "stream",
          "name": "stdout",
          "text": [
            "Matrix:\n",
            "[[3 0 0]\n",
            " [0 3 0]\n",
            " [0 0 9]]\n",
            "\n",
            "Shape:\t(3, 3)\n",
            "Rank:\t2\n",
            "\n"
          ]
        }
      ]
    },
    {
      "cell_type": "markdown",
      "metadata": {
        "id": "e0ccap6w_VV2"
      },
      "source": [
        "### **Identity Matrix**"
      ]
    },
    {
      "cell_type": "code",
      "metadata": {
        "colab": {
          "base_uri": "https://localhost:8080/"
        },
        "id": "SWkaRsND8MRU",
        "outputId": "b602e1ae-a73f-49ff-b637-2757e1b02daa"
      },
      "source": [
        "np.identity(3)"
      ],
      "execution_count": 30,
      "outputs": [
        {
          "output_type": "execute_result",
          "data": {
            "text/plain": [
              "array([[1., 0., 0.],\n",
              "       [0., 1., 0.],\n",
              "       [0., 0., 1.]])"
            ]
          },
          "metadata": {},
          "execution_count": 30
        }
      ]
    },
    {
      "cell_type": "markdown",
      "metadata": {
        "id": "RdzquHU__a9x"
      },
      "source": [
        "### **Upper Triangular **"
      ]
    },
    {
      "cell_type": "code",
      "metadata": {
        "colab": {
          "base_uri": "https://localhost:8080/"
        },
        "id": "eM3Nl9fu7jPy",
        "outputId": "63f0c127-16ac-4cd5-e1ad-003d2c3d53f1"
      },
      "source": [
        "describe_mat(B)"
      ],
      "execution_count": 31,
      "outputs": [
        {
          "output_type": "stream",
          "name": "stdout",
          "text": [
            "Matrix:\n",
            "[[1 8 1]\n",
            " [0 4 7]\n",
            " [0 0 9]]\n",
            "\n",
            "Shape:\t(3, 3)\n",
            "Rank:\t2\n",
            "\n"
          ]
        }
      ]
    },
    {
      "cell_type": "markdown",
      "metadata": {
        "id": "i9Eh1z_M_gIN"
      },
      "source": [
        "### **Lower Triangular Matrix**"
      ]
    },
    {
      "cell_type": "code",
      "metadata": {
        "colab": {
          "base_uri": "https://localhost:8080/"
        },
        "id": "1p1-s9Qk9doZ",
        "outputId": "a6a7f3e7-ed9d-420b-bf94-23993ccd1b18"
      },
      "source": [
        "describe_mat(C)"
      ],
      "execution_count": 32,
      "outputs": [
        {
          "output_type": "stream",
          "name": "stdout",
          "text": [
            "Matrix:\n",
            "[[2 0 0]\n",
            " [6 4 0]\n",
            " [7 7 1]]\n",
            "\n",
            "Shape:\t(3, 3)\n",
            "Rank:\t2\n",
            "\n"
          ]
        }
      ]
    },
    {
      "cell_type": "markdown",
      "metadata": {
        "id": "ywyNT2pgaXoo"
      },
      "source": [
        "# **Task Number 2**\n",
        "Create a function named `mat_operations()` that takes in two matrices a input parameters it should:<br>\n",
        " 1. Determines if the matrices are viable for operation and returns your own error message if they are not viable.\n",
        " 2. Returns the sum of the matrices.\n",
        " 3. Returns the differen of the matrices.\n",
        " 4. Returns the element-wise multiplication of the matrices.\n",
        " 5. Returns the element-wise division of the matrices.\n",
        "\n",
        "Use 5 sample matrices in which their shapes are not lower than $(3,3)$.\n",
        "In your methodology, create a flowchart discuss the functions and methods you have done. Present your results in the results section showing the description of each matrix you have declared."
      ]
    },
    {
      "cell_type": "code",
      "metadata": {
        "id": "AeVERPOU_yq-"
      },
      "source": [
        "def operations(matrix):\n",
        "    print(f'Matrix:\\n{matrix}\\n\\nShape:\\t{matrix.shape}\\nRank:\\t{matrix.ndim}\\n')"
      ],
      "execution_count": 46,
      "outputs": []
    },
    {
      "cell_type": "markdown",
      "metadata": {
        "id": "uADwxpaN_9y_"
      },
      "source": [
        "## **Matrix** "
      ]
    },
    {
      "cell_type": "markdown",
      "metadata": {
        "id": "CCjuGssvAH6O"
      },
      "source": [
        "### **Addition**"
      ]
    },
    {
      "cell_type": "code",
      "metadata": {
        "id": "Gn_QwiSWAAyV"
      },
      "source": [
        "a = np.array([\n",
        "    [3,1,9],\n",
        "    [2,0,7],\n",
        "    [7,1,7]\n",
        "])\n",
        "b = np.array([\n",
        "    [3,2,3],\n",
        "    [0,4,0],\n",
        "    [1,1,1]\n",
        "])"
      ],
      "execution_count": 38,
      "outputs": []
    },
    {
      "cell_type": "markdown",
      "metadata": {
        "id": "WVIEGlYFANR_"
      },
      "source": [
        "### **Subtraction**"
      ]
    },
    {
      "cell_type": "code",
      "metadata": {
        "id": "w9TZjxxpAEjI"
      },
      "source": [
        "c = np.array([\n",
        "    [4,1,1],\n",
        "    [3,5,5],\n",
        "    [0,7,0]\n",
        "])\n",
        "d = np.array([\n",
        "    [9,2,6],\n",
        "    [9,1,0],\n",
        "    [0,0,6]\n",
        "])"
      ],
      "execution_count": 39,
      "outputs": []
    },
    {
      "cell_type": "markdown",
      "metadata": {
        "id": "K_Jo42kgAQzD"
      },
      "source": [
        "### **Multiplication**"
      ]
    },
    {
      "cell_type": "code",
      "metadata": {
        "id": "oODo1E4VAFDo"
      },
      "source": [
        "e = np.array([\n",
        "    [2,2,2],\n",
        "    [4,3,4],\n",
        "    [5,7,7]\n",
        "])\n",
        "f = np.array([\n",
        "    [3,3,3],\n",
        "    [0,1,9],\n",
        "    [0,0,6]\n",
        "])"
      ],
      "execution_count": 56,
      "outputs": []
    },
    {
      "cell_type": "markdown",
      "metadata": {
        "id": "Griiihj7AXOR"
      },
      "source": [
        "### **Division**"
      ]
    },
    {
      "cell_type": "code",
      "metadata": {
        "id": "_gVOnBRvATNx"
      },
      "source": [
        "g = np.array([\n",
        "    [10,12,21],\n",
        "    [15,9,0],\n",
        "    [20,22,11]\n",
        "])\n",
        "h = np.array([\n",
        "    [2,6,7],\n",
        "    [5,3,1],\n",
        "    [10,11,1]\n",
        "])"
      ],
      "execution_count": 41,
      "outputs": []
    },
    {
      "cell_type": "markdown",
      "metadata": {
        "id": "AASomP2bDZPX"
      },
      "source": [
        "## Testing"
      ]
    },
    {
      "cell_type": "markdown",
      "metadata": {
        "id": "A-8ON7SnDfuN"
      },
      "source": [
        "### **Addition**"
      ]
    },
    {
      "cell_type": "code",
      "metadata": {
        "colab": {
          "base_uri": "https://localhost:8080/"
        },
        "id": "_zarvXGuAvdA",
        "outputId": "08155054-41a2-480b-eaed-44eb9e4daea7"
      },
      "source": [
        "TT = a+b\n",
        "operations(TT)\n",
        "np.add(a,b)"
      ],
      "execution_count": 52,
      "outputs": [
        {
          "output_type": "stream",
          "name": "stdout",
          "text": [
            "Matrix:\n",
            "[[ 6  3 12]\n",
            " [ 2  4  7]\n",
            " [ 8  2  8]]\n",
            "\n",
            "Shape:\t(3, 3)\n",
            "Rank:\t2\n",
            "\n"
          ]
        },
        {
          "output_type": "execute_result",
          "data": {
            "text/plain": [
              "array([[ 6,  3, 12],\n",
              "       [ 2,  4,  7],\n",
              "       [ 8,  2,  8]])"
            ]
          },
          "metadata": {},
          "execution_count": 52
        }
      ]
    },
    {
      "cell_type": "markdown",
      "metadata": {
        "id": "J-LQunqKDiqj"
      },
      "source": [
        "### **Subtraction**"
      ]
    },
    {
      "cell_type": "code",
      "metadata": {
        "colab": {
          "base_uri": "https://localhost:8080/"
        },
        "id": "tPaSvF6iBQG0",
        "outputId": "2870ce71-ae7c-47d1-b2ad-a553af82cc47"
      },
      "source": [
        "TT = c-d\n",
        "operations(TT)\n",
        "np.subtract(c,d)"
      ],
      "execution_count": 54,
      "outputs": [
        {
          "output_type": "stream",
          "name": "stdout",
          "text": [
            "Matrix:\n",
            "[[-5 -1 -5]\n",
            " [-6  4  5]\n",
            " [ 0  7 -6]]\n",
            "\n",
            "Shape:\t(3, 3)\n",
            "Rank:\t2\n",
            "\n"
          ]
        },
        {
          "output_type": "execute_result",
          "data": {
            "text/plain": [
              "array([[-5, -1, -5],\n",
              "       [-6,  4,  5],\n",
              "       [ 0,  7, -6]])"
            ]
          },
          "metadata": {},
          "execution_count": 54
        }
      ]
    },
    {
      "cell_type": "markdown",
      "metadata": {
        "id": "zZrp-oX0DmWb"
      },
      "source": [
        "### **Multiplication**"
      ]
    },
    {
      "cell_type": "code",
      "metadata": {
        "colab": {
          "base_uri": "https://localhost:8080/"
        },
        "id": "Uoo_los2BuGU",
        "outputId": "f0dbab8c-632c-47a1-d168-dbc43b93e5e9"
      },
      "source": [
        "2*e\n",
        "TT = e*f\n",
        "operations(TT)\n",
        "np.multiply(e,f)\n",
        "4*f"
      ],
      "execution_count": 60,
      "outputs": [
        {
          "output_type": "stream",
          "name": "stdout",
          "text": [
            "Matrix:\n",
            "[[ 6  6  6]\n",
            " [ 0  3 36]\n",
            " [ 0  0 42]]\n",
            "\n",
            "Shape:\t(3, 3)\n",
            "Rank:\t2\n",
            "\n"
          ]
        },
        {
          "output_type": "execute_result",
          "data": {
            "text/plain": [
              "array([[12, 12, 12],\n",
              "       [ 0,  4, 36],\n",
              "       [ 0,  0, 24]])"
            ]
          },
          "metadata": {},
          "execution_count": 60
        }
      ]
    },
    {
      "cell_type": "markdown",
      "metadata": {
        "id": "vnchb1QGDsyR"
      },
      "source": [
        "### **Division**"
      ]
    },
    {
      "cell_type": "code",
      "metadata": {
        "colab": {
          "base_uri": "https://localhost:8080/"
        },
        "id": "BMGa-lcoCxN1",
        "outputId": "4f11d092-212b-4a15-92ef-843bdd88bf4c"
      },
      "source": [
        "TT = g/h\n",
        "operations(TT)\n",
        "np.divide(g,h)\n",
        "g/5\n",
        "1/h"
      ],
      "execution_count": 62,
      "outputs": [
        {
          "output_type": "stream",
          "name": "stdout",
          "text": [
            "Matrix:\n",
            "[[ 5.  2.  3.]\n",
            " [ 3.  3.  0.]\n",
            " [ 2.  2. 11.]]\n",
            "\n",
            "Shape:\t(3, 3)\n",
            "Rank:\t2\n",
            "\n"
          ]
        },
        {
          "output_type": "execute_result",
          "data": {
            "text/plain": [
              "array([[0.5       , 0.16666667, 0.14285714],\n",
              "       [0.2       , 0.33333333, 1.        ],\n",
              "       [0.1       , 0.09090909, 1.        ]])"
            ]
          },
          "metadata": {},
          "execution_count": 62
        }
      ]
    },
    {
      "cell_type": "markdown",
      "metadata": {
        "id": "CCLgKGeXFnJW"
      },
      "source": [
        "# **Conclusion**\n"
      ]
    },
    {
      "cell_type": "markdown",
      "metadata": {
        "id": "alwUnAdUF5Fa"
      },
      "source": [
        "Based on the Lab work done by the students it signifies that having a fundamental information about matrix is most likely a benefit for the student due to the reason that the students possibly already know what codes to input and distinguish what are the necessary codes needed for that specific program to be inputed. Likewise, Matrix operation do help in taking care of issues in innovation as far as security as it play a significant role in detection of a problem, in science for refraction and reflection, and also in mathematics "
      ]
    }
  ]
}