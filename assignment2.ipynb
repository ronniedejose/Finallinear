{
  "nbformat": 4,
  "nbformat_minor": 0,
  "metadata": {
    "colab": {
      "name": "assignment2.ipynb",
      "provenance": [],
      "collapsed_sections": [],
      "authorship_tag": "ABX9TyPnRHeprKtQvV7NuKn9mMvb",
      "include_colab_link": true
    },
    "kernelspec": {
      "name": "python3",
      "display_name": "Python 3"
    },
    "language_info": {
      "name": "python"
    }
  },
  "cells": [
    {
      "cell_type": "markdown",
      "metadata": {
        "id": "view-in-github",
        "colab_type": "text"
      },
      "source": [
        "<a href=\"https://colab.research.google.com/github/ronniedejose/Finallinear/blob/main/assignment2.ipynb\" target=\"_parent\"><img src=\"https://colab.research.google.com/assets/colab-badge.svg\" alt=\"Open In Colab\"/></a>"
      ]
    },
    {
      "cell_type": "markdown",
      "metadata": {
        "id": "KAp3fCZrOwno"
      },
      "source": [
        "\n",
        "Variables and Data Types"
      ]
    },
    {
      "cell_type": "code",
      "metadata": {
        "id": "MrhpK5sp0-Kw"
      },
      "source": [
        "x = 1\n",
        "a, b = 3, -2"
      ],
      "execution_count": null,
      "outputs": []
    },
    {
      "cell_type": "code",
      "metadata": {
        "colab": {
          "base_uri": "https://localhost:8080/"
        },
        "id": "dCex9BuEObV0",
        "outputId": "277d234f-c99d-4f80-b27c-72dfe0368682"
      },
      "source": [
        "type(x)"
      ],
      "execution_count": null,
      "outputs": [
        {
          "output_type": "execute_result",
          "data": {
            "text/plain": [
              "float"
            ]
          },
          "metadata": {},
          "execution_count": 19
        }
      ]
    },
    {
      "cell_type": "code",
      "metadata": {
        "colab": {
          "base_uri": "https://localhost:8080/"
        },
        "id": "uE-wznH8OpS2",
        "outputId": "3b9e2a81-1b16-4978-f684-ae3b4d798b40"
      },
      "source": [
        "y = 3.0\n",
        "type(y)"
      ],
      "execution_count": null,
      "outputs": [
        {
          "output_type": "execute_result",
          "data": {
            "text/plain": [
              "float"
            ]
          },
          "metadata": {},
          "execution_count": 20
        }
      ]
    },
    {
      "cell_type": "code",
      "metadata": {
        "colab": {
          "base_uri": "https://localhost:8080/"
        },
        "id": "JoHKqp6XOq22",
        "outputId": "3cf5630c-3a00-43e0-f8ad-ff135887fab3"
      },
      "source": [
        "x = float(x)\n",
        "type(x)"
      ],
      "execution_count": null,
      "outputs": [
        {
          "output_type": "execute_result",
          "data": {
            "text/plain": [
              "float"
            ]
          },
          "metadata": {},
          "execution_count": 21
        }
      ]
    },
    {
      "cell_type": "code",
      "metadata": {
        "colab": {
          "base_uri": "https://localhost:8080/"
        },
        "id": "Bf9sMjvEOsgI",
        "outputId": "07ddc6bf-1fdd-4b70-8be7-a1d13104f663"
      },
      "source": [
        "s, t, u = \"1\", '3', 'three'\n",
        "type(u)"
      ],
      "execution_count": null,
      "outputs": [
        {
          "output_type": "execute_result",
          "data": {
            "text/plain": [
              "str"
            ]
          },
          "metadata": {},
          "execution_count": 2
        }
      ]
    },
    {
      "cell_type": "markdown",
      "metadata": {
        "id": "R4NoVeDBO2le"
      },
      "source": [
        "Arithmetic Operations"
      ]
    },
    {
      "cell_type": "code",
      "metadata": {
        "id": "W15iP7FNPCZy"
      },
      "source": [
        "w, x, y, z = 4.0, -3.0, 2, -32"
      ],
      "execution_count": null,
      "outputs": []
    },
    {
      "cell_type": "code",
      "metadata": {
        "id": "8KEE9QiXPF7t"
      },
      "source": [
        "### Addition\n",
        "S = w + x"
      ],
      "execution_count": null,
      "outputs": []
    },
    {
      "cell_type": "code",
      "metadata": {
        "id": "6YHBDJCMPRMt"
      },
      "source": [
        "### Subraction\n",
        "D = y - z"
      ],
      "execution_count": null,
      "outputs": []
    },
    {
      "cell_type": "code",
      "metadata": {
        "id": "x66FuMSvPS3E"
      },
      "source": [
        "### Multiplication\n",
        "P = w*z"
      ],
      "execution_count": null,
      "outputs": []
    },
    {
      "cell_type": "code",
      "metadata": {
        "id": "nGAWtnCtP9rp"
      },
      "source": [
        "### Division\n",
        "Q = y/x"
      ],
      "execution_count": null,
      "outputs": []
    },
    {
      "cell_type": "code",
      "metadata": {
        "id": "TR1kxqwZP_b5"
      },
      "source": [
        "### Floor Division\n",
        "Qf = w//z\n",
        "Qf"
      ],
      "execution_count": null,
      "outputs": []
    },
    {
      "cell_type": "code",
      "metadata": {
        "id": "lcdSe4XzQBgz"
      },
      "source": [
        "### Exponentiation\n",
        "E = w**w"
      ],
      "execution_count": null,
      "outputs": []
    },
    {
      "cell_type": "code",
      "metadata": {
        "id": "A87msruVQCjO"
      },
      "source": [
        "### Modulo\n",
        "mod = z%x\n",
        "mod"
      ],
      "execution_count": null,
      "outputs": []
    },
    {
      "cell_type": "markdown",
      "metadata": {
        "id": "5CAA1TKpQLhr"
      },
      "source": [
        "Assignment"
      ]
    },
    {
      "cell_type": "code",
      "metadata": {
        "id": "TcpM2OFMQO8Z"
      },
      "source": [
        "A, B, C, D, E = 0, 100, 2, 1, 2"
      ],
      "execution_count": null,
      "outputs": []
    },
    {
      "cell_type": "code",
      "metadata": {
        "id": "AyqGB6XJQRdT"
      },
      "source": [
        "A += w"
      ],
      "execution_count": null,
      "outputs": []
    },
    {
      "cell_type": "code",
      "metadata": {
        "colab": {
          "base_uri": "https://localhost:8080/"
        },
        "id": "bbMXL4EPQSta",
        "outputId": "23168b35-0b99-4e33-b610-5ea90ba19803"
      },
      "source": [
        "B -= x\n",
        "B"
      ],
      "execution_count": null,
      "outputs": [
        {
          "output_type": "execute_result",
          "data": {
            "text/plain": [
              "103.0"
            ]
          },
          "metadata": {},
          "execution_count": 25
        }
      ]
    },
    {
      "cell_type": "code",
      "metadata": {
        "colab": {
          "base_uri": "https://localhost:8080/"
        },
        "id": "pso6BkKeQUdi",
        "outputId": "1c666df5-c5a4-4fc4-b2ca-26f1a9035674"
      },
      "source": [
        "C *= w\n",
        "C"
      ],
      "execution_count": null,
      "outputs": [
        {
          "output_type": "execute_result",
          "data": {
            "text/plain": [
              "8.0"
            ]
          },
          "metadata": {},
          "execution_count": 26
        }
      ]
    },
    {
      "cell_type": "code",
      "metadata": {
        "id": "qANmBxZmQWcE"
      },
      "source": [
        "D /= x"
      ],
      "execution_count": null,
      "outputs": []
    },
    {
      "cell_type": "code",
      "metadata": {
        "id": "Oawls_U1QX4c"
      },
      "source": [
        "E **= y"
      ],
      "execution_count": null,
      "outputs": []
    },
    {
      "cell_type": "markdown",
      "metadata": {
        "id": "EdveHrYRQfJW"
      },
      "source": [
        "Comparators"
      ]
    },
    {
      "cell_type": "code",
      "metadata": {
        "id": "sHHSyeh6QgHQ"
      },
      "source": [
        "size_1, size_2, size_3 = 1, 2.0, \"1\"\n",
        "true_size = 1.0"
      ],
      "execution_count": null,
      "outputs": []
    },
    {
      "cell_type": "code",
      "metadata": {
        "colab": {
          "base_uri": "https://localhost:8080/"
        },
        "id": "RMs4R--CQhgX",
        "outputId": "d9b5c2b9-a53d-4180-ae06-9a85ec03728a"
      },
      "source": [
        "## Equality\n",
        "size_1 == true_size"
      ],
      "execution_count": null,
      "outputs": [
        {
          "output_type": "execute_result",
          "data": {
            "text/plain": [
              "True"
            ]
          },
          "metadata": {},
          "execution_count": 30
        }
      ]
    },
    {
      "cell_type": "code",
      "metadata": {
        "colab": {
          "base_uri": "https://localhost:8080/"
        },
        "id": "_bSnPvj4Qio-",
        "outputId": "2fc8877d-41c9-4948-867f-8ec751cdc7e0"
      },
      "source": [
        "## Non-Equality\n",
        "size_2 != true_size"
      ],
      "execution_count": null,
      "outputs": [
        {
          "output_type": "execute_result",
          "data": {
            "text/plain": [
              "True"
            ]
          },
          "metadata": {},
          "execution_count": 31
        }
      ]
    },
    {
      "cell_type": "code",
      "metadata": {
        "id": "38lVmBEMQkI4"
      },
      "source": [
        "## Inequality\n",
        "s1 = size_1 > size_2\n",
        "s2 = size_1 < size_2/2\n",
        "s3 = true_size >= size_1\n",
        "s4 = size_2 <= true_size"
      ],
      "execution_count": null,
      "outputs": []
    },
    {
      "cell_type": "markdown",
      "metadata": {
        "id": "pTYWT_KCQl38"
      },
      "source": [
        "Logical"
      ]
    },
    {
      "cell_type": "code",
      "metadata": {
        "colab": {
          "base_uri": "https://localhost:8080/"
        },
        "id": "LvvNvjPrQoyF",
        "outputId": "9cfc9e63-0263-4c17-9c00-a3d95813a764"
      },
      "source": [
        "size_1 == true_size"
      ],
      "execution_count": null,
      "outputs": [
        {
          "output_type": "execute_result",
          "data": {
            "text/plain": [
              "True"
            ]
          },
          "metadata": {},
          "execution_count": 34
        }
      ]
    },
    {
      "cell_type": "code",
      "metadata": {
        "colab": {
          "base_uri": "https://localhost:8080/"
        },
        "id": "Jlyf7cpmQq9D",
        "outputId": "6950b656-82dd-4277-a8fe-3ad5344d5c96"
      },
      "source": [
        "size_1 is true_size"
      ],
      "execution_count": null,
      "outputs": [
        {
          "output_type": "execute_result",
          "data": {
            "text/plain": [
              "False"
            ]
          },
          "metadata": {},
          "execution_count": 35
        }
      ]
    },
    {
      "cell_type": "code",
      "metadata": {
        "colab": {
          "base_uri": "https://localhost:8080/"
        },
        "id": "s2qhB5kHQsEz",
        "outputId": "25202fba-df82-4c84-cc46-c2dca0fad44d"
      },
      "source": [
        "size_1 is not true_size"
      ],
      "execution_count": null,
      "outputs": [
        {
          "output_type": "execute_result",
          "data": {
            "text/plain": [
              "True"
            ]
          },
          "metadata": {},
          "execution_count": 37
        }
      ]
    },
    {
      "cell_type": "code",
      "metadata": {
        "colab": {
          "base_uri": "https://localhost:8080/"
        },
        "id": "UHwxLELmQtSW",
        "outputId": "04c61c4c-cb75-478e-b66e-353aaf2e8a08"
      },
      "source": [
        "P, Q = True, False\n",
        "conj = P and Q\n",
        "conj"
      ],
      "execution_count": null,
      "outputs": [
        {
          "output_type": "execute_result",
          "data": {
            "text/plain": [
              "False"
            ]
          },
          "metadata": {},
          "execution_count": 36
        }
      ]
    },
    {
      "cell_type": "code",
      "metadata": {
        "colab": {
          "base_uri": "https://localhost:8080/"
        },
        "id": "1yWUiO6SQu9w",
        "outputId": "40fb1820-fca3-4f02-f0f2-1c3e02c80258"
      },
      "source": [
        "disj = P or Q\n",
        "disj"
      ],
      "execution_count": null,
      "outputs": [
        {
          "output_type": "execute_result",
          "data": {
            "text/plain": [
              "True"
            ]
          },
          "metadata": {},
          "execution_count": 38
        }
      ]
    },
    {
      "cell_type": "code",
      "metadata": {
        "colab": {
          "base_uri": "https://localhost:8080/"
        },
        "id": "8MDd6jClQwhq",
        "outputId": "9871a2f8-109c-4d8d-8a4e-7de0132934fb"
      },
      "source": [
        "nand = not(P and Q)\n",
        "nand"
      ],
      "execution_count": null,
      "outputs": [
        {
          "output_type": "execute_result",
          "data": {
            "text/plain": [
              "True"
            ]
          },
          "metadata": {},
          "execution_count": 40
        }
      ]
    },
    {
      "cell_type": "code",
      "metadata": {
        "colab": {
          "base_uri": "https://localhost:8080/"
        },
        "id": "iKL3z0SIQyah",
        "outputId": "17c2dc9a-29eb-4a4a-da80-f3bd0adb8a00"
      },
      "source": [
        "xor = (not P and Q) or (P and not Q)\n",
        "xor"
      ],
      "execution_count": null,
      "outputs": [
        {
          "output_type": "execute_result",
          "data": {
            "text/plain": [
              "True"
            ]
          },
          "metadata": {},
          "execution_count": 39
        }
      ]
    },
    {
      "cell_type": "markdown",
      "metadata": {
        "id": "uyTvMJuWQ-pJ"
      },
      "source": [
        "Input and Output"
      ]
    },
    {
      "cell_type": "code",
      "metadata": {
        "colab": {
          "base_uri": "https://localhost:8080/"
        },
        "id": "-Z6dN700Q7Nt",
        "outputId": "d389ad9e-9d58-406e-cac1-5c2da9cb9a17"
      },
      "source": [
        "print(\"Hello World!\")"
      ],
      "execution_count": null,
      "outputs": [
        {
          "output_type": "stream",
          "name": "stdout",
          "text": [
            "Hello World!\n"
          ]
        }
      ]
    },
    {
      "cell_type": "code",
      "metadata": {
        "id": "-btziDJ2RAVB"
      },
      "source": [
        "cnt = 14000"
      ],
      "execution_count": null,
      "outputs": []
    },
    {
      "cell_type": "code",
      "metadata": {
        "colab": {
          "base_uri": "https://localhost:8080/"
        },
        "id": "r0maYMmORB5B",
        "outputId": "73e348bb-c14f-4f7c-ea4f-351d96e0a4e5"
      },
      "source": [
        "string = \"Hello World!\"\n",
        "print(string, \", Current COVID count is:\", cnt)\n",
        "cnt += 10000"
      ],
      "execution_count": null,
      "outputs": [
        {
          "output_type": "stream",
          "name": "stdout",
          "text": [
            "Hello World! , Current COVID count is: 14000\n"
          ]
        }
      ]
    },
    {
      "cell_type": "code",
      "metadata": {
        "colab": {
          "base_uri": "https://localhost:8080/"
        },
        "id": "MzY1xCpvRDXN",
        "outputId": "36ad79e2-73aa-46f9-d46d-3e4224c92d1c"
      },
      "source": [
        "print(f\"{string}, current count is: {cnt}\")"
      ],
      "execution_count": null,
      "outputs": [
        {
          "output_type": "stream",
          "name": "stdout",
          "text": [
            "Hello World!, current count is: 24000\n"
          ]
        }
      ]
    },
    {
      "cell_type": "code",
      "metadata": {
        "colab": {
          "base_uri": "https://localhost:8080/"
        },
        "id": "cLsr8LgxREr1",
        "outputId": "b849b6bf-4d6f-4b12-fbe6-f2dfda46c2de"
      },
      "source": [
        "sem_grade = 86.25\n",
        "name = \"Eugene\"\n",
        "print(\"Hello {}, your semestral grade is: {}\".format(name, sem_grade))"
      ],
      "execution_count": null,
      "outputs": [
        {
          "output_type": "stream",
          "name": "stdout",
          "text": [
            "Hello Eugene, your semestral grade is: 86.25\n"
          ]
        }
      ]
    },
    {
      "cell_type": "code",
      "metadata": {
        "colab": {
          "base_uri": "https://localhost:8080/"
        },
        "id": "b9QHx923RFmp",
        "outputId": "9f135756-5e5b-44f6-8f78-463a34a4ab99"
      },
      "source": [
        "pg, mg, fg = 0.3, 0.3, 0.4\n",
        "print(\"The weights of your semestral grades are:\\\n",
        "\\n\\t {:.2%} for Prelims\\\n",
        "\\n\\t {:.2%} for Midterms, and\\\n",
        "\\n\\t {:.2%} for Finals.\".format(pg, mg, fg))"
      ],
      "execution_count": null,
      "outputs": [
        {
          "output_type": "stream",
          "name": "stdout",
          "text": [
            "The weights of your semestral grades are:\n",
            "\t 30.00% for Prelims\n",
            "\t 30.00% for Midterms, and\n",
            "\t 40.00% for Finals.\n"
          ]
        }
      ]
    },
    {
      "cell_type": "code",
      "metadata": {
        "colab": {
          "base_uri": "https://localhost:8080/"
        },
        "id": "9IxBv-TKRHkp",
        "outputId": "9ca56ae8-1890-4eec-8bd1-f1fff848685b"
      },
      "source": [
        "e = input(\"Enter a number: \")"
      ],
      "execution_count": null,
      "outputs": [
        {
          "name": "stdout",
          "output_type": "stream",
          "text": [
            "Enter a number: 2\n"
          ]
        }
      ]
    },
    {
      "cell_type": "code",
      "metadata": {
        "id": "hkBg2BbnRI7W"
      },
      "source": [
        "name = input(\"Enter your name: \")\n",
        "pg = input(\"Enter prelim grade: \")\n",
        "mg = input(\"Enter midterm grade: \")\n",
        "fg = input(\"Enter final grade: \")\n",
        "sem_grade = None\n",
        "print(\"Hello {}, your semestral grade is: {}\".format(name, sem_grade))"
      ],
      "execution_count": null,
      "outputs": []
    },
    {
      "cell_type": "markdown",
      "metadata": {
        "id": "W5h1Y_wZROYE"
      },
      "source": [
        "While Looping Statements"
      ]
    },
    {
      "cell_type": "code",
      "metadata": {
        "id": "bvNRJvtVRSaa"
      },
      "source": [
        "## while loops\n",
        "i, j = 0 , 10\n",
        "while(i<=j):\n",
        "    print(f\"{i}\\t|\\t{j}\")\n",
        "    i += 1"
      ],
      "execution_count": null,
      "outputs": []
    },
    {
      "cell_type": "markdown",
      "metadata": {
        "id": "G_gSWbRpRWix"
      },
      "source": [
        "\n",
        "For Looping Statements"
      ]
    },
    {
      "cell_type": "code",
      "metadata": {
        "id": "GeOuv57qRUZf"
      },
      "source": [
        "# for(int = 0; i<=10; i++){\n",
        "# printf(i)\n",
        "# }\n",
        "\n",
        "i = 0\n",
        "for i in range(11):\n",
        "  print(i)"
      ],
      "execution_count": null,
      "outputs": []
    },
    {
      "cell_type": "code",
      "metadata": {
        "id": "DSWFTer8RZ6j"
      },
      "source": [
        "playlist = [\"Bahay Kubo\", \"Magandang Kanta\", \"Buko\"]\n",
        "print('Now Playing:\\n')\n",
        "for song in playlist:\n",
        "    print(song)"
      ],
      "execution_count": null,
      "outputs": []
    },
    {
      "cell_type": "markdown",
      "metadata": {
        "id": "3wjMcXsLRl-B"
      },
      "source": [
        "Condition Statements"
      ]
    },
    {
      "cell_type": "code",
      "metadata": {
        "id": "B9xABTfVRmb_"
      },
      "source": [
        "num_1, num_2 = 14, 12\n",
        "if(num_1 == num_2):\n",
        "    print(\"HAHA\")\n",
        "elif(num_1>num_2):\n",
        "    print(\"HOHO\")\n",
        "else:\n",
        "    print(\"HUHU\")"
      ],
      "execution_count": null,
      "outputs": []
    },
    {
      "cell_type": "markdown",
      "metadata": {
        "id": "dds0i0d-RpY-"
      },
      "source": [
        "Functions"
      ]
    },
    {
      "cell_type": "code",
      "metadata": {
        "id": "UgsbM4F8RomL"
      },
      "source": [
        "# void DeleteUser (int userid){\n",
        "#   delete(userid); \n",
        "#}\n",
        "\n",
        "def delete_user (userid):\n",
        "    print(\"Successfully deleted user: {}\".format(userid))"
      ],
      "execution_count": null,
      "outputs": []
    },
    {
      "cell_type": "code",
      "metadata": {
        "id": "epJgo1PbRs-2"
      },
      "source": [
        "userid = 2020_100100\n",
        "delete_user(2020_100100)"
      ],
      "execution_count": null,
      "outputs": []
    },
    {
      "cell_type": "code",
      "metadata": {
        "id": "bp7IVCeQRvCo"
      },
      "source": [
        "def add(addend1, addend2):\n",
        "  sum = addend1 + addend2\n",
        "  return sum"
      ],
      "execution_count": null,
      "outputs": []
    },
    {
      "cell_type": "code",
      "metadata": {
        "id": "8jQyFck_RwWC"
      },
      "source": [
        "add(5, 4)"
      ],
      "execution_count": null,
      "outputs": []
    }
  ]
}