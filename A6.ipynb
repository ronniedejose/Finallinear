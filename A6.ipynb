{
  "nbformat": 4,
  "nbformat_minor": 0,
  "metadata": {
    "colab": {
      "name": "A6",
      "provenance": [],
      "collapsed_sections": [],
      "authorship_tag": "ABX9TyPlWjWc1LrtI2GorQRyGG+0",
      "include_colab_link": true
    },
    "kernelspec": {
      "name": "python3",
      "display_name": "Python 3"
    },
    "language_info": {
      "name": "python"
    }
  },
  "cells": [
    {
      "cell_type": "markdown",
      "metadata": {
        "id": "view-in-github",
        "colab_type": "text"
      },
      "source": [
        "<a href=\"https://colab.research.google.com/github/ronniedejose/Finallinear/blob/main/A6.ipynb\" target=\"_parent\"><img src=\"https://colab.research.google.com/assets/colab-badge.svg\" alt=\"Open In Colab\"/></a>"
      ]
    },
    {
      "cell_type": "code",
      "metadata": {
        "id": "l_10IESDJ8YP"
      },
      "source": [
        "import numpy as np\n",
        "import matplotlib.pyplot as plt\n",
        "%matplotlib inline"
      ],
      "execution_count": 1,
      "outputs": []
    },
    {
      "cell_type": "markdown",
      "metadata": {
        "id": "LYiJQRj6LpTI"
      },
      "source": [
        "## **Transposition** "
      ]
    },
    {
      "cell_type": "markdown",
      "metadata": {
        "id": "ZP-lJ5_ILqoa"
      },
      "source": [
        "Transposition is an operatorion that helps flips a matrix over its diagonal which can be achieved by switching the row and column that indices of the matrix a by producing another matrix likewise transposition is the transpose of a matrix that is the interchanging of rows and columns."
      ]
    },
    {
      "cell_type": "markdown",
      "metadata": {
        "id": "NkZq8o5cNb5G"
      },
      "source": [
        "$$A = \\begin{bmatrix} 1 & 2 & 5\\\\5 & -1 &0 \\\\ 0 & -3 & 3\\end{bmatrix} $$"
      ]
    },
    {
      "cell_type": "markdown",
      "metadata": {
        "id": "vlx2aUuENdeD"
      },
      "source": [
        "$$ A^T = \\begin{bmatrix} 1 & 5 & 0\\\\2 & -1 &-3 \\\\ 5 & 0 & 3\\end{bmatrix}$$"
      ]
    },
    {
      "cell_type": "code",
      "metadata": {
        "colab": {
          "base_uri": "https://localhost:8080/"
        },
        "id": "DQ3CSBTzNhUg",
        "outputId": "3151c5a2-922e-437c-91e4-4ff1b17951be"
      },
      "source": [
        "A = np.array([\n",
        "    [1 ,2, 5],\n",
        "    [5, -1, 0],\n",
        "    [0, -3, 3]\n",
        "])\n",
        "A"
      ],
      "execution_count": 153,
      "outputs": [
        {
          "output_type": "execute_result",
          "data": {
            "text/plain": [
              "array([[ 1,  2,  5],\n",
              "       [ 5, -1,  0],\n",
              "       [ 0, -3,  3]])"
            ]
          },
          "metadata": {},
          "execution_count": 153
        }
      ]
    },
    {
      "cell_type": "code",
      "metadata": {
        "colab": {
          "base_uri": "https://localhost:8080/"
        },
        "id": "BCfslt21NjkM",
        "outputId": "7ab8f81d-d905-4824-8851-4d18ee774d7d"
      },
      "source": [
        "AT1 = np.transpose(A)\n",
        "AT1"
      ],
      "execution_count": 6,
      "outputs": [
        {
          "output_type": "execute_result",
          "data": {
            "text/plain": [
              "array([[ 1,  5,  0],\n",
              "       [ 2, -1, -3],\n",
              "       [ 5,  0,  3]])"
            ]
          },
          "metadata": {},
          "execution_count": 6
        }
      ]
    },
    {
      "cell_type": "code",
      "metadata": {
        "colab": {
          "base_uri": "https://localhost:8080/"
        },
        "id": "8uS2bbXQNy85",
        "outputId": "bc3c9ab5-0e5d-4c7b-b0fb-06d7006aeba2"
      },
      "source": [
        "AT2 = A.T\n",
        "AT2"
      ],
      "execution_count": 7,
      "outputs": [
        {
          "output_type": "execute_result",
          "data": {
            "text/plain": [
              "array([[ 1,  5,  0],\n",
              "       [ 2, -1, -3],\n",
              "       [ 5,  0,  3]])"
            ]
          },
          "metadata": {},
          "execution_count": 7
        }
      ]
    },
    {
      "cell_type": "code",
      "metadata": {
        "colab": {
          "base_uri": "https://localhost:8080/"
        },
        "id": "aatXciXSN0B7",
        "outputId": "a65476d8-5e84-48a8-98d6-a731ea240ed1"
      },
      "source": [
        "np.array_equiv(AT1, AT2)"
      ],
      "execution_count": 8,
      "outputs": [
        {
          "output_type": "execute_result",
          "data": {
            "text/plain": [
              "True"
            ]
          },
          "metadata": {},
          "execution_count": 8
        }
      ]
    },
    {
      "cell_type": "code",
      "metadata": {
        "colab": {
          "base_uri": "https://localhost:8080/"
        },
        "id": "Hyzk4pHvN1Aq",
        "outputId": "c6ea9730-8349-48ab-e149-82521481c67d"
      },
      "source": [
        "B = np.array([\n",
        "    [1,2,3,4],\n",
        "    [1,0,2,1],\n",
        "])\n",
        "B.shape"
      ],
      "execution_count": 9,
      "outputs": [
        {
          "output_type": "execute_result",
          "data": {
            "text/plain": [
              "(2, 4)"
            ]
          },
          "metadata": {},
          "execution_count": 9
        }
      ]
    },
    {
      "cell_type": "code",
      "metadata": {
        "colab": {
          "base_uri": "https://localhost:8080/"
        },
        "id": "VURwJ2GuN1eA",
        "outputId": "b6342ac7-cbd0-4c30-e47d-1fd132091589"
      },
      "source": [
        "np.transpose(B).shape"
      ],
      "execution_count": 10,
      "outputs": [
        {
          "output_type": "execute_result",
          "data": {
            "text/plain": [
              "(4, 2)"
            ]
          },
          "metadata": {},
          "execution_count": 10
        }
      ]
    },
    {
      "cell_type": "code",
      "metadata": {
        "colab": {
          "base_uri": "https://localhost:8080/"
        },
        "id": "Z9AEa10rN3aN",
        "outputId": "ef3266d3-f3b4-46ce-ab6a-5909c6150fd4"
      },
      "source": [
        "B.T.shape"
      ],
      "execution_count": 11,
      "outputs": [
        {
          "output_type": "execute_result",
          "data": {
            "text/plain": [
              "(4, 2)"
            ]
          },
          "metadata": {},
          "execution_count": 11
        }
      ]
    },
    {
      "cell_type": "markdown",
      "metadata": {
        "id": "uzQks1m0N9iS"
      },
      "source": [
        "**Try**\n"
      ]
    },
    {
      "cell_type": "code",
      "metadata": {
        "colab": {
          "base_uri": "https://localhost:8080/"
        },
        "id": "MonGPmBdOMqW",
        "outputId": "a0c4bc0c-6d06-4548-98c4-cdbe01cc85bb"
      },
      "source": [
        "Z=np.array([\n",
        "    [2,4,6],\n",
        "    [4,2,4]        \n",
        "])\n",
        "Z.shape"
      ],
      "execution_count": 17,
      "outputs": [
        {
          "output_type": "execute_result",
          "data": {
            "text/plain": [
              "(2, 3)"
            ]
          },
          "metadata": {},
          "execution_count": 17
        }
      ]
    },
    {
      "cell_type": "code",
      "metadata": {
        "colab": {
          "base_uri": "https://localhost:8080/"
        },
        "id": "Fd15qlZKOOdi",
        "outputId": "87704028-00b3-4a92-9d29-e0c9faa07fc1"
      },
      "source": [
        "Z.T.shape"
      ],
      "execution_count": 19,
      "outputs": [
        {
          "output_type": "execute_result",
          "data": {
            "text/plain": [
              "(3, 2)"
            ]
          },
          "metadata": {},
          "execution_count": 19
        }
      ]
    },
    {
      "cell_type": "code",
      "metadata": {
        "colab": {
          "base_uri": "https://localhost:8080/"
        },
        "id": "JoPP8ITrOQEG",
        "outputId": "28cafb1d-f41b-4f6c-9820-1247dfe5a61a"
      },
      "source": [
        "ZT = Z.T\n",
        "ZT"
      ],
      "execution_count": 18,
      "outputs": [
        {
          "output_type": "execute_result",
          "data": {
            "text/plain": [
              "array([[2, 4],\n",
              "       [4, 2],\n",
              "       [6, 4]])"
            ]
          },
          "metadata": {},
          "execution_count": 18
        }
      ]
    },
    {
      "cell_type": "markdown",
      "metadata": {
        "id": "5SuXvrtBOfwn"
      },
      "source": [
        "### **Dot product**\n",
        "Dot product is the rows of the first matrix and columns of the second matrix must have the same length or dot product can be done between the rows of the first matrix and the columns of the second matrix.\n",
        "\n",
        "\n"
      ]
    },
    {
      "cell_type": "markdown",
      "metadata": {
        "id": "h52HDmD8OvnM"
      },
      "source": [
        "$$X = \\begin{bmatrix}x_{(0,0)}&x_{(0,1)}\\\\ x_{(1,0)}&x_{(1,1)}\\end{bmatrix}, Y = \\begin{bmatrix}y_{(0,0)}&y_{(0,1)}\\\\ y_{(1,0)}&y_{(1,1)}\\end{bmatrix}$$\n",
        "\n",
        "$$X \\cdot Y= \\begin{bmatrix} x_{(0,0)}*y_{(0,0)} + x_{(0,1)}*y_{(1,0)} & x_{(0,0)}*y_{(0,1)} + x_{(0,1)}*y_{(1,1)} \\\\  x_{(1,0)}*y_{(0,0)} + x_{(1,1)}*y_{(1,0)} & x_{(1,0)}*y_{(0,1)} + x_{(1,1)}*y_{(1,1)}\n",
        "\\end{bmatrix}$$\n",
        "\n",
        "$$X = \\begin{bmatrix}1&2\\\\ 0&1\\end{bmatrix}, Y = \\begin{bmatrix}-1&0\\\\ 2&2\\end{bmatrix}$$"
      ]
    },
    {
      "cell_type": "markdown",
      "metadata": {
        "id": "1QPl4fBfPYtF"
      },
      "source": [
        "**np.dot() and np.matmul()**\n",
        "\n",
        "1. We have functions accessible to hold out multiplication between them in Python this function is named the  np.dot() and np.matmul() opertaor. The numpy.dot() function is used for performing a certain command in the matrix to perform a martrix multiplication in Python while on the other hand the np.matmul() is a function of an array  where it is used to perform the same multiplication.\n",
        "\n",
        "\n",
        "\n"
      ]
    },
    {
      "cell_type": "markdown",
      "metadata": {
        "id": "vzaR_9I9O6WK"
      },
      "source": [
        "$$X \\cdot Y= \\begin{bmatrix} 1*-1 + 2*2 & 1*0 + 2*2 \\\\  0*-1 + 1*2 & 0*0 + 1*2 \\end{bmatrix} = \\begin{bmatrix} 3 & 4 \\\\2 & 2 \\end{bmatrix}$$"
      ]
    },
    {
      "cell_type": "code",
      "metadata": {
        "id": "TPFn6-BwO8bh"
      },
      "source": [
        "X = np.array([\n",
        "    [1,2],\n",
        "    [0,1]\n",
        "])\n",
        "Y = np.array([\n",
        "    [-1,0],\n",
        "    [2,2]\n",
        "])"
      ],
      "execution_count": 20,
      "outputs": []
    },
    {
      "cell_type": "code",
      "metadata": {
        "colab": {
          "base_uri": "https://localhost:8080/"
        },
        "id": "fSjuxfkCO_o-",
        "outputId": "544041c2-2c93-4035-e92e-4c1747ff89f3"
      },
      "source": [
        "np.array_equiv(X, Y)"
      ],
      "execution_count": 21,
      "outputs": [
        {
          "output_type": "execute_result",
          "data": {
            "text/plain": [
              "False"
            ]
          },
          "metadata": {},
          "execution_count": 21
        }
      ]
    },
    {
      "cell_type": "code",
      "metadata": {
        "colab": {
          "base_uri": "https://localhost:8080/"
        },
        "id": "YBwie7vwPAxj",
        "outputId": "7bbeee88-966c-43f5-f6ea-475b622a6879"
      },
      "source": [
        "np.dot(X,Y)"
      ],
      "execution_count": 22,
      "outputs": [
        {
          "output_type": "execute_result",
          "data": {
            "text/plain": [
              "array([[3, 4],\n",
              "       [2, 2]])"
            ]
          },
          "metadata": {},
          "execution_count": 22
        }
      ]
    },
    {
      "cell_type": "code",
      "metadata": {
        "colab": {
          "base_uri": "https://localhost:8080/"
        },
        "id": "0L1GKloKPBwG",
        "outputId": "dcf782ae-a532-4934-abbe-7b5ab551e213"
      },
      "source": [
        "X.dot(Y)"
      ],
      "execution_count": 23,
      "outputs": [
        {
          "output_type": "execute_result",
          "data": {
            "text/plain": [
              "array([[3, 4],\n",
              "       [2, 2]])"
            ]
          },
          "metadata": {},
          "execution_count": 23
        }
      ]
    },
    {
      "cell_type": "code",
      "metadata": {
        "colab": {
          "base_uri": "https://localhost:8080/"
        },
        "id": "MWOy19HqPDiA",
        "outputId": "51838b4f-6cf0-4801-c4d3-01c0bdc0e8af"
      },
      "source": [
        "X @ Y"
      ],
      "execution_count": 24,
      "outputs": [
        {
          "output_type": "execute_result",
          "data": {
            "text/plain": [
              "array([[3, 4],\n",
              "       [2, 2]])"
            ]
          },
          "metadata": {},
          "execution_count": 24
        }
      ]
    },
    {
      "cell_type": "code",
      "metadata": {
        "colab": {
          "base_uri": "https://localhost:8080/"
        },
        "id": "4t1jbf2NPFcy",
        "outputId": "ad8583ef-bf02-4a06-fdff-995c1d929001"
      },
      "source": [
        "np.matmul(X,Y)"
      ],
      "execution_count": 25,
      "outputs": [
        {
          "output_type": "execute_result",
          "data": {
            "text/plain": [
              "array([[3, 4],\n",
              "       [2, 2]])"
            ]
          },
          "metadata": {},
          "execution_count": 25
        }
      ]
    },
    {
      "cell_type": "code",
      "metadata": {
        "id": "0a3d1ZGMPHrn"
      },
      "source": [
        "D = np.array([\n",
        "    [3,2,2],\n",
        "    [3,1,3],\n",
        "    [5,3,2]\n",
        "])\n",
        "E = np.array([\n",
        "    [-2,0,5],\n",
        "    [2,4,6],\n",
        "    [7,4,3]\n",
        "])"
      ],
      "execution_count": 27,
      "outputs": []
    },
    {
      "cell_type": "code",
      "metadata": {
        "colab": {
          "base_uri": "https://localhost:8080/"
        },
        "id": "Fm-rm1VHPJ_D",
        "outputId": "656f8e0f-112f-4032-f21e-fc398524be91"
      },
      "source": [
        "D @ E"
      ],
      "execution_count": 28,
      "outputs": [
        {
          "output_type": "execute_result",
          "data": {
            "text/plain": [
              "array([[12, 16, 33],\n",
              "       [17, 16, 30],\n",
              "       [10, 20, 49]])"
            ]
          },
          "metadata": {},
          "execution_count": 28
        }
      ]
    },
    {
      "cell_type": "code",
      "metadata": {
        "colab": {
          "base_uri": "https://localhost:8080/"
        },
        "id": "6Fd0LtWAPMTt",
        "outputId": "3bb11951-d10f-482d-9c86-9ba60812171a"
      },
      "source": [
        "D.dot(E)"
      ],
      "execution_count": 29,
      "outputs": [
        {
          "output_type": "execute_result",
          "data": {
            "text/plain": [
              "array([[12, 16, 33],\n",
              "       [17, 16, 30],\n",
              "       [10, 20, 49]])"
            ]
          },
          "metadata": {},
          "execution_count": 29
        }
      ]
    },
    {
      "cell_type": "code",
      "metadata": {
        "colab": {
          "base_uri": "https://localhost:8080/"
        },
        "id": "mGffU48sPNvw",
        "outputId": "d11a776a-8c2e-4945-f3d3-07bde9b9a30a"
      },
      "source": [
        "np.matmul(D, E)"
      ],
      "execution_count": 30,
      "outputs": [
        {
          "output_type": "execute_result",
          "data": {
            "text/plain": [
              "array([[12, 16, 33],\n",
              "       [17, 16, 30],\n",
              "       [10, 20, 49]])"
            ]
          },
          "metadata": {},
          "execution_count": 30
        }
      ]
    },
    {
      "cell_type": "code",
      "metadata": {
        "colab": {
          "base_uri": "https://localhost:8080/"
        },
        "id": "JNLOw4KfPP88",
        "outputId": "413714c9-320e-4ede-c420-074c74a9440f"
      },
      "source": [
        "np.dot(D, E)"
      ],
      "execution_count": 31,
      "outputs": [
        {
          "output_type": "execute_result",
          "data": {
            "text/plain": [
              "array([[12, 16, 33],\n",
              "       [17, 16, 30],\n",
              "       [10, 20, 49]])"
            ]
          },
          "metadata": {},
          "execution_count": 31
        }
      ]
    },
    {
      "cell_type": "markdown",
      "metadata": {
        "id": "IQN6KGAMUKqY"
      },
      "source": [
        "## **Rules in dot martix product**"
      ]
    },
    {
      "cell_type": "markdown",
      "metadata": {
        "id": "28gF5_jxUf4a"
      },
      "source": [
        " Rule 1: The inner dimensions of the two matrices in question must be the same. \n",
        "\n",
        "*    Example\n",
        "\n",
        " $$A = \\begin{bmatrix}2&4\\\\5&-2\\\\0&1\\end{bmatrix}, B = \\begin{bmatrix}1&1\\\\3&3\\\\-1&-2\\end{bmatrix}, C = \\begin{bmatrix}0&1&1\\\\1&1&2\\end{bmatrix}$$\n"
      ]
    },
    {
      "cell_type": "code",
      "metadata": {
        "colab": {
          "base_uri": "https://localhost:8080/"
        },
        "id": "jzLyano8Uv_A",
        "outputId": "0bb21cb4-5f57-4187-ef1a-c1f2579197ed"
      },
      "source": [
        "A = np.array([\n",
        "    [2, 4],\n",
        "    [5, -2],\n",
        "    [0, 1]\n",
        "])\n",
        "B = np.array([\n",
        "    [1,1],\n",
        "    [3,3],\n",
        "    [-1,-2]\n",
        "])\n",
        "C = np.array([\n",
        "    [0,1,1],\n",
        "    [1,1,2]\n",
        "])\n",
        "print(A.shape)\n",
        "print(B.shape)\n",
        "print(C.shape)"
      ],
      "execution_count": 32,
      "outputs": [
        {
          "output_type": "stream",
          "name": "stdout",
          "text": [
            "(3, 2)\n",
            "(3, 2)\n",
            "(2, 3)\n"
          ]
        }
      ]
    },
    {
      "cell_type": "code",
      "metadata": {
        "colab": {
          "base_uri": "https://localhost:8080/"
        },
        "id": "K-HeVXTvUxML",
        "outputId": "478d5dc0-944e-4fc0-b18c-09dcded721f7"
      },
      "source": [
        "A @ C"
      ],
      "execution_count": 33,
      "outputs": [
        {
          "output_type": "execute_result",
          "data": {
            "text/plain": [
              "array([[ 4,  6, 10],\n",
              "       [-2,  3,  1],\n",
              "       [ 1,  1,  2]])"
            ]
          },
          "metadata": {},
          "execution_count": 33
        }
      ]
    },
    {
      "cell_type": "code",
      "metadata": {
        "colab": {
          "base_uri": "https://localhost:8080/"
        },
        "id": "HQn1HXW7UyTz",
        "outputId": "70178f89-1488-43cf-9310-54dadd76558a"
      },
      "source": [
        "B @ C"
      ],
      "execution_count": 34,
      "outputs": [
        {
          "output_type": "execute_result",
          "data": {
            "text/plain": [
              "array([[ 1,  2,  3],\n",
              "       [ 3,  6,  9],\n",
              "       [-2, -3, -5]])"
            ]
          },
          "metadata": {},
          "execution_count": 34
        }
      ]
    },
    {
      "cell_type": "code",
      "metadata": {
        "colab": {
          "base_uri": "https://localhost:8080/"
        },
        "id": "IPSa3eZhU1lt",
        "outputId": "652be4b7-a189-4e66-93f5-44f0839a58dc"
      },
      "source": [
        "A @ B.T"
      ],
      "execution_count": 35,
      "outputs": [
        {
          "output_type": "execute_result",
          "data": {
            "text/plain": [
              "array([[  6,  18, -10],\n",
              "       [  3,   9,  -1],\n",
              "       [  1,   3,  -2]])"
            ]
          },
          "metadata": {},
          "execution_count": 35
        }
      ]
    },
    {
      "cell_type": "code",
      "metadata": {
        "colab": {
          "base_uri": "https://localhost:8080/"
        },
        "id": "-9K1_l1mU3l2",
        "outputId": "72d72f30-699b-4385-c4d3-b565d3f84207"
      },
      "source": [
        "X = np.array([\n",
        "    [1,2,3,0]\n",
        "])\n",
        "Y = np.array([\n",
        "    [1,0,4,-1]\n",
        "])\n",
        "print(X.shape)\n",
        "print(Y.shape)"
      ],
      "execution_count": 36,
      "outputs": [
        {
          "output_type": "stream",
          "name": "stdout",
          "text": [
            "(1, 4)\n",
            "(1, 4)\n"
          ]
        }
      ]
    },
    {
      "cell_type": "code",
      "metadata": {
        "colab": {
          "base_uri": "https://localhost:8080/"
        },
        "id": "cl-zs_k5U4ir",
        "outputId": "619cea14-86f7-41f6-e38b-ab9f7e21c2b3"
      },
      "source": [
        "Y.T @ X"
      ],
      "execution_count": 37,
      "outputs": [
        {
          "output_type": "execute_result",
          "data": {
            "text/plain": [
              "array([[ 1,  2,  3,  0],\n",
              "       [ 0,  0,  0,  0],\n",
              "       [ 4,  8, 12,  0],\n",
              "       [-1, -2, -3,  0]])"
            ]
          },
          "metadata": {},
          "execution_count": 37
        }
      ]
    },
    {
      "cell_type": "code",
      "metadata": {
        "colab": {
          "base_uri": "https://localhost:8080/"
        },
        "id": "YLWOAUZ3U7mr",
        "outputId": "5f84bd06-1c13-4be9-a296-5ccbcf2c7afd"
      },
      "source": [
        "X @ Y.T"
      ],
      "execution_count": 38,
      "outputs": [
        {
          "output_type": "execute_result",
          "data": {
            "text/plain": [
              "array([[13]])"
            ]
          },
          "metadata": {},
          "execution_count": 38
        }
      ]
    },
    {
      "cell_type": "markdown",
      "metadata": {
        "id": "JvtuBHAAU-Em"
      },
      "source": [
        "## **Rule 2: Dot Product has special properties**\n",
        " 1. $A \\cdot B \\neq B \\cdot A$\n",
        " 2. $A \\cdot (B \\cdot C) = (A \\cdot B) \\cdot C$\n",
        " 3. $A\\cdot(B+C) = A\\cdot B + A\\cdot C$\n",
        " 4. $(B+C)\\cdot A = B\\cdot A + C\\cdot A$\n",
        " 5. $A\\cdot I = A$\n",
        " 6. $A\\cdot \\emptyset = \\emptyset$ "
      ]
    },
    {
      "cell_type": "code",
      "metadata": {
        "id": "1akTtxKHVjvR"
      },
      "source": [
        "A = np.array([\n",
        "    [3,2,1],\n",
        "    [4,5,1],\n",
        "    [1,1,1]\n",
        "])\n",
        "B = np.array([\n",
        "    [4,1,6],\n",
        "    [4,1,9],\n",
        "    [1,4,8]\n",
        "])\n",
        "C = np.array([\n",
        "    [1,1,0],\n",
        "    [0,1,1],\n",
        "    [1,0,1]\n",
        "])"
      ],
      "execution_count": 39,
      "outputs": []
    },
    {
      "cell_type": "code",
      "metadata": {
        "colab": {
          "base_uri": "https://localhost:8080/"
        },
        "id": "zneRhw1OVlAq",
        "outputId": "37afa6e0-2353-4695-df90-ca53a23cd2b0"
      },
      "source": [
        "np.eye(3)"
      ],
      "execution_count": 40,
      "outputs": [
        {
          "output_type": "execute_result",
          "data": {
            "text/plain": [
              "array([[1., 0., 0.],\n",
              "       [0., 1., 0.],\n",
              "       [0., 0., 1.]])"
            ]
          },
          "metadata": {},
          "execution_count": 40
        }
      ]
    },
    {
      "cell_type": "code",
      "metadata": {
        "colab": {
          "base_uri": "https://localhost:8080/"
        },
        "id": "bAkyoZATVmNd",
        "outputId": "0f0b8e07-34bc-433e-c4ad-6c4ba83aab22"
      },
      "source": [
        "A.dot(np.eye(3))"
      ],
      "execution_count": 41,
      "outputs": [
        {
          "output_type": "execute_result",
          "data": {
            "text/plain": [
              "array([[3., 2., 1.],\n",
              "       [4., 5., 1.],\n",
              "       [1., 1., 1.]])"
            ]
          },
          "metadata": {},
          "execution_count": 41
        }
      ]
    },
    {
      "cell_type": "code",
      "metadata": {
        "id": "ObvCjAW2V4dk"
      },
      "source": [
        ""
      ],
      "execution_count": null,
      "outputs": []
    },
    {
      "cell_type": "code",
      "metadata": {
        "colab": {
          "base_uri": "https://localhost:8080/"
        },
        "id": "ngtIKOPwVnTG",
        "outputId": "7edc3112-0453-47c5-d417-64efc8bfc6d2"
      },
      "source": [
        "np.array_equal(A@B, B@A)"
      ],
      "execution_count": 42,
      "outputs": [
        {
          "output_type": "execute_result",
          "data": {
            "text/plain": [
              "False"
            ]
          },
          "metadata": {},
          "execution_count": 42
        }
      ]
    },
    {
      "cell_type": "code",
      "metadata": {
        "colab": {
          "base_uri": "https://localhost:8080/"
        },
        "id": "rjvSxGUKVqdD",
        "outputId": "08c171ad-02ac-496d-c5ae-fb723b5b5b94"
      },
      "source": [
        "E = A @ (B @ C)\n",
        "E"
      ],
      "execution_count": 43,
      "outputs": [
        {
          "output_type": "execute_result",
          "data": {
            "text/plain": [
              "array([[ 65,  30,  53],\n",
              "       [114,  50,  90],\n",
              "       [ 32,  15,  29]])"
            ]
          },
          "metadata": {},
          "execution_count": 43
        }
      ]
    },
    {
      "cell_type": "code",
      "metadata": {
        "colab": {
          "base_uri": "https://localhost:8080/"
        },
        "id": "E8FV7nclVsf9",
        "outputId": "4ac43c9b-808f-4dda-c29d-26a63b9529e4"
      },
      "source": [
        "F = (A @ B) @ C\n",
        "F"
      ],
      "execution_count": 44,
      "outputs": [
        {
          "output_type": "execute_result",
          "data": {
            "text/plain": [
              "array([[ 65,  30,  53],\n",
              "       [114,  50,  90],\n",
              "       [ 32,  15,  29]])"
            ]
          },
          "metadata": {},
          "execution_count": 44
        }
      ]
    },
    {
      "cell_type": "code",
      "metadata": {
        "colab": {
          "base_uri": "https://localhost:8080/"
        },
        "id": "DjHYsi-SVtdJ",
        "outputId": "545a3dfd-0d21-4993-81db-cd8ffc2ff2f0"
      },
      "source": [
        "np.array_equal(E, X)"
      ],
      "execution_count": 45,
      "outputs": [
        {
          "output_type": "execute_result",
          "data": {
            "text/plain": [
              "False"
            ]
          },
          "metadata": {},
          "execution_count": 45
        }
      ]
    },
    {
      "cell_type": "code",
      "metadata": {
        "colab": {
          "base_uri": "https://localhost:8080/"
        },
        "id": "j24GR8qEVuip",
        "outputId": "326eee52-bfd9-4856-be31-7b07b33a2b70"
      },
      "source": [
        "np.array_equiv(E, F)"
      ],
      "execution_count": 46,
      "outputs": [
        {
          "output_type": "execute_result",
          "data": {
            "text/plain": [
              "True"
            ]
          },
          "metadata": {},
          "execution_count": 46
        }
      ]
    },
    {
      "cell_type": "code",
      "metadata": {
        "colab": {
          "base_uri": "https://localhost:8080/"
        },
        "id": "iDSslCqwV1AO",
        "outputId": "dcd55505-9308-4359-9078-7b61030b602b"
      },
      "source": [
        "A @ E"
      ],
      "execution_count": 49,
      "outputs": [
        {
          "output_type": "execute_result",
          "data": {
            "text/plain": [
              "array([[455, 205, 368],\n",
              "       [862, 385, 691],\n",
              "       [211,  95, 172]])"
            ]
          },
          "metadata": {},
          "execution_count": 49
        }
      ]
    },
    {
      "cell_type": "code",
      "metadata": {
        "colab": {
          "base_uri": "https://localhost:8080/"
        },
        "id": "-ozYQ2H-V1-P",
        "outputId": "8a16eea8-eb2b-4f77-8e6e-26608dbc6fa6"
      },
      "source": [
        "z_mat = np.zeros(A.shape)\n",
        "z_mat"
      ],
      "execution_count": 50,
      "outputs": [
        {
          "output_type": "execute_result",
          "data": {
            "text/plain": [
              "array([[0., 0., 0.],\n",
              "       [0., 0., 0.],\n",
              "       [0., 0., 0.]])"
            ]
          },
          "metadata": {},
          "execution_count": 50
        }
      ]
    },
    {
      "cell_type": "code",
      "metadata": {
        "colab": {
          "base_uri": "https://localhost:8080/"
        },
        "id": "i27_GJVOV3NN",
        "outputId": "7f848fba-0ba3-44f8-9676-139661c625be"
      },
      "source": [
        "a_dot_z = A.dot(np.zeros(A.shape))\n",
        "a_dot_z"
      ],
      "execution_count": 52,
      "outputs": [
        {
          "output_type": "execute_result",
          "data": {
            "text/plain": [
              "array([[0., 0., 0.],\n",
              "       [0., 0., 0.],\n",
              "       [0., 0., 0.]])"
            ]
          },
          "metadata": {},
          "execution_count": 52
        }
      ]
    },
    {
      "cell_type": "code",
      "metadata": {
        "colab": {
          "base_uri": "https://localhost:8080/"
        },
        "id": "czTdWTQ5V6Np",
        "outputId": "4eddc4b4-4567-407b-b441-8552374c0346"
      },
      "source": [
        "np.array_equal(a_dot_z,z_mat)"
      ],
      "execution_count": 53,
      "outputs": [
        {
          "output_type": "execute_result",
          "data": {
            "text/plain": [
              "True"
            ]
          },
          "metadata": {},
          "execution_count": 53
        }
      ]
    },
    {
      "cell_type": "code",
      "metadata": {
        "colab": {
          "base_uri": "https://localhost:8080/"
        },
        "id": "B19eNK6IV7gl",
        "outputId": "b850a554-d644-40eb-e3d7-29aeade3a6ff"
      },
      "source": [
        "null_mat = np.empty(A.shape, dtype=float)\n",
        "null = np.array(null_mat,dtype=float)\n",
        "print(null)\n",
        "np.allclose(a_dot_z,null)"
      ],
      "execution_count": 54,
      "outputs": [
        {
          "output_type": "stream",
          "name": "stdout",
          "text": [
            "[[0. 0. 0.]\n",
            " [0. 0. 0.]\n",
            " [0. 0. 0.]]\n"
          ]
        },
        {
          "output_type": "execute_result",
          "data": {
            "text/plain": [
              "True"
            ]
          },
          "metadata": {},
          "execution_count": 54
        }
      ]
    },
    {
      "cell_type": "markdown",
      "metadata": {
        "id": "HrkdTWJtXIRm"
      },
      "source": [
        "## **Determinant scalar value that is derived from a square matrix**\n",
        "**Examples**\n",
        "\n",
        "1. $$A = \\begin{bmatrix}a_{(0,0)}&a_{(0,1)}\\\\a_{(1,0)}&a_{(1,1)}\\end{bmatrix}$$\n",
        "\n",
        "2. $$|A| = a_{(0,0)}*a_{(1,1)} - a_{(1,0)}*a_{(0,1)}$$\n",
        "\n",
        "3. $$A = \\begin{bmatrix}1&4\\\\0&3\\end{bmatrix}, |A| = 3$$"
      ]
    },
    {
      "cell_type": "code",
      "metadata": {
        "colab": {
          "base_uri": "https://localhost:8080/"
        },
        "id": "8e4zdFhri0Es",
        "outputId": "f18a985b-1de7-4541-9c71-d4fce134da2e"
      },
      "source": [
        "A = np.array([\n",
        "    [1,4],\n",
        "    [0,3]\n",
        "])\n",
        "np.linalg.det(A)"
      ],
      "execution_count": 55,
      "outputs": [
        {
          "output_type": "execute_result",
          "data": {
            "text/plain": [
              "3.0000000000000004"
            ]
          },
          "metadata": {},
          "execution_count": 55
        }
      ]
    },
    {
      "cell_type": "code",
      "metadata": {
        "colab": {
          "base_uri": "https://localhost:8080/"
        },
        "id": "W4k4EdLbi32F",
        "outputId": "3e593685-56f8-4ee6-bcf4-b991985c9bf1"
      },
      "source": [
        "B = np.array([\n",
        "              [1, 5, 2],\n",
        "              [3, -1 ,-1],\n",
        "              [0, -2, 1]\n",
        "])\n",
        "np.linalg.det(B)"
      ],
      "execution_count": 56,
      "outputs": [
        {
          "output_type": "execute_result",
          "data": {
            "text/plain": [
              "-30.000000000000014"
            ]
          },
          "metadata": {},
          "execution_count": 56
        }
      ]
    },
    {
      "cell_type": "code",
      "metadata": {
        "colab": {
          "base_uri": "https://localhost:8080/"
        },
        "id": "Fq7sdxCqi41L",
        "outputId": "e589cd62-0715-4dc6-91bf-ae96707a355d"
      },
      "source": [
        "B = np.array([\n",
        "    [1,3,5,6],\n",
        "    [0,3,1,3],\n",
        "    [3,1,8,2],\n",
        "    [5,2,6,8]\n",
        "])\n",
        "np.linalg.det(B)"
      ],
      "execution_count": 57,
      "outputs": [
        {
          "output_type": "execute_result",
          "data": {
            "text/plain": [
              "-235.0000000000002"
            ]
          },
          "metadata": {},
          "execution_count": 57
        }
      ]
    },
    {
      "cell_type": "markdown",
      "metadata": {
        "id": "ev9bZ2LUjJUt"
      },
      "source": [
        "## **Inverse matrix is solving the problem of divisibility between matrices**"
      ]
    },
    {
      "cell_type": "code",
      "metadata": {
        "colab": {
          "base_uri": "https://localhost:8080/"
        },
        "id": "e0aIrT5PjU8F",
        "outputId": "49884c4a-a0c0-48f8-f146-3e19288dfaae"
      },
      "source": [
        "M = np.array([\n",
        "    [1,7],\n",
        "    [-3, 5]\n",
        "])\n",
        "\n",
        "np.array(M @ np.linalg.inv(M), dtype=int)"
      ],
      "execution_count": 62,
      "outputs": [
        {
          "output_type": "execute_result",
          "data": {
            "text/plain": [
              "array([[1, 0],\n",
              "       [0, 1]])"
            ]
          },
          "metadata": {},
          "execution_count": 62
        }
      ]
    },
    {
      "cell_type": "code",
      "metadata": {
        "colab": {
          "base_uri": "https://localhost:8080/"
        },
        "id": "8wma4-pIjXW6",
        "outputId": "7f1354f8-fcd0-4fbd-d4cd-b3358dbba95a"
      },
      "source": [
        "P = np.array([\n",
        "              [6, 9, 0],\n",
        "              [4, 2, -1],\n",
        "              [3, 6, 7]\n",
        "])\n",
        "Q = np.linalg.inv(P)\n",
        "Q"
      ],
      "execution_count": 61,
      "outputs": [
        {
          "output_type": "execute_result",
          "data": {
            "text/plain": [
              "array([[-0.12578616,  0.39622642,  0.05660377],\n",
              "       [ 0.19496855, -0.26415094, -0.03773585],\n",
              "       [-0.11320755,  0.05660377,  0.1509434 ]])"
            ]
          },
          "metadata": {},
          "execution_count": 61
        }
      ]
    },
    {
      "cell_type": "code",
      "metadata": {
        "colab": {
          "base_uri": "https://localhost:8080/"
        },
        "id": "hDAqs62xjYBU",
        "outputId": "141f2954-f53d-4550-82fb-5c1bb9832757"
      },
      "source": [
        "P @ Q"
      ],
      "execution_count": 63,
      "outputs": [
        {
          "output_type": "execute_result",
          "data": {
            "text/plain": [
              "array([[ 1.00000000e+00, -5.55111512e-17, -6.93889390e-18],\n",
              "       [ 8.32667268e-17,  1.00000000e+00, -2.77555756e-17],\n",
              "       [ 2.77555756e-17, -1.38777878e-17,  1.00000000e+00]])"
            ]
          },
          "metadata": {},
          "execution_count": 63
        }
      ]
    },
    {
      "cell_type": "code",
      "metadata": {
        "colab": {
          "base_uri": "https://localhost:8080/"
        },
        "id": "v6jFAkNXjbst",
        "outputId": "e8dd5ed4-4897-4a5f-e1b7-01be9503f554"
      },
      "source": [
        "N = np.array([\n",
        "    [18,5,23,1,0,33,5],\n",
        "    [0,45,0,11,2,4,2],\n",
        "    [5,9,20,0,0,0,3],\n",
        "    [1,6,4,4,8,43,1],\n",
        "    [8,6,8,7,1,6,1],\n",
        "    [-5,15,2,0,0,6,-30],\n",
        "    [-2,-5,1,2,1,20,12],\n",
        "])\n",
        "N_inv = np.linalg.inv(N)\n",
        "np.array(N @ N_inv,dtype=int)"
      ],
      "execution_count": 58,
      "outputs": [
        {
          "output_type": "execute_result",
          "data": {
            "text/plain": [
              "array([[0, 0, 0, 0, 0, 0, 0],\n",
              "       [0, 0, 0, 0, 0, 0, 0],\n",
              "       [0, 0, 1, 0, 0, 0, 0],\n",
              "       [0, 0, 0, 1, 0, 0, 0],\n",
              "       [0, 0, 0, 0, 0, 0, 0],\n",
              "       [0, 0, 0, 0, 0, 0, 0],\n",
              "       [0, 0, 0, 0, 0, 0, 1]])"
            ]
          },
          "metadata": {},
          "execution_count": 58
        }
      ]
    },
    {
      "cell_type": "code",
      "metadata": {
        "colab": {
          "base_uri": "https://localhost:8080/"
        },
        "id": "gXW8IBtDjeuT",
        "outputId": "0f65983f-971e-4ea5-8391-bd24326ae7a7"
      },
      "source": [
        "squad = np.array([\n",
        "    [1.0, 1.0, 0.5],\n",
        "    [0.7, 0.7, 0.9],\n",
        "    [0.3, 0.3, 1.0]\n",
        "])\n",
        "weights = np.array([\n",
        "    [0.2, 0.2, 0.6]\n",
        "])\n",
        "p_grade = squad @ weights.T\n",
        "p_grade"
      ],
      "execution_count": 59,
      "outputs": [
        {
          "output_type": "execute_result",
          "data": {
            "text/plain": [
              "array([[0.7 ],\n",
              "       [0.82],\n",
              "       [0.72]])"
            ]
          },
          "metadata": {},
          "execution_count": 59
        }
      ]
    },
    {
      "cell_type": "markdown",
      "metadata": {
        "id": "ds5aDp1pjzjX"
      },
      "source": [
        "## **Activity**"
      ]
    },
    {
      "cell_type": "markdown",
      "metadata": {
        "id": "XfMmVzj_j4gg"
      },
      "source": [
        "### **Task 1**\n",
        "Prove and implement the remaining 6 matrix multiplication properties. You may create your own matrices in which their shapes should not be lower than  (3,3) . In your methodology, create individual flowcharts for each property and discuss the property you would then present your proofs or validity of your implementation in the results section by comparing your result to present functions from NumPy."
      ]
    },
    {
      "cell_type": "markdown",
      "metadata": {
        "id": "SUG5yjwpurKo"
      },
      "source": [
        "## **Codes**"
      ]
    },
    {
      "cell_type": "code",
      "metadata": {
        "colab": {
          "base_uri": "https://localhost:8080/"
        },
        "id": "4q7pUBumjynW",
        "outputId": "5102790e-cce6-48cd-edda-a8b89f5a7959"
      },
      "source": [
        "np.array([])"
      ],
      "execution_count": 82,
      "outputs": [
        {
          "output_type": "execute_result",
          "data": {
            "text/plain": [
              "array([], dtype=float64)"
            ]
          },
          "metadata": {},
          "execution_count": 82
        }
      ]
    },
    {
      "cell_type": "code",
      "metadata": {
        "id": "f-IStUoIkCOM"
      },
      "source": [
        "A = np.array([\n",
        "    [9,6,3],\n",
        "    [2,1,2],\n",
        "    [3,1,5]     \n",
        "])\n",
        "\n",
        "B = np.array([\n",
        "    [1,2,3],\n",
        "    [8,2,5],\n",
        "    [6,4,6]          \n",
        "])\n",
        "\n",
        "C = np.array([\n",
        "    [2,3,1],\n",
        "    [1,2,3],\n",
        "    [2,1,2]        \n",
        "\n",
        "])"
      ],
      "execution_count": 134,
      "outputs": []
    },
    {
      "cell_type": "markdown",
      "metadata": {
        "id": "Xv75MdgwqCig"
      },
      "source": [
        "### **Number 1**"
      ]
    },
    {
      "cell_type": "code",
      "metadata": {
        "colab": {
          "base_uri": "https://localhost:8080/"
        },
        "id": "HMl81UPikEhe",
        "outputId": "3029ff60-1c65-48a1-8e79-ffc7ad2a34b4"
      },
      "source": [
        "A1 = A@B\n",
        "A1"
      ],
      "execution_count": 135,
      "outputs": [
        {
          "output_type": "execute_result",
          "data": {
            "text/plain": [
              "array([[75, 42, 75],\n",
              "       [22, 14, 23],\n",
              "       [41, 28, 44]])"
            ]
          },
          "metadata": {},
          "execution_count": 135
        }
      ]
    },
    {
      "cell_type": "code",
      "metadata": {
        "colab": {
          "base_uri": "https://localhost:8080/"
        },
        "id": "tmpsmRQFkGWB",
        "outputId": "12a541f5-4478-4799-9ecf-301d4472ce98"
      },
      "source": [
        "B1 = B@A\n",
        "B1"
      ],
      "execution_count": 136,
      "outputs": [
        {
          "output_type": "execute_result",
          "data": {
            "text/plain": [
              "array([[22, 11, 22],\n",
              "       [91, 55, 53],\n",
              "       [80, 46, 56]])"
            ]
          },
          "metadata": {},
          "execution_count": 136
        }
      ]
    },
    {
      "cell_type": "code",
      "metadata": {
        "colab": {
          "base_uri": "https://localhost:8080/"
        },
        "id": "IiIO-zR8qN8b",
        "outputId": "ea8ff6a8-72ca-4253-f95a-930d0b9c0375"
      },
      "source": [
        "np.array_equal(A1,B1)"
      ],
      "execution_count": 137,
      "outputs": [
        {
          "output_type": "execute_result",
          "data": {
            "text/plain": [
              "False"
            ]
          },
          "metadata": {},
          "execution_count": 137
        }
      ]
    },
    {
      "cell_type": "markdown",
      "metadata": {
        "id": "qNBbltbyqGek"
      },
      "source": [
        "### **Number 2**"
      ]
    },
    {
      "cell_type": "code",
      "metadata": {
        "colab": {
          "base_uri": "https://localhost:8080/"
        },
        "id": "LgdqleGGkHfc",
        "outputId": "890252a3-d28c-4698-ef66-8eacb74a74b2"
      },
      "source": [
        "A2 = A @ (B @ C)\n",
        "A2"
      ],
      "execution_count": 138,
      "outputs": [
        {
          "output_type": "execute_result",
          "data": {
            "text/plain": [
              "array([[342, 384, 351],\n",
              "       [104, 117, 110],\n",
              "       [198, 223, 213]])"
            ]
          },
          "metadata": {},
          "execution_count": 138
        }
      ]
    },
    {
      "cell_type": "code",
      "metadata": {
        "colab": {
          "base_uri": "https://localhost:8080/"
        },
        "id": "E39JtNMWkIPZ",
        "outputId": "2b0efe57-ea60-4416-d936-d09e7a0301e1"
      },
      "source": [
        "B2 = (A @ B) @ C\n",
        "B2"
      ],
      "execution_count": 139,
      "outputs": [
        {
          "output_type": "execute_result",
          "data": {
            "text/plain": [
              "array([[342, 384, 351],\n",
              "       [104, 117, 110],\n",
              "       [198, 223, 213]])"
            ]
          },
          "metadata": {},
          "execution_count": 139
        }
      ]
    },
    {
      "cell_type": "code",
      "metadata": {
        "colab": {
          "base_uri": "https://localhost:8080/"
        },
        "id": "A6GItxQ8kJiI",
        "outputId": "29b14a65-e6d3-4b83-bff6-4fdb76b6d725"
      },
      "source": [
        "np.array_equal(A2,B2)"
      ],
      "execution_count": 140,
      "outputs": [
        {
          "output_type": "execute_result",
          "data": {
            "text/plain": [
              "True"
            ]
          },
          "metadata": {},
          "execution_count": 140
        }
      ]
    },
    {
      "cell_type": "markdown",
      "metadata": {
        "id": "x-FvGQ2ZqVTH"
      },
      "source": [
        "### **Number 3**"
      ]
    },
    {
      "cell_type": "code",
      "metadata": {
        "colab": {
          "base_uri": "https://localhost:8080/"
        },
        "id": "XeyYPSwLkLaQ",
        "outputId": "4943f72b-0923-4e27-945e-a7632bc238de"
      },
      "source": [
        "A3 = A @ (B + C)\n",
        "A3"
      ],
      "execution_count": 141,
      "outputs": [
        {
          "output_type": "execute_result",
          "data": {
            "text/plain": [
              "array([[105,  84, 108],\n",
              "       [ 31,  24,  32],\n",
              "       [ 58,  44,  60]])"
            ]
          },
          "metadata": {},
          "execution_count": 141
        }
      ]
    },
    {
      "cell_type": "code",
      "metadata": {
        "colab": {
          "base_uri": "https://localhost:8080/"
        },
        "id": "pQl7iD2PkNKk",
        "outputId": "1c0f9934-b75d-476d-ee7b-189f18e7e452"
      },
      "source": [
        "B3 = A @ B + A @ C\n",
        "B3"
      ],
      "execution_count": 142,
      "outputs": [
        {
          "output_type": "execute_result",
          "data": {
            "text/plain": [
              "array([[105,  84, 108],\n",
              "       [ 31,  24,  32],\n",
              "       [ 58,  44,  60]])"
            ]
          },
          "metadata": {},
          "execution_count": 142
        }
      ]
    },
    {
      "cell_type": "code",
      "metadata": {
        "colab": {
          "base_uri": "https://localhost:8080/"
        },
        "id": "bh1G02VhkNtR",
        "outputId": "cd41b04e-8aed-4459-d3c4-795dd92dbeed"
      },
      "source": [
        "np.array_equal(A3,B3)"
      ],
      "execution_count": 143,
      "outputs": [
        {
          "output_type": "execute_result",
          "data": {
            "text/plain": [
              "True"
            ]
          },
          "metadata": {},
          "execution_count": 143
        }
      ]
    },
    {
      "cell_type": "markdown",
      "metadata": {
        "id": "82f70khaqY2s"
      },
      "source": [
        "### **Number 4**"
      ]
    },
    {
      "cell_type": "code",
      "metadata": {
        "colab": {
          "base_uri": "https://localhost:8080/"
        },
        "id": "1YbCEbNkkQVq",
        "outputId": "654f0e26-e7b5-471b-f231-cbca796f4a36"
      },
      "source": [
        "A4 = (B + C) @ A\n",
        "A4"
      ],
      "execution_count": 144,
      "outputs": [
        {
          "output_type": "execute_result",
          "data": {
            "text/plain": [
              "array([[ 49,  27,  39],\n",
              "       [113,  66,  75],\n",
              "       [106,  61,  74]])"
            ]
          },
          "metadata": {},
          "execution_count": 144
        }
      ]
    },
    {
      "cell_type": "code",
      "metadata": {
        "colab": {
          "base_uri": "https://localhost:8080/"
        },
        "id": "PcK9n00AkRXn",
        "outputId": "5b9d0136-b470-4e6f-8493-191c8ac3d007"
      },
      "source": [
        "B4 = B @ A + C @ A\n",
        "B4"
      ],
      "execution_count": 145,
      "outputs": [
        {
          "output_type": "execute_result",
          "data": {
            "text/plain": [
              "array([[ 49,  27,  39],\n",
              "       [113,  66,  75],\n",
              "       [106,  61,  74]])"
            ]
          },
          "metadata": {},
          "execution_count": 145
        }
      ]
    },
    {
      "cell_type": "code",
      "metadata": {
        "colab": {
          "base_uri": "https://localhost:8080/"
        },
        "id": "FFjmRGUskScV",
        "outputId": "402895a7-c850-43ae-b2f6-55df42c8a2b8"
      },
      "source": [
        "np.array_equal(A4,B4)"
      ],
      "execution_count": 146,
      "outputs": [
        {
          "output_type": "execute_result",
          "data": {
            "text/plain": [
              "True"
            ]
          },
          "metadata": {},
          "execution_count": 146
        }
      ]
    },
    {
      "cell_type": "markdown",
      "metadata": {
        "id": "n78g_ttHqbnf"
      },
      "source": [
        "### **Number 5**"
      ]
    },
    {
      "cell_type": "code",
      "metadata": {
        "colab": {
          "base_uri": "https://localhost:8080/"
        },
        "id": "NkoiCbQOkTQ8",
        "outputId": "3ad5d563-491a-431f-a500-182396bfefc2"
      },
      "source": [
        "A5 = A@B5\n",
        "A5"
      ],
      "execution_count": 147,
      "outputs": [
        {
          "output_type": "execute_result",
          "data": {
            "text/plain": [
              "array([[9., 6., 3.],\n",
              "       [2., 1., 2.],\n",
              "       [3., 1., 5.]])"
            ]
          },
          "metadata": {},
          "execution_count": 147
        }
      ]
    },
    {
      "cell_type": "code",
      "metadata": {
        "colab": {
          "base_uri": "https://localhost:8080/"
        },
        "id": "jb1usvkRkUAw",
        "outputId": "78383683-4534-4a07-dba6-7d51f440f5d7"
      },
      "source": [
        "B5 = np.eye(3)\n",
        "B5"
      ],
      "execution_count": 148,
      "outputs": [
        {
          "output_type": "execute_result",
          "data": {
            "text/plain": [
              "array([[1., 0., 0.],\n",
              "       [0., 1., 0.],\n",
              "       [0., 0., 1.]])"
            ]
          },
          "metadata": {},
          "execution_count": 148
        }
      ]
    },
    {
      "cell_type": "code",
      "metadata": {
        "colab": {
          "base_uri": "https://localhost:8080/"
        },
        "id": "EmqhTKplkU7V",
        "outputId": "0d6120ce-4ee4-4522-887a-16d8f4509fc3"
      },
      "source": [
        "np.array_equal(A5,B5)"
      ],
      "execution_count": 149,
      "outputs": [
        {
          "output_type": "execute_result",
          "data": {
            "text/plain": [
              "False"
            ]
          },
          "metadata": {},
          "execution_count": 149
        }
      ]
    },
    {
      "cell_type": "markdown",
      "metadata": {
        "id": "a6TztLp4qdn0"
      },
      "source": [
        "### **Number 6**"
      ]
    },
    {
      "cell_type": "code",
      "metadata": {
        "colab": {
          "base_uri": "https://localhost:8080/"
        },
        "id": "7NUrdPsxp5nJ",
        "outputId": "baab46ac-ab4a-4d88-aa7c-f53fdcd4a664"
      },
      "source": [
        "A6 = np.zeros(A.shape)\n",
        "A6"
      ],
      "execution_count": 150,
      "outputs": [
        {
          "output_type": "execute_result",
          "data": {
            "text/plain": [
              "array([[0., 0., 0.],\n",
              "       [0., 0., 0.],\n",
              "       [0., 0., 0.]])"
            ]
          },
          "metadata": {},
          "execution_count": 150
        }
      ]
    },
    {
      "cell_type": "code",
      "metadata": {
        "colab": {
          "base_uri": "https://localhost:8080/"
        },
        "id": "1XPylwLrp6ac",
        "outputId": "86b1f529-300c-4f53-b283-cfb4a52c4937"
      },
      "source": [
        "B6 = A.dot(np.zeros(A.shape))\n",
        "B6"
      ],
      "execution_count": 151,
      "outputs": [
        {
          "output_type": "execute_result",
          "data": {
            "text/plain": [
              "array([[0., 0., 0.],\n",
              "       [0., 0., 0.],\n",
              "       [0., 0., 0.]])"
            ]
          },
          "metadata": {},
          "execution_count": 151
        }
      ]
    },
    {
      "cell_type": "code",
      "metadata": {
        "colab": {
          "base_uri": "https://localhost:8080/"
        },
        "id": "jUY99-GUp7KC",
        "outputId": "7d9e2ac3-e858-435a-a6b6-05367f422e8d"
      },
      "source": [
        "np.array_equal(A6,B6)"
      ],
      "execution_count": 152,
      "outputs": [
        {
          "output_type": "execute_result",
          "data": {
            "text/plain": [
              "True"
            ]
          },
          "metadata": {},
          "execution_count": 152
        }
      ]
    },
    {
      "cell_type": "markdown",
      "metadata": {
        "id": "EqEFRYSYqiAN"
      },
      "source": [
        "## **Flowchart**"
      ]
    },
    {
      "cell_type": "markdown",
      "metadata": {
        "id": "8ZDc9AvSqpqP"
      },
      "source": [
        "### **Number 1**"
      ]
    },
    {
      "cell_type": "markdown",
      "metadata": {
        "id": "wn-0r2X5qrQE"
      },
      "source": [
        "![1.PNG](data:image/png;base64,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)"
      ]
    },
    {
      "cell_type": "markdown",
      "metadata": {
        "id": "9B5O1OgiuShn"
      },
      "source": [
        "### **Number 2**"
      ]
    },
    {
      "cell_type": "markdown",
      "metadata": {
        "id": "u8Fnm4P_uHFW"
      },
      "source": [
        "![2.PNG](data:image/png;base64,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)"
      ]
    },
    {
      "cell_type": "markdown",
      "metadata": {
        "id": "UpPd0zeLuVye"
      },
      "source": [
        "### **Number 3**"
      ]
    },
    {
      "cell_type": "markdown",
      "metadata": {
        "id": "7xnWGCHquJJW"
      },
      "source": [
        "![3.PNG](data:image/png;base64,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)"
      ]
    },
    {
      "cell_type": "markdown",
      "metadata": {
        "id": "dt0aRXeSuYxe"
      },
      "source": [
        "### **Number 4**"
      ]
    },
    {
      "cell_type": "markdown",
      "metadata": {
        "id": "BXnv38oCuK3I"
      },
      "source": [
        "![4.PNG](data:image/png;base64,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)"
      ]
    },
    {
      "cell_type": "markdown",
      "metadata": {
        "id": "WQiKYURIuaKQ"
      },
      "source": [
        "### **Number 5**"
      ]
    },
    {
      "cell_type": "markdown",
      "metadata": {
        "id": "kS3VRm5-uMOp"
      },
      "source": [
        "![5.PNG](data:image/png;base64,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)"
      ]
    },
    {
      "cell_type": "markdown",
      "metadata": {
        "id": "Hy5KJT-Oub5r"
      },
      "source": [
        "### **Number 6**"
      ]
    },
    {
      "cell_type": "markdown",
      "metadata": {
        "id": "TKM-ZZwjuOMm"
      },
      "source": [
        "![6.PNG](data:image/png;base64,iVBORw0KGgoAAAANSUhEUgAAAoEAAAJTCAYAAAB3pcycAAAAAXNSR0IArs4c6QAAAARnQU1BAACxjwv8YQUAAAAJcEhZcwAADsMAAA7DAcdvqGQAAHQqSURBVHhe7b390y1XWeZ//qeUCmIwGWAqoCmUMYFgwls0NYbEEiGG8BKTU5WZQBEYiVaZGiSFDJ4QDQORVyNEMgakTnCgMkbBiQNiSlNADG8CMz/s7/fqp++Tddbu3ftavft5eq+1P5+qu57dL6tfrnX33ddevfd+Tq1GePrpp/tX5dTY9mtf+1r/qhy08kErH7TyQSsftPJBKx+08tmX88UEJpD8Pmjlg1Y+aOWDVj5o5YNWPi1ohQlMIPl90MoHrXzQygetfNDKB618WtAKE5hA8vuglQ9a+aCVD1r5oJUPWvm0oBUmMIHk90ErH7TyQSsftPJBKx+08mlBK0xgAsnvg1Y+aOWDVj5o5YNWPmjl04JWpzSDOAp16NB8Yj3Qyg+08gOt/EArP9DKD7TyowWtGAlMUIdOBa180MoHrXzQygetfNDKB6189uV8MYEJJL8PWvmglQ9a+aCVD1r5oJVPC1phAhNIfh+08kErH7TyQSsftPJBK58WtMIEJpD8Pmjlg1Y+aOWDVj5o5YNWPi1ohQlMIPl90MoHrXzQygetfNDKB618WtAKE5hA8vuglQ9a+aCVD1r5oJUPWvm0oBUmMIHk90ErH7TyQSsftPJBKx+08mlBK0xgAsnvg1Y+aOWDVj5o5YNWPmjl04JWmMAEkt8HrXzQygetfNDKB6180MqnBa0wgQkkvw9a+aCVD1r5oJUPWvmglU8LWmECE0h+H7TyQSsftPJBKx+08kErnxa0wgQmkPw+aOWDVj5o5YNWPmjlg1Y+LWiFCUwg+X3QygetfNDKB6180MoHrXxa0AoTmEDy+6CVD1r5oJUPWvmglQ9a+bSg1SnNII5CHTo0n1gPtPIDrfxAKz/Qyg+08gOt/GhBK0YCE9ShU0ErH7TyQSsftPJBKx+08kErn305X0xgAsnvg1Y+aOWDVj5o5YNWPmjl04JWmMAEkt8HrXzQygetfNDKB6180MqnBa0wgQkkvw9a+aCVD1r5oJUPWvmglU8LWmECE0h+H7TyQSsftPJBKx+08kErnxa0wgQmkPw+aOWDVj5o5YNWPmjlg1Y+LWiFCUwg+X3QygetfNDKB6180MoHrXxa0AoTmEDy+6CVD1r5oJUPWvmglQ9a+bSgFSYwgeT3QSsftPJBKx+08kErH7TyaUErTGACye+DVj5o5YNWPmjlg1Y+aOXTglaYwASS3wetfNDKB6180MoHrXzQyqcFrTCBCSS/D1r5oJUPWvmglQ9a+aCVTwtaYQITSH4ftPJBKx+08kErH7TyQSufFrTCBCaQ/D5o5YNWPmjlg1Y+aOWDVj4taHVKM4ijUIcOzSfWA638QCs/0MoPtPIDrfxAKz9a0IqRwAR16FTQygetfNDKB6180MoHrXzQymdfzhcTmEDy+6CVD1r5oJUPWvmglQ9a+bSgFSYwgeT3QSsftPJBKx+08kErH7TyaUErTGACye+DVj5o5YNWPmjlg1Y+aOXTglaYwASS3wetfNDKB6180MoHrXzQyqcFrTCBCSS/D1r5oJUPWvmglQ9a+aCVTwtaYQITSH4ftPJBKx+08kErH7TyQSufFrTCBCaQ/D5o5YNWPmjlg1Y+aOWDVj4taIUJTCD5fdDKB6180MoHrXzQygetfFrQChOYQPL7oJUPWvmglQ9a+aCVD1r5tKAVJjCB5PdBKx+08kErH7TyQSsftPJpQStMYALJ74NWPmjlg1Y+aOWDVj5o5dOCVpjABJLfB6180MoHrXzQygetfNDKpwWtMIEJJL8PWvmglQ9a+aCVD1r5oJVPC1qd0kkQBEEQBEEQhxWMBCZIkKmglQ9a+aCVD1r5oJUPWvmglc++nC8mMIHk90ErH7TyQSsftPJBKx+08mlBK0xgAsnvg1Y+aOWDVj5o5YNWPmjl04JWmMAEkt8HrXzQygetfNDKB6180MqnBa0wgQkkvw9a+aCVD1r5oJUPWvmglU8LWmECE0h+H7TyQSsftPJBKx+08kErnxa0wgQmkPw+aOWDVj5o5YNWPmjlg1Y+LWiFCUwg+X3QygetfNDKB6180MoHrXxa0AoTmEDy+6CVD1r5oJUPWvmglQ9a+bSgFSYwgeT3QSsftPJBKx+08kErH7TyaUErTGACye+DVj5o5YNWPmjlg1Y+aOXTglaYwASS3wetfNDKB6180MoHrXzQyqcFrTCBCSS/D1r5oJUPWvmglQ9a+aCVTwtaYQITSH4ftPJBKx+08kErH7TyQSufFrQ6pRnEUahDh+YT64FWfqCVH2jlB1r5gVZ+oJUfLWjFSGCCOnQqaOWDVj5o5YNWPmjlg1Y+aOWzL+eLCUwg+X3QygetfNDKB6180MoHrXxa0AoTmEDy+6CVD1r5oJUPWvmglQ9a+bSgFSYwgeT3QSsftPJBKx+08kErH7TyaUErTGACye+DVj5o5YNWPmjlg1Y+aOXTglaYwASS3wetfNDKB6180MoHrXzQyqcFrTCBCSS/D1r5oJUPWvmglQ9a+aCVTwtaYQITSH4ftPJBKx+08kErH7TyQSufFrTCBCaQ/D5o5YNWPmjlg1Y+aOWDVj4taIUJTCD5fdDKB6180MoHrXzQygetfFrQChOYQPL7oJUPWvmglQ9a+aCVD1r5tKAVJjCB5PdBKx+08kErH7TyQSsftPJpQStMYALJ74NWPmjlg1Y+aOWDVj5o5dOCVpjABJLfB6180MoHrXzQygetfNDKpwWtTmkGcRTq0KH5xHqglR9o5Qda+YFWfqCVH6lWZ8+eXZ05c6aLV7ziFURhnD59ugvpJy1TnfclGAlMUPJPBa180MoHrXzQygetfA5Rqw996EODpobYPf7Tf/pPq7/927/dm9zABCZQKHzQygetfNDKB6180MpjyPzJtGi+QuaF8CN0k4a5rhoh1DpTmDM3MIEJFAoftPJBKx+08kErH7QaZ8j8aR7MR5jC3BBO0XnO3MAEJlAofNDKB6180MoHrXzQajNzmBIoQ4Yw1V2vS0YF58wNTGAChcIHrXzQygetfNDKB63WkenA/C2LNE/7wDWCc+YGJjCBQuGDVj5o5YNWPmjlg1bnM9V8wPxMMeNz5gYmMIFC4YNWPmjlg1Y+aOWDVs+QGsDSx5BwfKSPh7cZwTlzAxOYQKHwQSsftPJBKx+08kGrI9JRJ2fECU6W1AiOmfM5cwMTmECh8EErH7TyQSsftPJBqyPCZOgv7CdhAsf6aM7cwAQmUCh80MoHrXzQygetfNDq/MfAPALeX5zR2jlzAxOYQKHwQSsftPJBKx+08jl0rXgMXBepYR/qrzlzAxOYQFH1QSsftPJBKx+08jlkrVIDyGPgekiNYM6ceYUJTKCo+qCVD1r5oJUPWvkcslbplw2gLqLf8tHAOfMKE5hAUfVBKx+08kErH7TyOVSt0lFAPgdYH5tGA+fMq1OaQRyFCsXQfGI90MoPtPIDrfxAKz8OVavTp093BoLHwPUSJvDMmTODfbxrMBKYoEIxFbTyQSsftPJBKx+08qlZqzAQjALWy9Bo4Jx5hQlMoKj6oJUPWvmglQ9a+RyiVumjYKib6Mf4bOCceYUJTKCo+qCVD1r5oJUPWvkcolbxhRAeBddPPho4Z15hAhMoqj5o5YNWPmjlg1Y+h6bV2bNnz5kGHgW3QfSnDOGceYUJTKCo+qCVD1r5oJUPWvkcmlZ8IaQ9YmQXE7iFXdpSVH3QygetfNDKB618Dk2rdNQI2iAeCcsMzplXmMAEiqoPWvmglQ9a+aCVz6FpFSaQR8HtkH4ucM68wgQmUFR90MoHrXzQygetfA5Jq1a/Ffz9739/ddddd/VTu6Ntzbm94ybt1znzChOYQFH1QSsftPJBKx+08jkkrVo1gY8//vjqggsu6Kd253Wve11VJlBEv+qHo6eS5xUmMIGi6oNWPmjlg1Y+aOVzSFqlnx2rjc9//vPnRugeeuih1fe+971ufsyTCYzXwRNPPLH67//9v6+uueaa1Tve8Y6uXUqs/4//+I/nXisuueSSc69rIb4cggkcYZe2FFUftPJBKx+08kErn0PSqlYT+Ja3vGV16aWXrm6++ebVHXfcsfq1X/u1zqg98MAD58xabgK1TPN+8zd/s5t35ZVXdtMyhcG1117bGUSN/Onvpm3VQPQtJnCEXdpSVH3QygetfNDKB618Dkmr9KdEauHJJ5/sTNn999/fzzn6DOCNN954zqSFcUt55StfuXr1q1/dTx0hI3jZZZf1U6vVb/zGb3Tm75577unnHBEmsCbSL4dMJc8rTGACRdUHrXzQygetfNDK55C0qtEE6pGuTJlM3yaGTOAQt91223nr3XDDDavnPve53ePglBpN4Byf98zzChOYQFH1QSsftPJBKx+08jkkrcIk1PbzMPfdd9/q6quvXv3sz/7s6qUvfenq1ltvXX3hC1/olw6bwG9961urN7zhDd1jZC1LI3jzm9+8etazntVPPYPWwQT+/yZQM4ijUKEYmk+sB1r5gVZ+oJUfaOXHIWlVqwkMHn744dWdd9557vN9H/3oR7v5QyZQj4Nf+9rXdm2+8pWvrL773e92nydM15OZ/Hf/7t/1U89Quwkc6vspwUhgggrFVNDKB6180MoHrXzQyqe2863dBKZohC8eEecmMB4h68shKddff/15691+++3ddnJqN4FTyfMKE5hAUfVBKx+08kErH7TyOSStajSBehQsU/bYY4/1c1ar73znO908fWtYhAmU+RNPPfXU6tnPfvbq4x//eDctPvGJT6ze+MY3nrfeO9/5zu7xcg4m8AhMYAJF1QetfNDKB6180MrnkLSq0QQKjfhddNFFnem77bbbup+IkVF79NFHu+XxczD6pq9C6EswmqfRPs276aabukfDsd4jjzyy+r3f+73Vq171qm79FH2rOF2vBuLbwadPn+7nlJPnFSYwgaLqg1Y+aOWDVj5o5XNIWoUJrOnbwcFXv/rV1cc+9rFuhE6Rf6NXhvDee+9dffrTn+7nrLrPAsb6gUxdHjn6CRp93lA/SzO0fB/BBBrs0pai6oNWPmjlg1Y+aOVzSFqFUajRBMI4/McQg13aUlR90MoHrXzQygetfA5JqzCBtf3HENgOJtBgl7YUVR+08kErH7TyQSufQ9IqTKAC2iL69ezZs/2ccvK8wgQmUFR90MoHrXzQygetfA5NqzALLfxMDDwDJtBgl7YUVR+08kErH7TyQSufQ9MqzAKfC2yH9Odh5swrTGACRdUHrXzQygetfNDK59C00rdHMYFtkT7mnzOvMIEJFFUftPJBKx+08kErn0PTSl8ckFngyyHtEF8K0d858woTmEBR9UErH7TyQSsftPI5NK3CBCqgftJHwXo9Z15hAhMoqj5o5YNWPmjlg1Y+h6hVmAYeCddPOgoo5swrTGACRdUHrXzQygetfNDK5xC14qdi2iH6Mb7tPWdendLFQRAEQRBEWxHmgdHAekkfBQ/18a7BSGCCBJkKWvmglQ9a+aCVD1r51KwVo4H1kz8KFnPmFSYwgaLqg1Y+aOWDVj5o5XPIWoUJZDSwPvIvhARz5hUmMIGi6oNWPmjlg1Y+aOVzyFoxGlgv0W/pKKCYM68wgQkUVR+08kErH7TyQSufQ9cqzASjgfUQj4EV6SigmDM3MIEJFFUftPJBKx+08kErn0PXKh0NxAjuP2l/5QZQzJkbmMAEiqoPWvmglQ9a+aCVD1ptNxawH6SfA9xk2OfMDUxgAoXCB6180MoHrXzQygetjkgfMcJ+MvRt4Jw5cwMTmECh8EErH7TyQSsftPJBqyPSUaYxkwHL4I7WzpkbmMAECoUPWvmglQ9a+aCVD1o9Q2o0MIL7gQxfOkq76TFwMGduYAITKBQ+aOWDVj5o5YNWPmh1PqkRVPAZweVIR2cV2wygmDM3MIEJFAoftPJBKx+08kErH7RaZ4r5gHmZasbnzA1MYAKFwgetfNDKB6180MoHrYbJH0PqNaOCx09u/kofy8+ZG5jABAqFD1r5oJUPWvmglQ9ajTNkSjQPQzgvuc4KzStlztzABCZQKHzQygetfNDKB6180Go7+ahgRBjCMIUYw+2ETqHbkK5nzpzp1y5nztw4pRnEUahQDM0n1gOt/EArP9DKD7TyA638ePDBB1enT59eMy3EPCHzN6T7UsFIYIIKxVTQygetfNDKB6180MrnkLWK0SyNZA2NZhHbIx1FTdmX3MAEJlAofNDKB6180MoHrXzQysfRKh535nH27NnB+U5MbStzqpHLoWVO7HLMGjUdmu+wL7mBCUygUPiglQ9a+aCVD1r5oJVPbVqFCZzKIWkl8raYwAQKhQ9a+aCVD1r5oJUPWvnUphUmsIy8LSYwgULhg1Y+aOWDVj5o5YNWPrVphQksI2+LCUygUPiglQ9a+aCVD1r5oJVPbVphAsvI22ICEygUPmjlg1Y+aOWDVj5o5VObVpjAMvK2mMAECoUPWvksqdVdd93VxQ9+8IN+7hExP+XRRx9dffCDH1zdcMMNq7e//e2rT3/60/2SMmrVaipLtUUrH7TyqU0rTGAZeVtMYAKFwgetfJbU6oILLlj99E//9Oq2227r5x7xkz/5k6trrrmmn1qtXve613XrPuc5z1m9/OUvX11yySXd9MUXX7x64okn+rU8atVqKku1RSsftPKpTStMYBl5W0xgAoXCB618ltRKRk4jfvr7xS9+sV+yWl144YXnTOAjjzzSLb/ssstWjz/+eDdPbaPdLbfc0s1zqVWrqSzVFq180MqnNq0wgWXkbTGBCRQKH7TyWVKrMIEvfOELzxv5e97znndu+h3veEe33n333ddNi9jvlVde2S0Lc+hQq1ZTWaotWvmglU9tWmECy8jbYgITKBQ+aOWzpFZhAu+5557u9b333tstS01hPAp+8sknu2kR+7399tu7ZR/+8Ie7aYdatZrKUm3RygetfGrTChNYRt4WE5hAofBBK58ltQoTKK644orVi1/84tVTTz21+oVf+AVMYEKNbdHKB618atMKE1hG3hYTmECh8HG1in+erQs1QhdsOl0SNba9+eabB+c7MXW/0lz9m5rAT33qU930nXfeubr88svXHgfff//93bSI3Ljqqqu6ZQ888MDgfoaiNq0Uc7Yd+mfxmziJa3CIperGUm3Ryqc2reIanMohaSXytqc0gzgKdejQfGI9HK3OnDmzesUrXtGFLtJDDRmbofnHGdJefSAD9+53v/tcn1x99dWrZz/72d2o4Gte85pu3ic+8YluvWuvvbb77F+sKzOj+dddd133T9aH9jN3LKHV3BE5H31wXEG98gOt/KhNq7juhpYdd7SQV4wEJqhDp4JW5yMDoRuh/uaglc+uxywTFyOB4stf/nI3TwYw/aLIm9/85m5+/hMx+gLJQw891K/lUatWUxlqq9GJTfmfglY+aOXTslZxbxkLdyRetKzVEHlbTGAChcJnTCtdgLoQN90A0cpn12OW0UtNoNBom+anJlB85CMfWb3tbW9bXX/99asbb7xx9bu/+7urf/7nf+6X+tSq1VQ2tdU1IDM4Blr5oJVP61qlhm8oSmhdq5y8LSYwgULhM6ZVmMBN78bQygetfPbtfGPEYgy08kErn9a1GhsN3PbGK6d1rXLytpjABAqFz5hW225+aOWDVj77dr7b3gwJtPJBK5/WtRozgWPX2xCta5WTt8UEJlAofMa0wgSeD3nl05JWmMB1lmqLVj61aJUavzRKOQStUvK2mMAECoXPmFaYwPMhr3xa0goTuM5SbdHKpxathkYDSx8Fi0PQKiVviwlMoFD4jGmFCTwf8sqnJa0wgess1RatfGrRasgEjl1rmzgErVLytpjABAqFz5hWmMDzIa98WtIKE7jOUm3RyqcmrVIDOHbPGeNQtArytpjABAqFz5hWmMDzIa98WtIKE7jOUm3RyqcmrdLRwCmPgsWhaBXkbTGBCRQKnzGtMIHnQ175tKQVJnCdpdqilU9NWqUmcOw6G+NQtArytpjABAqFz5hWmMDzIa98WtIKE7jOUm3Ryqc2rTCBZeRtMYEJFAqfMa0wgedDXvm0pBUmcJ2l2qKVT21a6TGw/nfwVA5JK5G3xQQmUCh8xrTCBJ4PeeXTklaYwHWWaotWPrVppfvN2bNn+6lyDkkrkbfFBCZQKHzGtMIEng955dOSVpjAdZZqi1Y+NWqFCfTJ257SDOIo1KFD84n1GNPqzJkz3c1vaNkhBnnlR0ta6cak60B/h5bvGuSVH2jlR2ilOh61nFg29LhbcRy1hJHABCX/VNDqGRgJPB/yyqclrRgJXGeptmjlI62ihhP7F2LO3MAEJlAofMa0wgSeD3nl05JWmMB1lmqLVj4333zzOcOhWq5QDhPLRtonc+YGJjCBQuEzphUm8HzIK5+WtIrCrb+bQCsftPKZ2jZqd5gN2B/SvpkzNzCBCRQKnzGtMIHnQ175tKQVJnCdpdqilUeYDAzg/pGOBs6ZG5jABAqFz5hWmMDzIa98WtIKE7jOUm3RajupyYD9AxNosktbCoXPmFaYwPMhr3xa0goTuM5SbdFqO/rRZeXr1P/BC8dL2j9z5gYmMIFC4TOmFSbwfMgrn5a0wgSus1RbtNpOmIyxfIXlSPtnztzABCZQKHzGtMIEng955dOSVpjAdZZqi1bjRK5iAveTvH/mzA1MYAKFwmdMK0zg+ZBXPi1pFYV77KaKVj5o5VPaNnKVR8H7Sd4/c+YGJjCBQuEzphUm8HzIK5+WtMIErrNUW7QaJx41YgL3k7x/5swNTGAChcJnTCtM4PmQVz4taYUJXGeptmg1jvJ0W67CcuT9M2duYAITKBQ+Y1phAs+HvPJpSStM4DpLtUWrzUSebstVWIah/pkzNzCBCRQKnzGtMIHnQ175tKRVFO+xGyta+aCVT0nbqNf78Cj4mmuuWd111139FIih/pkzNzCBCRQKnzGtMIHnQ175tKQVJnCdpdqi1Wbyz5stydImUPt+5JFH+qn9YKh/5syNU5pBHIUKxdB8Yj3GtDpz5kyXtEPLDjF2zSvpGZoSBHG8cfr06S7Onj07eD22FnHeY29WDoFvfvObq0suuWTvTGD0z3HlIyOBCbxb9BnTipHA89klrzB/BLFcyBi1XK9itFqxD2gkLkYCZcZiZO6BBx5Y3X777atbbrlldf/993fLg2jzuc99rvv7pje9afXJT36yX3pErJOSbj9eX3DBBYPrLsWm/pkzNzCBCZhAH0ygz9S8SguAHgVIV80jCOJ4Ix7BKTQCM5V9r1dDjxqXJEyYkDHTtOrea1/72m6+/mreRz/60W4dEW0uv/zy1bve9a7VTTfddN52hB4zK1Ji+/tsAjf1z5y5gQlMwAT6YAJ9pubVvhVogEMirj+Nxk9l3+tVnKNq9j6QmrcwaTfeeGM3Hfz7f//vV294wxv6qaM2V1111erxxx/v5xyN/P3Mz/zM6oknnuimt5nAoel9YFP/zJkbmMAETKAPJtBnVxOokQkAOFmijo3Vsm3sc71SXYnz25caM2QC77nnnm46eNWrXtXND/Ra81Ieeuihbr4eI4saTeBY/8yZG5jABEygDybQZ0pe7WOBBjgk0mtwKvtcr+Y4v7mRCctNYG7KZOYuvPDCfuqoTf60RF/y0PwPfOAD3XTtJjBnztzABCZgAn0wgT67mkAAOHlaN4HxpCE3UEsiE+aYwBe84AX91LgJjFHEGk3gWP/MmRuYwARMoA8m0AcTCFAfh2ICdZ77gkyYYwJf/OIX91NHbV796lf3U0fE4+CHH364m1abK664onsdvOc97zlv+/tqAof6Z87cwAQmYAJ9MIE+mECA+mjZBKbnVqMJfNnLXtZPHbX5pV/6pdX//t//u5/zzBdDfvSjH3XT73//+1cXXXRR9zq47rrr9tYEbuufOXMDE5iACfTBBPpgAgHqY45rcF/rVZzb0KPGJXFNYDryF230EzE6n6GfiPn617/ezVNbxa/+6q+uvvCFL5y3/aeeeqqbvuyyy7p1lmRb/8yZG5jABEygDybQBxMIUB8tm8B41LhvJlCGLExZvI7pIJ8Xhu+73/3u6i/+4i+6UT89Ds557LHHVh/5yEdWf/Znf7Z68sknu3n5trTOvffeu/Zj0yfNtv6ZMzcwgQmYQB9MoA8mEKA+WjaBcV46x9rJR/1aYFv/zJkbmMAETKAPJtAHEwhQH62awPS8MIH7h9M/c+YGJjABE+iDCfTBBALUxxzX4D7Wq6jP+/YoeCr6/F5LJtDpnzlzAxOYgAn0wQT6YAIB6qNVE7jt82awLE7/zJkbp3SDOs64++67u4iLiVgubr755i4efPDBwb6aK6K/h5YRXqiPot8A4ORJTeDQNXqcEffNqNlzRpyTzg/2j+if475PRxzrSGCMCBH7F9FHU1HybIKRwPMZ02oTjAQCLMsSI4HpPhUaDZoSp0+fHpyv2PWc4Phwc27Oe9mxmUAlYZyMTIFCJ0gsG2mfHJexwQSeDyYQoD7muAZL6kbsT0ZNr4+jXoUJ1F/YP9z+mTM3jsUEhglQ6DXsD2nf7JJImEAfTCBAfZy0CdSNP735H0e9CpPR2n35He94Rxe14/bPnLlxLCYwLhwM4P6RFrZdEgkT6IMJBKiPkzaB2s9xmsD0fPS6Bp544onV/fff309tpgUTWNI/c+bG7CZwjgsHjo+0f3ZJJEygDyYQoD7muAbduhH70t9g7npVY03RlyP0L94OgZL+mTM3ZjeBMZyZvqOB/SHtn10SCRPogwkEqI85rkG3bsS+9DeYu14d171Zv9Gnf72mUTu9jmkR82655ZbO0OVovViuv1o/0AigfgPw0ksvPbfN2J7+/umf/unqjjvuOLduPmKofyP3R3/0R936+qvplFiubWgd/cu5nPScNq0zFyX9M2duHJsJTJMZ9oe0f3ZJJEygDyYQoD7muAbduhH7Su+bc9er47o36z92/PZv//bqiiuu6B7JauRO8z7wgQ+sfv7nf76b95u/+ZvdvNQIan60lcGKdmEgZerUXqHlmq+INpofo4T6m44Yar2LLrqo26/aal0dXxhBmTtNx7Z1LD/7sz/bmdHgK1/5SrcvbVfraJ9a57geO5f0z5y5MasJTC+auRMNdifvn10SCRPogwkEqI85rkG3bsS+9DeYs16l55LuYw5klGSO0pE2mSvNl5EKZLpkyoIwaClql64zZO603dTQiXQ9zQ8DGGiejlFGToShS7cRpi9MqNbRflJkYo/DBJb2z5y5cSwm0BnOhJMn759dEgkT6IMJBKiPOa5Bt27EvvQ3mLNe5bV/TtIRuSA3b2JoXk6+Tj4dJjA3j+l6MmqpmRtCJnHIzGkbMV/70HaGHmPPTWn/zJkbs5rAGM7EBO4nef/skkiYQB9MIEB9zHENunUj9qW/wZz16jjvzTJOY6YsyOfJpL3+9a/vjFYa6TpDbYaMWbpemLd0FDIn3V8esR2NEuq15ulziTpWfQ7xOCjtnzlzY1YTGBdMmsiwP+T9s0siYQJ9MIEA9THHNejWjdhXeu+cs17FeaTbnwsZpVITqM/kyVzpkWtq1vJ2+XSYwHyUL13PGQmMfWudPHLzqGPV5xP1eFnt9GWVuSntnzlzYzYTmF4wx5FosBtD/bNLImECfWo1gf/yL/9yrjCO8YMf/MBaD6YRN6D080vBF7/4xdERj1K0r+O4yU1FN2Adz5zn6DLHNejWjdhX1GYxV71KzyPd/lzIfJWawBitU/+maMQtbZdvRzVmmwkMg5mPFmo68kiPsOPzgSVsOu5dmNI/c97LZjOBceM/juFm2J2h/tklkTCBPrWaQP10wg033LB66Utf2s9Z57Of/WxXuFUYFXr9wQ9+sF8Ku6Kblj6/NPS5JC0L3ee6KcVNbp/QMUmDIRN8nMxxDbp1I/aVmoC56tVx35tlvkpNoN5sKM9SM6dt6Msa6Zcx8i9nKAfUbuxxsNBrPb4N1C79HGDkefrmQteQ9hXHpG3k56VvPKvdnLk4pX/mvJfNZgJ1AseZaLAbQ/2zSyJhAn1qNYEqdp/61Ke6v9/4xjf6uc/wb//2b6vLL7989ba3va0rpk899dTqXe96V7f+nO+UDxmNgqU3txTdILVMN878ZjWVuDnuG1NHbnahFRN43Pdm5WD+JQvNy/M2nScTpT6VMdPPssh8qX/DZMVPtYRZ1HK9FpqO10G+P9UjXRd6U6prSPvRNsK86a9G1zVfZlGh1+k20n3rDXF8fnHuPJzSP3Pey05pxhwRF0uaxLA/RP+cPXt2sP9KQ8ZmaL7izJkz3b6Glh1ijGm1KdRP0WdL8MlPfnL13Oc+t3v9i7/4i6t3vvOd3euUP/iDPxg8PhnGH//4x/3UdGRI9K5chlKvdWPIf/RVhVqheVo2tM4Q2t5Q5I+Z9EFwzddNQK/T7cZx6W/6w7Uijkfzom2O2mmd2Hf+Q7Q6Ft100tGKQNvXTUvnrhuwbnYu2k/sU/tPDbvmaZ8izknzho4htJHm+ptuR2he2n+bdEi10npDP8gbN+R8H8dJagKHrtE5I673uepzGnEOx3VvVm7k/aJ5ec7k89Tv6tfIk0CjfDKDQawTbbVueh2Kof3pmLQttR0aSRfalvaVH0Og/cTy9BjmJPrnOPreiVlGAtOLBfaPTf3j9u8QjAT61DgSeNVVV63e+ta3dq9///d/f/UTP/ET3euUV77ylV1hHEPvwsdiqPAG8a47RoFkdjRP7YIYAdC7db2z1zrxSGnMMES7tL22nd589M5f29I2dZ46jnQ0QceuNlquZdqO0H5lyjRPy+KY0uPWzSRGHrRtnV/sK4hzHyJMkY5F+9PrTTe6FBm29Jy0fx1H3Nw0T9vSetJT0zpnrZPqmW9naB1tR9sIHfQ6th2kWoUO+TpC56n5af8cN3Ncg27diH3pbzBHvVq6jsA4U/tnznvZLCbwuIebYTc29c8uiYQJ9KnNBMoQ6Ib753/+5930448/3k1/5jOf6aaDn/u5n+tu3G984xu7G/mFF164uvrqq88zdlo+FttMoCJ99y0ToHlhxGRiNJ2agzj+EsMgg5YavDBZ6fFpWZgVESYwbSfC0KXz4pi0XSFTpHYpMnFqG0jT1BSmaFm6rrYlk7WNIV20nThPnZvWiXMUOo90nqale7odzdM5p+3UJtch+i/MovYtTdN1Qtc8N7RPxUkxxzXo1o3Yl/4Gc9Qr7s37zdT+mfNeNqsJ1M0f9o9N/bNLImECfWozgbfffvvqRS96UT91xK//+q+vrrvuun7qiGc961ndTV839m9961vdxwDiczMyjrsic5Df9HODECYwR6bINQwxqpWOYslQ5SZN6HxjfhxLanxEbtCC1KipjdqOjd4NbVsMmaQwrek5DCFNdRyb1ovjSo23ULttJlN6p+toO3kb7Vfzw0Bq9HDI6Gpb+blL06E+OS5aMoHcm/eTqf0z571sZxOYXihpAsN+MNY/uyQSJtCnJhOoL3voJq0ve8hkRHzsYx/r5qdfEHn+85+/uuyyy/qpI8KglL6zHUJGIDcIsX39FVpHBiVH8xXbCPOUmx611fxNIeJYYnQv0Lwh85YeU4ymaV0ZIZnn9PNyWj60bSEzpDb6eZgIfY5u035TZDpleLWuDJU+hxdaijCBOemxC21Ho6daN410HU0PHU86P22bR7otsenYjos5rkG3bsS+0hq9a71Kjz/dLuwHu/TPnPeyWU0g7B9j/bNLImECfWoygRrNy2/GaaQ39V/+5V/uzGKOflImPv+mv2ORGpAcmYDcRAyZQI285Wh+biJy8ke0KWork6T9DIWIUa2YDnKdgqFj0ja0fxk7tZMmYpMJjPmbYkiLIXTMOkYZaLWLEclNRis9drXVOjrmdERR+07PT+sM6ZDOj+2ErmnkxnzTsR0Xc1yDbt2IfelvsGu9WqqGgMcu/TPnvWxnExjDmXO884f5GeufXRIJE+hTkwmUgXvJS17ST52PRuXSUTc9Rs1Nxze/+c3uRn3rrbd207pxj4Vu9puQodA6KVpf2492WmfIGKSPXoeQedFomgzIEJrvGKr0WALte2i72t6m/Qmdq7YXxkqv8/PPP1OXEtqMPWIeQn0a5i2OIUfLY1R2aJ0wp7kJ3PQ4OMytRiXHNEnRejwO9lBb7s37zS79M+e9bDYTmCavi4pWGv/wD/+w+td//dd+6XbUZttowi6o2L3pTW9a/e7v/m4/Zzs6nrxwL8lY/+ySSJhAn1pM4MMPP9zdoP/4j/+4n3M+cQOPL4h8/OMf76YfeOCBblqEQdCyXZGhSE2F0LWu7cc1r+WaTr+kMDTCp+OKNjIsMhP5tlNiP+l21U6PbdN5+TpC+5LBTEeyho5bj2JTdLxaJwyezFn+OFxGcszcqk26PD1v/c2PS6SGOfovR8erZSLWkR5BfK4y1VTrKNL9hYmNtkNa6bWOKY470LbH+mxu5rgG3boR+0rr9K71apd7Mxw/u/TPnPeynUxgepFMOZEoJnm87GUvW/3hH/7h6tvf/na/5jAqElNMoPa7rY1ubDoWFbcofg5qU7L+cbKtf3ZJJEygTy0m8Ld+67e6/B1DPw79hje8oZ965hrW6OGLX/zi7nX+BZKpDN30dd1qH3H9xjoyDaoFMmkyFZpOTUp6XYYRiTZ5BHFumhejnjJZ6Shcut1A+9Ux6Th0PGqv16mhC8OnY5AZjC/UpKNiep2ORsa554+IU+KY4xjz45PZ0zwdk/ar/cu8hQmL9jk6n9iOtq02OjYdt/7q3HS8aqt5Qq+1P2kWOmheevy5Vgq9zo2u1lPb3HAfJ3Ncg27diH2ldXqXmpP+zuhQ7YdlSXNrSv/MeS+bxQROGc4UacHRCKBull/60pe6/zqggvG6172uWzY3+jD7NhMYx/bkk0/2czzUJi26S7Ktf3ZJJEygTw0m8J/+6Z+6a2LbdRHrpF8Q+frXv96N/N13332rL3zhC/3c3ZExSUeIhMyA9h8GL0ygkLnQtafHobE8UJswRvob5zEUKdp/bHfIfGn91BSmaJnaybjk5yF0jFqmdRT5OmqvepIf9xi5PkPHp/3EPrX/VKtN+1CbdDt6Hceeri/tQ6eohbHuJh2EtjG0vUDbTLU4Cea4Bt26EfvS32CXmhMmcOq9GY6Xbffmbcx5L9vJBMZw5hwmMEcFIb3ota7ic5/73LnXKhbxN11HfPjDH17deOON3QfX4+cqYn39J4R03ZxYFkUsXe+v//qvu2kZ1He/+92rf/zHf+yXHBFtUmIb+p+qX/3qV/u5z/DYY4915yvje/fddw+uM4Vt/bNLImECfWoZCayR1AS2iM4tRtZqY6gWTkWjje5nB+eiZhN4+vTpbntT781wvOzqnea8l+1kAuMCSRO3BBWITSZQ/5hey/7+7/++m5ZBestb3tI9ctJrtZWp0zqpCdQyPa5S6BGO/uWVjlGECYzipBgiluXryVS+8IUvXN18883do5Sf/umf7tb5wQ9+0C0X0UbIIGr62muv7da/6aabuml9zjCI/fzar/1at12d4wte8ILiD3cPsa1/NvWvTNw2xoxNJPgm5kzgEpZqiwk8Plo3gRo506PXqHE1kdbCXdAbZGmQj+4eN7teg6qjbt2IfaW1epeaE8e9qfbDsuzaP3PeyyabwPQCmXoiYYCG0CibPq8SyNzp31TpkVOwyQTq/1AGf/M3f9Oto9E2kbfZRH5sGk3Uu9H/9t/+Wz9n1Y3YaZ30MZGmo/Ddc8893W+ppbz//e/vPj+jx2b6JuUll1zSmcsUtb/yyiv7qWk4/ZP2rwpWjOAptrHNBI69w5kzgUtYqi0m8PjQtZR/eaI1VF/0GbmTNkG7InM+9Ai9BJ2ztrOECZ5yDeZ11K0bQ2+cd6k5sf+p92Y4Pkrus5uY81422QTGiUwdzhRhtGSI9C+qZPDe8573dEZO/4IqzJTQvOc973n91BFDJlDTf/d3f9dNi/jx29jWVBO4iXTbIp2Oz7Fs2ld8+UTfykx59NFHu/n5v+kqwekf/SZcmpBpbGOTsYnCOVZ85kzgEpZqiwkEqA/3GlQN3VRH3box9MZ5l5oT+9dxwf6Q5onuv1OZ81422QTGO5c5TKBG/PSY9ad+6qe619pm/gFzmUBFyiYTmKN5Ycx2MYF/8id/0p3zxRdf3C2LiG2LfPo//+f/3D3K0Iif/q+qHm3Et57jc4+bQp8hnMqm/hkrWGlsY8jYxHa35cScCVzCUm0xgQD1MXYNunV0W93QPqJW63XKLjVHBiOOQdvNtw0nS54v6vN9uZed0owpkSbYVDaZtiGWNoHxm2jqPP2bpvhCSLptkU+Lf/7nf+4MZHwmMM4jTKCOZVNMJfpH3xJTQYgPCruh9cdCn19Mp9N2Q/kyFOmxtRy5Vm6EpgBw8ujeFteg6tXcdTRdT7Uwr4+7Rrp9Yn9CeTTUX0vFpJHA9OLYhU2mbYilTaC+ZJJ/vk+k2xb5dI4eeWsdfcYwvvyizwnOSdo/eq2Id5tuaP2xkLFJp+OdjoPyKn9X5IaK59B8J5Zqm2vlRugDACfPHHV0rG5sq5mb7r8OahvHqxg6NuJkI+/vXft3KnnbSSYwkkp/d2GTaRtiaRN4++23nzf9/e9/f3XnnXd2x/T2t7+9n3v+vvTljttuu617Hbzvfe/r1tFvqwmtc/3113evA7XR/M9//vP9nDLG+sctZNuY8ogziEcVYwVwE/ty4ZRwHI+D9dNJGpFOwyHWneNLBtqGtrXrb7fps7P5tb0L+kattneSvym376iv9FMzQ1/UiFya84sn0n/XL4XMiWpy/h9adN46zk2/XbjpGtR8t47uS72KY3ZCv0wxNN8JjWgOzXeixraOVpvYl9zYyQROuYmnbDJtQ+hizW8UU0zgU0891U3rB6Pz7aXk29I+Xv7yl3e/Zq9RQX0u8L/+1//afbM3PbZ0X/HFD+1LJlIjQvrsY2oalUT6SZjXvva1XTt9JlJt3vve9/ZrlOP2j5J/UyHbxlQTqItC25+aO/ty4ZRwHCYw8jMPfYM98i9FNzoti/WUx7vepOPjDNruLuTXmsvQecrI6Nx0bPAMqlnpry2kxH8RmfN3+LS9of5ZCuWFPpudH5OmlS9DBnjbNRhovU119FDqVVDj+R66VsUmML0w9HoXZKy2jcgFQ+vGvJg/tI7I5+vnYj7ykY+M/n/ToW398Ic/XP3VX/1VVzjiBvr//t//O2/dvJ1Mp6Z1U1K79P+sBvqpmU984hPd8r/8y7/caQSjpH/S/s0L2TamJr/Mn7P9TezLhVPCcZrAFOVZ3NBTg6d80o1ON/m42UX7XXItfsBX20lzvpShc9mGzmOojY5H/6YMnkF9s6mP1P9aJt02maEpaJvq131C14SOK8955cuQAd52DQ6R19FDqVdBjed76FrtZAJh/yjpn02JpG1sY2ryq0DqczJT2ZcLp4STMoEizFF6A9bv6GkUJEXrbXoM5hDGQjdUjTAN3UQ38ad/+qfdozkdo45h6Fx0fJqvESz9TX88XfvW/DjPMLxhaFIDrHW1joj9KlJDpHZaR381f2idIWLbQ5ES20/POUXHq9B6+X5jH6GD1snReWmZQr+Rmq+jpxSb+kdtZIIib1LtxtA+tK/Y71/8xV/0S46IvknPPf391iCWx/npXFLi/EWaN0M6xLqxr6F1hgyfzlnHm6+/671O7Q+lXgU1nu+ha1VsAuNdjv7C/lHSP0skPybQY6oJlMHQ/PRxaIzYjSGjGB9rGIrcuGh78XgxHgs7o0jaj9ZVe52Dbsr6MeD0XLQvjUppmdbRulouoyB0s482Wh7GJY4jJXTSftVG0/GRizgnbU/T2o/2Getq3pgp0jKtl4bMdmq4ZV51LlqWnku63WirftLfWBbHrtFdvdYybSs1xNJE+9Mxx7lpnTA0+jt2Htqn2grtZ9Mj45TonzgntdcxRP+IOG5tT8sVmhf7EkPbydcJDfR5Rm1Py9RHapfmZKyX5lW+jlB7zU8JA5x/hGBXEygOpV4FNZ7voWs12QTqAoH9o6R/lkh+TKCHawLjix4KjX6EkUgNWdxYdZPWa4VuzjI/gUyCtrkp0lGS3FhsuonmRDttL1Bb3bA1P5DpzM1IGLw4Zm0jbSN03oqUWE8GItA+wziJMIE6jlQ3tckNwxgyZ9pOariiP1J0Ltpu7EvLNZ3qN6SV0DFpmyLWSU2h0Dqhk45F66TnFcSy6Ns4/tw45eiYcl20PxmwQNuRxul+pbfmBzrfXJt8nei/VAdtU30V+wsd8vzTtpVLKdHX+Tlq3fxYMIHl1Hi+h65VkQlMLwpM4P5R2j9LJD8m0GPbDShujnnIIOSP3TQ/TIZuoLoBhsEJA1CC9p3f4HVD3jaKFDfgfJ8xOhbodXrTD9L5cf4pOvfUiIhYL0xRkN7047jyfYYpytsOIU2lZxhLoXlqn5s0kc7XcWg6RX2lebl5y42aXsvo5OsFQzoFapcbH5mr9ByGiGMberwbaHneF9FuLOdykxbHP5QzYURjnU1apYRhzPtkKH+3XYMOh1KvghrP99C1mmQCdSOH/aO0f5ZIfkygh2sCc3Rzk0HT47NA66UjYUI3TM3PjY+DzJYMRDoKGccTN+8hNh1zOj+M05Dx0vwwKEPb0nR+Ppv2OWQC0xE8EfO3mUBpKQORaxztN0Ucq44jNyCbjjs/Jh2z+lvztA19Hi41TNJLxi4nzJDWT/tReZOP8g0RxlXrqo0MYWrCtCzvi/zYtb5Gp5VPmp9GrLNJh3R+vN4UeU5qXn5sQ/vBBJZT4/keulZFJlA38BKTASdLaf8skfyYQI+pJlDEsjADm0Z3dAOPm6GWy9htiriRxujKpshHf1I2HXM6P0xgPlIjNL/UBMYjz5w5TaD0kQHLR6KivUbA9DqP6J/0WIJNWqnd0DFpWm3U1+ly6RWPj1M0X+ttilyLIXT8Wk99rjapkdV03hf5sWt9HW/a1zFaGOts0iGdH6/VZijyftG6+bEN7QcTWE6N53voWhWZwLggdHHA/lHaP0skPybQYxcTmN9INUKVjzSJ9Gaom7leb4owLNrW0MiSkLGQscxvuoGOR/vMR2a0zfRc0uMKtM10vv6mbcSQ2Y195gyZwHyfYXjz403R/jQSN7ROGNpthmrIBKqN2obuwab5gXTS8YQZH9JJqJ82GXblioxtCXnO6XWuZ9oXeX8GYU5jO3H8+fmmj2+dx8yB1tG6+ZuMdHsBJrCcGs/30LWyTWB6QWAC948p/bNE8mMCPbbdgDbd3HXz1MhPatSGzEx+03aIG6jaDhHLw/RoWscZN+e48adGLYySItANWeeQmsn8Rh9mKF1nyEyF8chNWrpurJPvU485Ux21Xmpa4hjGNNQ+ZC7S7ao/0nnSIzcgWiYzl37jVvO0Xhy3tqNjDk0CzQuNh3SKeUPGVcTy2G5+3jLt6ccNRJ5jep22EaFzoNd5LkhvzQ9NI8/T/elcZGKj7ZBWQtPp9kUcQ95naT4E265Bh0OpV0GN53voWtkmMH7k133UCCfLlP5ZIvkxgR6uCRwK3UjzG7yMlZbFo0u9zm/S24h95qYjJUyPGLrhxja0jo5FxxrHFmj7Wi4zoxu51tNymZNA62heanjCKKY4N/1YR9vR9mQ4QqN0n3HsgYyIQseXR+gfxiY/l9RIa7up2Qy0b5kbHYuOSdtI+zZMoY5By/X5Pq2TjkyGTul56BiG9heEqQpd8/OWXloe56R95yOLWl/tUkLnQNvXtNrHMcU6Oi8Zy9h3jNSFDnqdG9vQSsekv5rO+1371PwUbUf7yN/cYALLqfF8D10r2wTq5l1qMuDkmNI/SyQ/JtBj2w1IN3fd4PIYM2harpuqbna5SXRQm23t4riEbq56nd6shbYRx6H10zZBtNV6usEPnVcsl1kQWkc385gWY8cQ56Llaqe/2sYmjfLj1OtNke4vPRdFfi6a3qSrlun84zzz8xDptrVuvo7MbmrQtH5+DDmpPvl5C+0jjkuRLx/aR+iQEkZPesdxq13khpapb0Ssu0kHrT+0vRQZyFQLofPQPvLjxQSWU+P5HrpWpzTDibgYdGHA/hH9o/8HPNR/c4eSf2j+tpABVAwtazWmaKV+jD4FnxgxKkHGJExgi8T55SanBlITuCubzN6QMRSpCRy6RluNqbX9EKMFrayRwDneEcHxMbV/on+nMPUdECOBHlxz09Dojx73aSTIpXUTKPQ5Pj1yrY25TKDyQmZP20tRnihfhkYN57gGD6VeBTWe76FrZZnAKY8a4eSY2j9LJD8m0AMTOB2ZOT0CHbqxD6HHnlp/0yPZFpAWMoIaDasJHW98dnMXZPbiM46BNNG2N5l/TGA5NZ7voWtVZAL15QPYP6b2zxLJjwn0wAQCLAsmsJwaz/fQtdpqAtMLQa9hv9ilf5ZIfkygxxw3IACYzhzX4KHUq6DG8z10rYpMIOwfu/TPEsmPCfTgugNYFkxgOTWe76FrtdUExqNG/YX9Y5f+WSL5MYEemECAZcEEllPj+R66VrYJ1AUB+8cu/bNE8mMCPTCBAMuCCSynxvM9dK1GTWD6W2WYwP0jLVKYwO0s1RYTCFAfmMByajzfQ9fKMoG6ccP+EUVqav8skfyYQA9MIMCyYALLqfF8D12rUROom/UuJgOOF/XLLv2zRPJjAj0wgQDLggksp8bzPXStRk1gXAC6GGD/2LV/lkh+TKAHJhBgWTCB5dR4voeuFSawUvTD0EsWKEygDyYQoD4wgeXUeL6HrpVlAvlPIftFagDPnDnTzy1nieTHBHpgAgGWBRNYTo3ne+hajZpAGYy4CHRBKGA5ZP5SAyhDVVvyYwI9MIEAy4IJLKfG8z10rU5pxljERUDsV8igD/XXSYWSf2j+tpABVAwtazWmaJX+PBMAnDypCRy6RluNqbX9EKMFrUZHArWCLgSN3ijigiCWixgNDNRHU9ml7dR3QIwEejASCLAsjASWU+P5HrpWW01gii4KNzSSMTTfiSXaypzcfPPNg8ucOO5j3sRSiYQJ9MEEAtTHHNfgodSroMbzPXStikxgCbW1DRM4lUPSSmACfTCBAPWBCSynxvM9dK0wgT2YwDIwgT6YQID6wASWU+P5HrpWmMAeTGAZmEAfTCBAfWACy6nxfA9dK0xgDyawDEygDyYQoD4wgeXUeL6HrhUmsAcTWAYm0AcTCFAfmMByajzfQ9cKE9iDCSwDE+iDCQSoD0xgOTWe76FrhQnswQSWgQn0wQQC1AcmsJwaz/fQtcIE9mACy8AE+mACAeoDE1hOjed76FphAnswgWVgAn12NYF6DQAnCyawnBrP99C1wgT2YALLwAT6TNUqbkDpvwkEgJMhTCD1yqfG8z10rTCBPZjAMjCBPlO1kvnTTUiaAcDJousOE1hGjed76FphAnswgWVgAn12NYFhBDUywaNhgOND15euuzCACv1v96kcUr0SNZ7voWt1SidBfK0zgIqhZcR8gc5lcffdd5+7GREEcbLx4IMPDl6XBNFKMBLYw0hgGUqeKTASWIb2q9EJ6ZaOThAEcXyh0cAYda+x5ixZr6aCVj5ztsUE9mACy8AE+sxZKOKRsBN6jDU034ml2mrkZWi+E/t2vvE4PwzFUKCVHyelVU6NNWdf6lUJaOUzZ1tMYA8msAxMoA9F1aclrWQoZAKHjEWAVj5o5YNWPoeuFSawBxNYxtTkxwSWUeP5otURmMB1lmqLVj5o5dOCVpjAHkxgGVOTHxNYRo3ni1ZHYALXWaotWvmglU8LWmECezCBZUxNfkxgGTWeL1odgQlcZ6m2aOWDVj4taIUJ7MEEljE1+TGBZdR4vmh1BCZwnaXaopUPWvm0oBUmsAcTWMbU5McEllHj+aLVEZjAdZZqi1Y+aOXTglaYwB5MYBlTkx8TWEaN54tWR2AC11mqLVr5oJVPC1phAnswgWVMTX5MYBk1ni9aHYEJXGeptmjlg1Y+LWiFCezBBJYxNfkxgWXUeL5odQQmcJ2l2qKVD1r5tKAVJrAHE1jG1OTHBJZR4/mi1RGYwHWWaotWPmjl04JWmMAeTGAZU5MfE1hGjeeLVkdgAtdZqi1a+aCVTwtaYQJ7MIFlTE1+TGAZNZ4vWh2BCVxnqbZo5YNWPi1odUoziKc7YyITOLSMWA8l/9D8bSGdFUPLWo2pWh1itKTV2bNnOxOov0PLdw3yyg+08gOt/GhBK0YCexgJLEPJPwVGAsuo8XzR6ghGAtdZqi1a+aCVTwtaYQJ7MIFlTE1+TGAZNZ4vWh2BCVxnqbZo5YNWPi1ohQnswQSWMTX5MYFl1Hi+aHUEJnCdpdqilQ9a+bSgFSawBxNYxtTkxwSWUeP5otURmMB1lmqLVj5o5dOCVpjAHkxgGVOTHxNYRo3ni1ZHYALXWaotWvmglU8LWmECezCBZUxNfkxgGTWeL1odgQlcZ6m2aOWDVj4taIUJ7MEEljE1+TGBZdR4vmh1BCZwnaXaopUPWvm0oBUmsAcTWMbU5McEllHj+aLVEZjAdZZqi1Y+aOXTglaYwB5MYBlTkx8TWEaN54tWR2AC11mqLVr5oJVPC1phAnswgWVMTX5MYBk1ni9aHYEJXGeptmjlg1Y+LWiFCezBBJYxNfkxgWXUeL5odQQmcJ2l2qKVD1r5tKAVJrAHE1jG1OTHBJZR4/mi1RGYwHWWaotWPmjl04JWmMAeTGAZU5MfE1hGjeeLVkdgAtdZqi1a+aCVTwtaYQJ7MIFlTE1+TGAZNZ4vWh2BCVxnqbZo5YNWPi1odUoziKc7YyITOLSMWA8l/9D8bSGdFUPLWo2pWh1itKTV2bNnOxOov0PLdw3yyg+08gOt/GhBK0YCexgJLEPJPwVGAsuo8XzR6ghGAtdZqi1a+aCVTwtaYQJ7MIFlTE1+TGAZNZ4vWh2BCVxnqbZo5YNWPi1ohQnswQSWMTX5MYFl1Hi+aHUEJnCdpdqilQ9a+bSgFSawBxNYxtTkxwSWUeP5otURmMB1lmqLVj5o5dOCVpjAHkxgGVOTHxNYRo3ni1bP8KEPfQgTmLBUW7TyQSufFrTCBPZgAsuYmvyYwDJqPN9Wtbrrrru6+Ku/+qt+zhGf/vSnzy374he/eO71UATf+c53Vh//+MdXr3nNa1ZvfetbV//lv/yX1f/6X/+rX+pBXvmglQ9a+bSgFSawBxNYxtTkxwSWUeP5tqrVI488snr2s5+9uuKKK/o5R1x++eXdfC2XCbzgggs2hnj88cdXl112WTd9ySWXrF7+8pevnvOc56wuvvji1YMPPtit40Be+aCVD1r5tKAVJrAHE1jG1OTHBJZR4/m2rNXv/M7vdObtAx/4QDetv5rWfBEm8Jprrummh7j33nu7dd70pjed268MpEzgr/zKr3TTDuSVD1r5oJVPC1phAnswgWVMTX5MYBk1nm/LWj355JOrl7zkJd3I3xNPPNH9/YVf+IVuvnBM4H333detc+mll66+9KUv9XPLIa980MoHrXxa0AoT2IMJLGNq8mMCy6jxfFvXSl/2kIm75ZZbur8xKihSE5hH+pnAG2+8sVvvwgsvXF133XXdMo0GlkBe+aCVD1r5tKAVJrAHE1jG1OTHBJZR4/keglavfe1rOxOnv2lb1wSK//k//2d3Pbz61a/u2ihkDl3IKx+08kErnxa0wgT2YALLmJr8mMAyajzfQ9BKhk6mTX/Tts7j4JRo+9hjj60uuuiirq2+OOJAXvmglQ9a+bSgFSawBxNYxtTkxwSWUeP5HoJWm0ygHuluM4Fapi+B6LOBadvnP//5mMARdmmLVj5o5dOCVpjAHkxgGVOTHxNYRo3newhaOSZwKLT84YcfPvcTMfqdwDvuuGN17bXXdtM8Dt7MLm3RygetfFrQ6pRmEE93xkQmcGgZsR5K/qH520I6K4aWtRpTtTrEqEUr/SSMDJz+pvM/+9nPdvM3hZan27j11lu7L4bozZF+IzDd1rYgr/xAKz/Qyo8WtGIksIeRwDKU/FNgJLCMGs8XrXzQygetfNDK59C1wgT2YALLKEl+/e/UiDCB6TyFS+ta5dR4vmjlg1Y+aOWDVj6HrhUmsAcTWIab/DJ4r3jFK0YDE7iZGs8XrXzQygetfNDK59C1wgT2YALLKEn+IeMXId1LaF2rnBrPF6180MoHrXzQyufQtcIE9mACyyhJfv2HhSEDqMAEjlPj+aKVD1r5oJUPWvkculaYwB5MYBklyT/2SLjkUbBoXaucGs8XrY5QbusN0Bho5YNWPmjlc+haYQJ7MIFllCb/kAFUlHIIWqXUeL5odUS8+Rl7o4NWPmjlg1Y+h64VJrAHE1hGafIPPRIufRQsDkGrlBrPF62OwASus1RbtPJBK58WtMIE9mACyyhN/iETOHZz3MQhaJVS4/mi1RGYwHWWaotWPmjl04JWmMAeTGAZU5I/N4FTOBStghrPF62OwASus1RbtPJBK58WtMIE9mACy5iS/Olo4JRHweJQtApqPF+0OgITuM5SbdHKB618WtAKE9iDCSxjSvKnJnDsxjjGoWgV1Hi+aHUEJnCdpdqilQ9a+bSgFSawBxNYxtTkDxM4lUPSStR4vmh1BCZwnaXaopUPWvm0oBUmsAcTWMbU5NdooP538FQOSStR4/mi1RGYwHWWaotWPmjl04JWpzSDeLozJjKBQ8uI9VDyD83fFmfOnFmdPXt2cFmrMVWrQ4yWtFKeywQeV76TV36glR9o5UcLWjES2MNIYBlK/lI0CqiQEdToyNgIySYORaugxvNFqyMYCVxnqbZo5YNWPi1ohQnswQSWUZL86RdC8pDuJbSuVU6N54tWR2AC11mqLVr5oJVPC1phAnswgWU4yT9k/qSzIp/vjgq2qtUmajxftDoCE7jOUm3RygetfFrQChPYgwksY1vy5wZQ0zlxkxxbJ6dFrcao8XzR6ghM4DpLtUUrH7TyaUErTGAPJrCMseRPDaB03UY6Mrht/da02kaN54tWR2AC11mqLVr5oJVPC1phAnswgWUMJb8z+reJvO2mG2crWrnUeL5odQQmcJ2l2qKVD1r5tKAVJrAHE1hGnvy7GMAgbppj22hBqxJqPF+0OgITuM5SbdHKB618WtAKE9iDCSwjTf7UAG57nOugbWzaXu1alVLj+aLVEZjAdZZqi1Y+aOXTglaYwB5MYBlK/jlG/zaRbztupLVqNZUazxetjsAErrNUW7TyQSufFrTCBPZgAsu4++67zzNpcxrAIG6i6T5q1Iqi6tOSVpjAdZZqi1Y+aOXTglaYwB5MoE86Spc/rj0OtI/YX43/d5ii6tOSVpjAdZZqi1Y+aOXTglaYwB5M4HbyR7THMfq3iXzfYzfWTSylM0XVpyWtMIHrLNUWrXzQyqcFrTCBPZjAcZY0gEHcVKcew1I6U1R9WtIKE7jOUm3RygetfFrQChPYgwncTGoAT+Lx7zbSx8Mlx7OUzhRVn5a0wgSus1RbtPJBK58WtDqlkyC+1hlAxdCyQ42T+PLHVPKRyQcffHDwHAhiqVBOtpybqg95jSCWibh/UQeJ0mAksIeRwPPJTdY+GcCg9PHwUjrrQpvKPubGNtDqiJZHAvP6QOxPRB9NhXrl04JWmMAeTOAzpAV+Hx7/jqEbrPt4eCmdKao+mECfpbTSN/TjelOtUOgciWUj7ZMa86rGtpjAEWpriwmsY/RvE/mxqyjmLKUzRdUHE+izhFbpdVZTfTgE0r6pLa9EjW0xgSPU1vbQTWBuomos8Om74aFzWEpniqoPJtBnCa02XVuwPGn9qy2vRI1tMYEj1Nb2kE1gagDHHqfWgAqhzmHofJbSmaLqgwn0OWmtUpMB+wcmcBqHrhUmsOcQTeCZM2fOFQ1FS+/uU2OrUIFcSmeKqg8m0OektYo3V7W/UWyVtH9qyqugxraYwBFqa3toJjA3SS0+3knfGStkeqeySx9RVH0wgT5LmcCx84HlSPunprwKamyLCRyhtraHZAKjWCj0umVUEOc43136iKLqgwn0OUmt4ly2nQ8sQ94/teRVSo1tMYEj1Nb2EEzgIYz+bWLo8XAJu/QRRdUHE+izhAls/U1jreT9U0tepdTYFhM4Qm1tWzeBh2wAgyiUUzTYpY8oqj6YQJ+T1Er1UeeCCdxP8v6pJa9SamyLCRyhtrYtm8AoEBTxoxvzFD126SOKqg8m0OcktYrrZexcYDny/qklr1JqbIsJHKG2ti2aQEb/NpNrs+3mtksfUVR9MIE+J6VVnIdzncDJM9Q/NeRVTo1tMYEj1Na2NROIAdxOWjy3abRLH1FUfTCBPielVdSSQ3+KsK8M9U8NeZVTY1tM4Ai1tW3JBOpcwthQuMfRDdrRa5c+oqj6YAJ9TkqruD6oJfvJUP/UkFc5NbZtwgRqBvF090/RZQKHltUSLf/483ET76Yjzp49O6jxlFChGJpPrEdLWimH5s6lNE5Kq7gmxswsLMfcNYt65UcLWjES2KN3UTWPBOYmBgNYTozcDGm4Sx+pUExl6byaAlod0cJIYHpNwP6xqX/2Pa+GqLFtC1phAntqNoHxOECRPhKAclRUh/TcpY8oqj6YQJ+T0CquBerKfrKpf/Y9r4aosS0mcITa2uoiqs0EMvp3fOTa6lHLVCiqPphAn5M0gdSW/WRT/+x7Xg1RY1tM4Ai1ta3NBGIAj5+4ie+qMUXVBxPoc9xapfk/dg6wDGP9s895tYka22ICR6itbU0mMN79KfQajg8V1131pqj6YAJ9TtIEwv4x1j/7nFebqLEtJnCE2trWYAIZ/VuOXPuxG3sORdUHE+hz3FrFmx/eaO4nY/2zz3m1iRrbYgJHqK3tvpvAkzCA//Iv/7J65JFHuhjjBz/4gbXeGH/913/d3Rx1ET355JOr73znO6v/+3//b790mHS/P/7xj/u556P5X//611ePP/54P2c+0nfeJX1AUfVpSatWTODY8Y8R12rEP/zDP6z+9V//tV+6HbW55pprur9zkh7TWOw7Y/2zz3m1iRrbtqAVJrBnn01gXOwKvT4u7rjjjtUNN9yweulLX9rPWeezn/3s6tJLL11dcMEFXej1Bz/4wX6pz1133XVuG2m88pWvXN1zzz39Ws+Q7/fCCy/stpGi6UsuueTcOpdddll3TnOiglvaHxRVH0ygz3FqFce+7fjH2HSNv+xlL1v94R/+4erb3/52v+YwMmJTTKD2O9ZG2xw6rjS0zj6zrX/2Na/GqLEtJnCE2truowk8idG/FBW/T33qU93fb3zjG/3cZ/i3f/u31eWXX75629vetvrKV76yeuqpp1bvete7uvWfeOKJfi2PuEEI3Qy++tWvru6///7V9ddf381PDV7s98Ybb+z2+93vfrdbV+s99NBD3Tqf+MQnzrXTDUDH9uEPf7ibpxvO3OR9M3ajpKj6YAJ9TsIE7vKmM73GNQKo4/3Sl77U1QyZrNe97nXdsrnRm78xE6hlaYQpzOfvM9v6Z1/zaowa27agFSawZ99M4EkbwE9+8pOr5z73ud3rX/zFX1y9853v7F6n/MEf/EF3LDkyjJsez24ivUGkyExq/q//+q/3c472q3m50dQFqMfIIszjD3/4w2462LSfOYhCvK2PKKo+LWlVswlUPdSxz2UCcz7wgQ+cd01rXcXnPve5c69lxOJvuo7QGzy9KdQb0vjoR6yvOpauu40wgTmxPaH9xeuhbefHGjzwwAOr22+/vQu9nott/bOveTVGjW1b0AoT2LNPJjAu8F2LcAlXXXXV6q1vfWv3+vd///dXP/ETP9G9TtGj2rz45aigjkVa0IcKrwq65t999939nKP9qu0YGk38m7/5m37qGd73vvetXvKSl/RT86Mb/Lb+oqj6tGgCx97AHadWu5jPyOexbWxj0zUu9PEOLfv7v//7blrX91ve8pbVi1/84u51GCqtk9YMLXvDG97QxS233NK9YdVxijBiaqO/Cgdtc+g4Y//6uMuVV155rgbF9lPyY/3mN7/Z1a1nP/vZnVmN49Ixz8G2/jnOvBrjOK4jh6XaYgJHqK3tPpjAuGlEHPfoX6BHrCpQf/7nf95NhxH7zGc+000HP/dzP9cVsze+8Y3d5/P0ubyrr776XOETUXw3Rayr11E0I/RoV+f9qle9avWtb32rW09ov7/927+9uummmzbud4hHH3109cIXvnD13ve+t59zfOQjt2lxpqj6tKbVtuv4OLWKXFRty83C2H7TOrTJZDjENT7Eu9/97tUVV1zRTx0ZMZmm++67r5+zbqy0Pa33R3/0R9200Bs/rfPYY49103kbh20m8Jd+6Zf6OUdono4lZehY/8N/+A+rL3/5y9200GuZwqHPPJfg9M9x5tUYx3UdbWOptpjAEWpru7QJTC9sxUkZQKFHFS960Yv6qSP0OPa6667rp4541rOe1RU3PcqRSTtz5szq9a9/fVf8Sr+NGzeIPP7jf/yP3aPp733ve/2az+xXn+3TyIEK/pvf/OZu/U37lQHU8uP4POAm8j4MKKo+rWkVo8SbOE6t0lyMCEM4tt94Q6N1dyGu8S984QvdG0wZvPe85z2d6cq/2KV5z3ve8/qpI4aMlab/7u/+rpsW+ryw5sW28jYO20zg+9///n7OEen+gny/Gjl8+9vf3r1OkTHU/nbB6Z/jzKsxjus62sZSbTGBI9TWdmkTGDeLXQtvKVFE9dkaFbCIj33sY9389Asiz3/+87sPXadE8Ss97ijoOTKAGmlMPzT+ghe8YHXxxRevfvSjH/VzVp0J3bRfjShq2a7vuKeQGsEw8hRVn9a0inxQnup1znFqFXm4KTYdk+bH8l2Ia1wjfhqR/6mf+qnutbYrY5giY5Sbo6gt+is21QzNO04TmG8r3V+Qr6t6pemh2NUEOv3DNehz6Fqd0gzi6dXp06c7Ezi07CQiCvNQUT5ONJo3VKgi0mL3y7/8y51ZzNFPykRhi2K+KaJIbiroIr75q9/7E/q8ot5Z5+h4tM0cfV5IXxRZininrlDfqlDk/U0MR4ta6f9ORz4oVGvmCNWrofkR6T63hdbXcabHumstGrvGc6I+pOTGatP2NC/qVN7GQfsd2u6mbaX7C/J1Naqpb0Freih2IfpHfTWUb7sG9cqPFrRiJLBH76qWHAmMC/skHwMLGbhNX5x4xzvesfr5n//5fmrVfahZn8lL0QegVfxuvfXWblrFcSyiAOr1UOEVYQL1szHizjvv7Ka///3vd9PBRRdddG6/gUYu5yi0uxCjPwrRwrvFEnZp26pWygmF6kwaMl/5PDdUr4bmR0QOOqH1VXvy3N2FsWs8pzYTmH/BI37BINZ9zWtes3Y+c+D2D9egz6FrhQnsURFc0gSmo0e60E+Chx9+uCtcf/zHf9zPOZ/4uZb4gsjHP/7xbjr9qYMozFpWwqaCrsfB+jadzGY8/tXnALWulgV6vWm/KsQlN4G5iRuw/gqKqg9a+WzTKurJplDNyd905rm7C62aQD1pyN8Mx09Uxbr6/KM+95h+flGfZU6PdQpu/3AN+hy6VpjAHl1US5pAkRbokzCCv/VbvzVY/FL0I80qekEUYo0e6ucc9Dr/AolDbGco9F9L/sf/+B/9mkfIeGqZ9rltv1q2S6GdSmrk0z6kqPqglc8UExjGb9N+w2Tk5nAKcY07zGUC9SPxmtZnl/PtbaLUBH70ox/t5scx/+qv/urguhotfM5zntP99Ja+QKcnF3qDuwtu/xxnXo1R43V06FphAnv2wQSmQ/1zFeJN/NM//VNXsPIClxPrpF8Q0Wf1NAKnd7v5B7xdYrtDsQn9j2GZwW373bad40B9lfZdauIpqj5o5eOaQOVmXkuG9pvWnznehJZch0PrxryYP7SOyOdrxO0jH/mI/XRi23aHlunXB7SPP/uzP+vq0qZ19Wb23nvv7T7iEh9vmUpJ/xxnXo1R43V06FphAnv2wQQG8W5PoddzFGQ4PvL+yqGo+qCVzzatxt5EDu03NRmwf5T0z3Hm1Rg1XkeHrhUmsGefTKAYG1mC/SDvo003XYqqD1r5zK1VvJkZeiMDy1PSP/uUVy41tsUEjlBb230zgSJ95zdmMuDkcQ2goKj6oJXPcZlA3nDuJyX9s0955VJjW0zgCLW13UcTGMTFr9BrivSy5P2xDYqqD1r5zKlV+oaT+rJ/lPbPvuRVCTW2xQSOUFvbfTaBIh95olCfPCWjfykUVR+08jkOE+i8qYGTp7R/9iWvSqixLSZwhNra7rsJFOm7wRITArsz1QAKiqoPWvnMqZXqn/IaE7iflPbPvuRVCTW2xQSOUFvbGkxgEAUhigKjgsdLrncpFFUftPKZU6vIb2rJflLaP/uSVyXU2BYTOEJtbWsygSIfmaJ4z88uo38pFFUftPKZS6v0CQN1ZP+Y0j/7kFel1NgWEzhCbW1rM4EiLQ6KqSYF1skN4JkzZ/ol5VBUfdDKZy6tItenjHLD8TOlf/Yhr0qpsS0mcITa2tZoAoXa6tjDrOg17+Z3I9dT7NJHFFUftPKZS6vI98h12C+m9M8+5FUpNbZtwgRqBvH06vTp050JHFpWQ2ikKoyLAiNYztDo35DWpaFCMTSfWA+08mMuragZ+030z9mzZwf7b+7gGvSjBa0YCezRu6xaRwIDHg9PJzeAuXa79JEKxVT2Ia9KQSufpbVKawbsH1P7Z+m8mkKNbVvQChPY04IJDOLxgUKveYc/Tq7XELv0EUXVB6185tAqcn9T3sOyTO2fpfNqCjW2xQSOUFtbXWStmECRj2xhBNfZNvqXsksfUVR90MpnThM4lvuwHFP7Z+m8mkKNbTGBI9TWtjUTKHg8vJkSAyh26SOKqg9a+eyqVVofeJO4f+zSP0vm1VRqbIsJHKG2ti2awCDeTSr0+tALfq6Hwy59RFH1QSufOU0g7B+79M+SeTWVGttiAkeorW3LJlDkI1+HaARLR/9SdukjiqoPWvnsqlW8GXLfCMHJskv/LJlXU6mxLSZwhNratm4CRfrOstQE1c4uBlDs0kcUVR+08pnLBB76k4F9ZZf+WTKvplJjW0zgCLW1PQQTGERxUeh16zeB/HynsEsfUVR90MpnF630m3NxTWAC94/0DTsmcDs1XoP7cr6YwJ5DMoEiHxlr8UaQn+Mu//ptlz6iqPqglc8cJnDqmyI4XsIE8qbVo8ZrcF/OFxPYc2gmUKSjAYqWHg8PPf5dSmeKqg9a+eyilf5Dkq4LTOB+on7ZpX+4Bn0OXStMYM8hmsBoGwUnik7to4Lp+aTGdimdKao+aOWzi1ZxfbT4BKAFdu0frkGfQ9cKE9hzyCZQ5CNnNd4chkb/UpbSmaLqg1Y+mMA2SevYVLgGfQ5dK0xgz6GbQKEbQhQfRW6i9pltBlAspTNF1QetfOYwgTVd44dAWsf4DLNPjdfgvpwvJrAHE/gM6eNUvd730YL0eMduakvpTFH1QSufXbSSwYhrRtc3I4LLorqVGkDVtBrzqsbr6NC1OqUZxNPdB6VlAoeWHWKkN4m4UewbadFU6JiHzmXpUKEYmk+sB1r5satW6bVD7E8sXce4Bv1oQStGAnsYCVxnnx8P5wbQObaldFahmMq+5sYYaOWzpFa6vlX30pF0YrlQDUvrWK15NZUa27agFSawBxO4mfQmoddLkx5PiTFdSmeKqg9a+cypVTwSdkI/LTU034kl2kZtH1rmxHEf8yZayKsSamyLCRyhtraYwHHykbex4nVc5MdQYgDFUjpTVH3QygetPKjtZZBXPpjAEWprS6HYjozfLiZsF3Y1gGIpnSmqPmjlg1Ye1PYyyCsfTOAItbWlUPhIqzBjen3cpPtb6mcTdmlLUfVBKx+08qC2l0Fe+WACR6itLYWijLvvvvucMVMcx+PhodG/GrWiqPqglQ9aeVDbyyCvfDCBI9TWlkJRhpL/OB8Pb3r8W6tWU6nxfNHKB618praltpdBXvm0oBUmsIdCUUaa/NIuzJpe70q6vdxY1q5VKTWeL1r5oJXP1LbU9jLIK58WtMIE9lAoysiTPx+5m/J4eNPoX0oLWpVQ4/milQ9a+UxtS20vg7zyaUErTGAPhaKMoeTf5fGwYwBFK1q51Hi+aOWDVj5T21LbyyCvfFrQChPYQ6EoYyz5pWWYOb3eRrr+NuPYmlbbqPF80coHrXymtqW2l0Fe+bSgFSawh0JRxrbkz0f2hh4Pu6N/KS1qNUaN54tWPmjlM7Uttb0M8sqnBa0wgT0UijKc5M8fDyuksyKf7xhA0apWm6jxfNHKB618praltpdBXvm0oBUmsIdCUUZJ8g+ZvgjX/AWta5VT4/milQ9a+UxtS20vg7zyaUGrUzoJ4mtdkVAMLSN2jwcffLAL/ch0xNB6BEEQcwa1nSA2ByOBPbxbLEPJMxW08kErH7TyOSStqO1lkFc+LWiFCeyhUJRBofBBKx+08kErD2p7GeSVTwtaYQJ7KBRlUCh80MoHrXzQyoPaXgZ55dOCVpjAHgpFGRQKH7TyQSsftPKgtpdBXvm0oBUmsIdCUQaFwgetfNDKB608qO1lkFc+LWiFCeyhUJRBofBBKx+08kErD2p7GeSVTwtaYQJ7KBRlUCh80MoHrXzQyoPaXgZ55dOCVpjAHgpFGRQKH7TyQSsftPKgtpdBXvm0oBUmsIdCUQaFwgetfNDKB608qO1lkFc+LWiFCeyhUJRBofBBKx+08kErD2p7GeSVTwtaYQJ7KBRlUCh80MoHrXzQyoPaXgZ55dOCVpjAHgpFGRQKH7TyQSsftPKgtpdBXvm0oBUmsIdCUQaFwgetfNDKB608qO1lkFc+LWiFCeyhUJRBofBBKx+08kErD2p7GeSVTwtandIM4unV6dOnu0IxtIxYDyX/0HxiPdDKD7TyA628oLaXBXnlRwtaMRLYw7vFMpT8U0ErH7TyQSufQ9KK2l4GeeXTglaYwB4KRRkUCh+08kErH7TyoLaXQV75tKAVJrCHQlEGhcIHrXzQygetPKjtZZBXPi1ohQnsoVCUQaHwQSsftPJBKw9qexnklU8LWmECeygUZVAofNDKB6180MqD2l4GeeXTglaYwB4KRRkUCh+08kErH7TyoLaXQV75tKAVJrCHQlEGhcIHrXzQygetPKjtZZBXPi1ohQnsoVCUQaHwQSsftPJBKw9qexnklU8LWmECeygUZVAofNDKB6180MqD2l4GeeXTglaYwB4KRRkUCh+08kErH7TyoLaXQV75tKAVJrCHQlEGhcIHrXzQygetPKjtZZBXPi1ohQnsoVCUQaHwQSsftPJBKw9qexnklU8LWmECeygUZVAofNDKB6180MqD2l4GeeXTglaYwB4KRRkUCh+08kErH7TyoLaXQV75tKDVKc0gnl6dPn26KxRDy4j1UPIPzSfWA638QCs/0MoLantZkFd+tKAVI4E9vFssQ8k/FbTyQSsftPI5JK2o7WWQVz4taIUJ7KFQlEGh8EErH7TyQSsPansZ5JVPC1phAnsoFGVQKHzQygetfNDKg9peBnnl04JWmMAeCkUZFAoftPJBKx+08qC2l0Fe+bSgFSawh0JRBoXCB6180MoHrTyo7WWQVz4taIUJ7KFQlEGh8EErH7TyQSsPansZ5JVPC1phAnsoFGVQKHzQygetfNDKg9peBnnl04JWmMAeCkUZFAoftPJBKx+08qC2l0Fe+bSgFSawh0JRBoXCB6180MoHrTyo7WWQVz4taIUJ7KFQlEGh8EErH7TyQSsPansZ5JVPC1phAnsoFGVQKHzQygetfNDKg9peBnnl04JWmMAeCkUZFAoftPJBKx+08qC2l0Fe+bSgFSawh0JRBoXCB6180MoHrTyo7WWQVz4taIUJ7KFQlEGh8EErH7TyQSsPansZ5JVPC1qd0gzi6dXp06e7QjG0jFgPJf/QfGI90MoPtPIDrbygtpcFeeVHC1oxEtjDu8UylPxTQSsftPJBK59D0oraXgZ55dOCVpjAHgpFGRQKH7TyQSsftPKgtpdBXvm0oBUmsIdCUQaFwgetfNDKB608qO1lkFc+LWiFCeyhUJRBofBBKx+08kErD2p7GeSVTwtaYQJ7KBRlUCh80MoHrXzQyoPaXgZ55dOCVpjAHgpFGRQKH7TyQSsftPKgtpdBXvm0oBUmsIdCUQaFwgetfNDKB608qO1lkFc+LWiFCeyhUJRBofBBKx+08kErD2p7GeSVTwtaYQJ7KBRlUCh80MoHrXzQyoPaXgZ55dOCVpjAHgpFGRQKH7TyQSsftPKgtpdBXvm0oBUmsIdCUQaFwgetfNDKB608qO1lkFc+LWiFCeyhUJRBofBBKx+08kErD2p7GeSVTwtaYQJ7KBRlUCh80MoHrXzQyoPaXgZ55dOCVpjAHgpFGRQKH7TyQSsftPKgtpdBXvm0oNUpzSCeXp0+fborFEPLiPVQ8g/NryXOnj27OnPmTBeveMUriMLQ9aKQftJySOMpUXtenWSglRfU9rIgr/xoQStGAnt4t1iGkn8qS57vhz70oUFTQ+weuob+9m//9iDzaipo5TO1LbW9DPLKpwWtMIE9FIoyakv+IfOnPtd8hcwL4UfoJg1zXTXyonWmwA3IB608qO1lkFc+mMARamtLoSijluQfMn+aB/MRpjA3hFN05gbkg1Ye1PYyyCsfTOAItbWlUJRRQ/LPYUqgDBnCVHe9LhkV5Abkg1Ye1PYyyCsfTOAItbWlUJSxz8kv04H5WxZpnvaBawS5AfmglQe1vQzyygcTOEJtbSkUZexr8k81HzA/U8w4NyAftPKgtpdBXvlgAkeorS2Foox9TP7UAKo/MYD7gfrCNYLcgHzQyoPaXgZ55YMJHKG2thSKMvYt+dNRJ2fECU6W1AiOmXNuQD5o5UFtL4O88sEEjlBbWwpFGfuW/GEy9Bf2kzCBY33EDcgHrTyo7WWQVz6YwBFqa0uhKGOfkj99DMwj4P3FGa3lBuSDVh7U9jLIKx9M4Ai1taVQlLEvyc9j4LpIDftQf3ED8kErD2p7GeSVDyZwhNraUijK2IfkTw2g+g/qIDWCOdyAfNDKg9peBnnlgwkcoba2FIoy9iH51WebzATsN9Fv+WggNyAftPKgtpdBXvlgAkeorS2Fooylkz8dBeRzgPWxaTSQG5APWnlQ28sgr3yaMIE6CeJrXZFQDC0j9i/UVzIQKvBQJ2EC77777sE+Jog5gtpOEJuDkcAe3i2WoeSZyhzHHAaCUcB6GRoNXDqvprBUW7TyoLaXQV75tKAVJrCHQlHGksmfPgqGuol+jM8GcgPyQSsPansZ5JUPJnCE2tpSKMpYMvnVVzIO+gt1k48GcgPyQSsPansZ5JUPJnCE2tpSKMpYKvnPnj17zjTwKLgNoj9lCLkB+aCVB7W9DPLKBxM4Qm1tKRRlLJX8p0+f7gwDo4DtoL7EBJaDVh7U9jLIKx9M4Ai1taVQlLFU8qejRtAG8UhY1yA3IB+08qC2l0Fe+WACR6itLYWijKVNII+C17nmmmu6qI30c4HcgHzQyoPaXgZ55YMJHKG2thSKMpZIfr4VPE6tJjDtV25APmjlQW0vg7zywQSOUFtbCkUZmMD9o1YTKKJf9cPRU+Ea9DkkrajtZZBXPpjAEWprS6EoY4nkTz87Vitf+cpXVh/84AdXN9xww+rOO+9cPfzww/2SI+66664uxIc//OHVjTfeuHrb2962evzxx7t5wQ9/+MPVn/zJn3Sm7/3vf3+3vGYTqD7FBJbBzdqD2l4GeeWDCRyhtrYUijJ2SX79zMsUajeBDz300Oqiiy5avexlL1u9+c1vXr31rW9dXXDBBecZn2uvvbYzcjKJN910U/dt6Isvvrg77+A73/nO6uUvf/nqsssuW91+++3deq9+9aurNoHRt1NNoNpzDfocklbU9jLIKx9M4Ai1tY2b0FQOSSuxS/JL5zBzJV/w0Ppqp76qkde97nWr17/+9atvf/vb/Zyjkb+f+ZmfWf3oRz/qpn/jN36jM3Ia5Qs+/vGPd2bxscceOzf9rGc967zRwQceeKAJE1hyDapN2o5r0OeQtFJuMMLsQ175YAJHqK1tfN5sqsE4JK3EHCYwDccQ1mwCn3rqqc7I5Y9/H3300W7+X/7lX3bTGgHU9Pe+971uWmjkT/PiMfEdd9yxetGLXtS9Dr7//e9369RqAt3Pe+bGLw2uQZ9D0Spy5cEHH+znlHMoWgXklQ8mcIQa2+rdogrGFJNxaFrNbQLTCEOYm8JYvs0s7iM6Zpm0TXHvvfd26+kx8dVXX929TtE6YQI1mnjVVVd1r1OuvPLKJk3gmPFLg2vQ5xC0ipzRX7TyQSufJkygZhBHoQ49c+bMuZuKPo9FDIc+YzM034nQ1wmtr88Q1v7v4vSFEBm5Rx55ZGOIW2+9tfvMYE5qAjVaKMOXo9HBFkygrkVdh1Ny5ZBil2uw9YicUB5FbU9rPbE50MqPFrRiJDAhXL1uSHr3qBEpN1R4huY7UWNb3YCG5juR3ri3hdZXX4iYV6MJ/O53v9sZOX2Tdwx90ePSSy/tp54hNYG/8zu/s7rkkku618ETTzzRrdOCCdRrRWmucA360bpWqhlpnYjaPoVDvQ9OAa189uV8MYEJJL/PLloN3cDTUAEP45cSy2s0geK2225bXX/99f3UEffdd19n+j7/+c930+985zu7bwPnpCZQnyvUtL4MEmiZDGBrj4NLDCHXoA9a+aCVD1r57Mv5YgITSH6fXbQauoFvMn4psW6tJvD//J//0/2Ui34GRl/ukGGTmXvve9/br7Fa/d7v/d7qJ3/yJ/upZ0hNoNDvB2qeHh3LRP7Kr/xK1SZQfa++3fZTHmOGkGvQB6180MoHrXz25XwxgQkkv88uWsVN2zF+KWm7Wvnxj3+8+vSnP7163/vet/rMZz6z+sY3vtEvOSL9fGDK0HyNBMoYfvnLX+6mN7WtAdcEpuSGkGvQB6180MoHrXz25XwxgQkkv88uWunD2lMIo1CzCYRhwsxN/T03GUKuQR+08kErH7Ty2ZfzxQQmkPw+S2gVJlCGAdpiVxMouAZ90MoHrXzQymdfzhcTmEDy+yyhVZhABbRF9Cs/6utDvfJBKx+08mlBK0xgAsnvs5RWYRZq/XIIDIMJLId65YNWPmjl04JWmMAEkt9nKa3CLPC5wHaQoY9+5Rr0QSsftPJBK58WtMIEJpD8PktppR+MxQS2RfqYn2vQB6180MoHrXxa0AoTmEDy+yylVfxbP74c0g7xpRD95Rr0QSsftPJBK58WtMIEJpD8Pktplf5vZ6if9FGwXnMN+qCVD1r5oJVPC1phAhNIfp8ltQrTwCPh+klHAQXXoA9a+aCVD1r5tKAVJjCB5PdZUit+KqYdoh/j295cgz5o5YNWPmjl04JWpzSDOAp16NB8Yj2W1irMA6OB9ZI+Co5+5Rr0A638QCs/0MqPFrRiJDBBHToVtPKZ45gZDayf/FGw4Br0QSsftPJBK58WtMIEJpD8PvugVZhARgPrI/9CSMA16INWPmjlg1Y+LWiFCUwg+X32QStGA+sl+i0dBRRcgz5o5YNWPmjl04JWmMAEkt9nX7QKM8FoYD3EY2BFOgoouAZ90MoHrXzQyqcFrTCBCSS/z75olY4GYgT3n7S/cgMouAZ90MoHrXzQyqcFrTCBCSS/zz5ptc1YwH6Qfg5wk2HnGvRBKx+08kErnxa0wgQmkPw++6ZV+ogR9pOhbwPncA36oJUPWvmglU8LWmECE0h+n33TKh1lGjMZsAzuaC3XoA9a+aCVD1r5tKAVJjCB5PfZR61So4ER3A9k+NJR2k2PgQOuQR+08kErH7TyaUErTGACye+zr1qlRlDBZwSXIx2dVWwzgIJr0AetfNDKB618WtAKE5hA8vvss1ZTzAfMy1QzzjXog1Y+aOWDVj4taIUJTCD5ffZdq/wxpF4zKnj85Oav9LE816APWvmglQ9a+bSgFSYwgeT3qUWrIVOieRjCecl1VmheKVyDPmjlg1Y+aOXTglaYwASS36cmrfJRwYgwhGEKMYbbCZ1CtyFdz5w5069dDtegD1r5oJUPWvm0oNUpzSCOQh06NJ9Yjxq1Onv27Or06dNrpoWYJ2T+hnQvCa5BP9DKD7TyA638aEErRgIT1KFTQSuffTjfGM3SSNbQaBaxPdJR1JRDzqtS0MoHrXzQyufQtcIEJpD8Pq1qFY8789Ao4tB8Jx588MHB+U7sst/jaOtAXvmglQ9a+aCVz6FrhQlMIPl90MoHrXzQygetfNDKB618WtAKE5hA8vuglQ9a+aCVD1r5oJUPWvm0oBUmMIHk90ErH7TyQSsftPJBKx+08mlBK0xgAsnvg1Y+aOWDVj5o5YNWPmjl04JWmMAEkt8HrXzQygetfNDKB6180MqnBa0wgQkkvw9a+aCVD1r5oJUPWvmglU8LWmECE0h+H7TyQSsftPJBKx+08kErnxa0wgQmkPw+aOWDVj5o5YNWPmjlg1Y+LWiFCUwg+X3QygetfNDKB6180MoHrXxa0AoTmEDy+6CVD1r5oJUPWvmglQ9a+bSgFSYwgeT3QSsftPJBKx+08kErH7TyaUErTGACye+DVj5o5YNWPmjlg1Y+aOXTglanNIM4CnXo0HxiPdDKD7TyA638QCs/0MoPtPKjBa0YCUxQh04FrXzQygetfNDKB6180MoHrXz25XwxgQkkvw9a+aCVD1r5oJUPWvmglU8LWmECE0h+H7TyQSsftPJBKx+08kErnxa0wgQmkPw+aOWDVj5o5YNWPmjlg1Y+LWiFCUwg+X3QygetfNDKB6180MoHrXxa0AoTmEDy+6CVD1r5oJUPWvmglQ9a+bSgFSYwgeT3QSsftPJBKx+08kErH7TyaUErTGACye+DVj5o5YNWPmjlg1Y+aOXTglaYwASS3wetfNDKB6180MoHrXzQyqcFrTCBCSS/D1r5oJUPWvmglQ9a+aCVTwtaYQITSH4ftPJBKx+08kErH7TyQSufFrTCBCaQ/D5o5YNWPmjlg1Y+aOWDVj4taIUJTCD5fdDKB6180MoHrXzQygetfFrQChOYQPL7oJUPWvmglQ9a+aCVD1r5tKDVKZ0EQRAEQRAEcVjBSGCCBJkKWvmglQ9a+aCVD1r5oJUPWvnsy/liAhNIfh+08kErH7TyQSsftPJBK58WtMIEJpD8Pmjlg1Y+aOWDVj5o5YNWPi1ohQlMIPl90MoHrXzQygetfNDKB618WtAKE5hA8vuglQ9a+aCVD1r5oJUPWvm0oBUmMIHk90ErH7TyQSsftPJBKx+08mlBK0xgAsnvg1Y+aOWDVj5o5YNWPmjl04JWmMAEkt8HrXzQygetfNDKB6180MqnBa0wgQkkvw9a+aCVD1r5oJUPWvmglU8LWmECE0h+H7TyQSsftPJBKx+08kErnxa0wgQmkPw+aOWDVj5o5YNWPmjlg1Y+LWiFCUwg+X3QygetfNDKB6180MoHrXxa0AoTmEDy+6CVD1r5oJUPWvmglQ9a+bSgFSYwgeT3QSsftPJBKx+08kErH7TyaUGrU5pBHIU6dGg+sR5o5Qda+YFWfqCVH2jlB1r50YJWjAQmqEOnglY+aOWDVj5o5YNWPmjlg1Y++3K+mMAEkt8HrXzQygetfNDKB6180MqnBa0wgQkkvw9a+aCVD1r5oJUPWvmglU/9Wq1W/x99IGGFhy3MRwAAAABJRU5ErkJggg==)"
      ]
    },
    {
      "cell_type": "markdown",
      "metadata": {
        "id": "Rs-o9RhzuQFf"
      },
      "source": [
        "## **Conclusion**"
      ]
    },
    {
      "cell_type": "markdown",
      "metadata": {
        "id": "SO68ls8nugO8"
      },
      "source": [
        "Based on the Lab work done by the students it signifies that having a fundamental information about matrix is most likely a benefit for the student due to the reason that in this experiment it emphasized the dot product, determinant, transposition, and inverse. Also as the students have also noted the numpy.dot() function is used for performing a certain command in the matrix to perform a martrix multiplication in Python while on the other hand the np.matmul() is a function of an array where it is used to perform the same multiplication. Likewise, Matrix operation do help in taking care of issues in innovation as far as security as it play a significant role in detection of a problem, "
      ]
    }
  ]
}